{
 "cells": [
  {
   "cell_type": "markdown",
   "metadata": {},
   "source": [
    "### 100,000 UK Used Car Data set\n",
    "https://www.kaggle.com/adityadesai13/used-car-dataset-ford-and-mercedes\n",
    "\n",
    "\n",
    "1. Выбрать набор данных для своей группы: <br>\n",
    "    3530203_70301: Mercedes<br>\n",
    "    3530203_70302: Ford <br>\n",
    "    3530903_70101: BMW <br>\n",
    "    3530903_70102: Audi <br>\n",
    "    \n",
    "2. Разбить данные на тренировочные и тестовые (70% на 30%, random_state=10).\n",
    "3. Применить доступные способы предобработки данных.\n",
    "4. Попытаться обучить регрессию для предсказания цены автомобиля c наилучшим качеством. Качество оценивать по метрике RMSE на тестовой подвыборке. Попробовать различные модели регуляризации (и не только).\n"
   ]
  },
  {
   "cell_type": "code",
   "execution_count": 1,
   "metadata": {},
   "outputs": [],
   "source": [
    "import pandas as pd\n",
    "import numpy as np\n",
    "import matplotlib.pyplot as plt\n",
    "import sklearn.metrics as metrics\n",
    "from sklearn.model_selection import train_test_split\n",
    "from sklearn.linear_model import LinearRegression, Lasso, Ridge, LassoCV, RidgeCV\n",
    "from sklearn.preprocessing import StandardScaler\n",
    "import seaborn as sns\n",
    "from sklearn.model_selection import train_test_split\n"
   ]
  },
  {
   "cell_type": "code",
   "execution_count": 2,
   "metadata": {},
   "outputs": [
    {
     "data": {
      "text/plain": "           model  year  price transmission  mileage fuelType  tax   mpg  \\\n0       5 Series  2014  11200    Automatic    67068   Diesel  125  57.6   \n1       6 Series  2018  27000    Automatic    14827   Petrol  145  42.8   \n2       5 Series  2016  16000    Automatic    62794   Diesel  160  51.4   \n3       1 Series  2017  12750    Automatic    26676   Diesel  145  72.4   \n4       7 Series  2014  14500    Automatic    39554   Diesel  160  50.4   \n...          ...   ...    ...          ...      ...      ...  ...   ...   \n10776         X3  2016  19000    Automatic    40818   Diesel  150  54.3   \n10777   5 Series  2016  14600    Automatic    42947   Diesel  125  60.1   \n10778   3 Series  2017  13100       Manual    25468   Petrol  200  42.8   \n10779   1 Series  2014   9930    Automatic    45000   Diesel   30  64.2   \n10780         X1  2017  15981    Automatic    59432   Diesel  125  57.6   \n\n       engineSize  \n0             2.0  \n1             2.0  \n2             3.0  \n3             1.5  \n4             3.0  \n...           ...  \n10776         2.0  \n10777         2.0  \n10778         2.0  \n10779         2.0  \n10780         2.0  \n\n[10781 rows x 9 columns]",
      "text/html": "<div>\n<style scoped>\n    .dataframe tbody tr th:only-of-type {\n        vertical-align: middle;\n    }\n\n    .dataframe tbody tr th {\n        vertical-align: top;\n    }\n\n    .dataframe thead th {\n        text-align: right;\n    }\n</style>\n<table border=\"1\" class=\"dataframe\">\n  <thead>\n    <tr style=\"text-align: right;\">\n      <th></th>\n      <th>model</th>\n      <th>year</th>\n      <th>price</th>\n      <th>transmission</th>\n      <th>mileage</th>\n      <th>fuelType</th>\n      <th>tax</th>\n      <th>mpg</th>\n      <th>engineSize</th>\n    </tr>\n  </thead>\n  <tbody>\n    <tr>\n      <th>0</th>\n      <td>5 Series</td>\n      <td>2014</td>\n      <td>11200</td>\n      <td>Automatic</td>\n      <td>67068</td>\n      <td>Diesel</td>\n      <td>125</td>\n      <td>57.6</td>\n      <td>2.0</td>\n    </tr>\n    <tr>\n      <th>1</th>\n      <td>6 Series</td>\n      <td>2018</td>\n      <td>27000</td>\n      <td>Automatic</td>\n      <td>14827</td>\n      <td>Petrol</td>\n      <td>145</td>\n      <td>42.8</td>\n      <td>2.0</td>\n    </tr>\n    <tr>\n      <th>2</th>\n      <td>5 Series</td>\n      <td>2016</td>\n      <td>16000</td>\n      <td>Automatic</td>\n      <td>62794</td>\n      <td>Diesel</td>\n      <td>160</td>\n      <td>51.4</td>\n      <td>3.0</td>\n    </tr>\n    <tr>\n      <th>3</th>\n      <td>1 Series</td>\n      <td>2017</td>\n      <td>12750</td>\n      <td>Automatic</td>\n      <td>26676</td>\n      <td>Diesel</td>\n      <td>145</td>\n      <td>72.4</td>\n      <td>1.5</td>\n    </tr>\n    <tr>\n      <th>4</th>\n      <td>7 Series</td>\n      <td>2014</td>\n      <td>14500</td>\n      <td>Automatic</td>\n      <td>39554</td>\n      <td>Diesel</td>\n      <td>160</td>\n      <td>50.4</td>\n      <td>3.0</td>\n    </tr>\n    <tr>\n      <th>...</th>\n      <td>...</td>\n      <td>...</td>\n      <td>...</td>\n      <td>...</td>\n      <td>...</td>\n      <td>...</td>\n      <td>...</td>\n      <td>...</td>\n      <td>...</td>\n    </tr>\n    <tr>\n      <th>10776</th>\n      <td>X3</td>\n      <td>2016</td>\n      <td>19000</td>\n      <td>Automatic</td>\n      <td>40818</td>\n      <td>Diesel</td>\n      <td>150</td>\n      <td>54.3</td>\n      <td>2.0</td>\n    </tr>\n    <tr>\n      <th>10777</th>\n      <td>5 Series</td>\n      <td>2016</td>\n      <td>14600</td>\n      <td>Automatic</td>\n      <td>42947</td>\n      <td>Diesel</td>\n      <td>125</td>\n      <td>60.1</td>\n      <td>2.0</td>\n    </tr>\n    <tr>\n      <th>10778</th>\n      <td>3 Series</td>\n      <td>2017</td>\n      <td>13100</td>\n      <td>Manual</td>\n      <td>25468</td>\n      <td>Petrol</td>\n      <td>200</td>\n      <td>42.8</td>\n      <td>2.0</td>\n    </tr>\n    <tr>\n      <th>10779</th>\n      <td>1 Series</td>\n      <td>2014</td>\n      <td>9930</td>\n      <td>Automatic</td>\n      <td>45000</td>\n      <td>Diesel</td>\n      <td>30</td>\n      <td>64.2</td>\n      <td>2.0</td>\n    </tr>\n    <tr>\n      <th>10780</th>\n      <td>X1</td>\n      <td>2017</td>\n      <td>15981</td>\n      <td>Automatic</td>\n      <td>59432</td>\n      <td>Diesel</td>\n      <td>125</td>\n      <td>57.6</td>\n      <td>2.0</td>\n    </tr>\n  </tbody>\n</table>\n<p>10781 rows × 9 columns</p>\n</div>"
     },
     "execution_count": 2,
     "metadata": {},
     "output_type": "execute_result"
    }
   ],
   "source": [
    "auto_data = pd.read_csv(\"bmw.csv\")\n",
    "auto_data"
   ]
  },
  {
   "cell_type": "markdown",
   "source": [
    "## Data preprocessing"
   ],
   "metadata": {
    "collapsed": false
   }
  },
  {
   "cell_type": "code",
   "execution_count": 5,
   "outputs": [
    {
     "name": "stdout",
     "output_type": "stream",
     "text": [
      "<class 'pandas.core.frame.DataFrame'>\n",
      "RangeIndex: 10781 entries, 0 to 10780\n",
      "Data columns (total 9 columns):\n",
      " #   Column        Non-Null Count  Dtype  \n",
      "---  ------        --------------  -----  \n",
      " 0   model         10781 non-null  object \n",
      " 1   year          10781 non-null  int64  \n",
      " 2   price         10781 non-null  int64  \n",
      " 3   transmission  10781 non-null  object \n",
      " 4   mileage       10781 non-null  int64  \n",
      " 5   fuelType      10781 non-null  object \n",
      " 6   tax           10781 non-null  int64  \n",
      " 7   mpg           10781 non-null  float64\n",
      " 8   engineSize    10781 non-null  float64\n",
      "dtypes: float64(2), int64(4), object(3)\n",
      "memory usage: 758.2+ KB\n"
     ]
    }
   ],
   "source": [
    "auto_data.info()"
   ],
   "metadata": {
    "collapsed": false,
    "pycharm": {
     "name": "#%%\n"
    }
   }
  },
  {
   "cell_type": "markdown",
   "source": [
    "Нет null значений"
   ],
   "metadata": {
    "collapsed": false
   }
  },
  {
   "cell_type": "code",
   "execution_count": 6,
   "outputs": [
    {
     "data": {
      "text/plain": "               year          price        mileage           tax           mpg  \\\ncount  10781.000000   10781.000000   10781.000000  10781.000000  10781.000000   \nmean    2017.078935   22733.408867   25496.986550    131.702068     56.399035   \nstd        2.349038   11415.528189   25143.192559     61.510755     31.336958   \nmin     1996.000000    1200.000000       1.000000      0.000000      5.500000   \n25%     2016.000000   14950.000000    5529.000000    135.000000     45.600000   \n50%     2017.000000   20462.000000   18347.000000    145.000000     53.300000   \n75%     2019.000000   27940.000000   38206.000000    145.000000     62.800000   \nmax     2020.000000  123456.000000  214000.000000    580.000000    470.800000   \n\n         engineSize  \ncount  10781.000000  \nmean       2.167767  \nstd        0.552054  \nmin        0.000000  \n25%        2.000000  \n50%        2.000000  \n75%        2.000000  \nmax        6.600000  ",
      "text/html": "<div>\n<style scoped>\n    .dataframe tbody tr th:only-of-type {\n        vertical-align: middle;\n    }\n\n    .dataframe tbody tr th {\n        vertical-align: top;\n    }\n\n    .dataframe thead th {\n        text-align: right;\n    }\n</style>\n<table border=\"1\" class=\"dataframe\">\n  <thead>\n    <tr style=\"text-align: right;\">\n      <th></th>\n      <th>year</th>\n      <th>price</th>\n      <th>mileage</th>\n      <th>tax</th>\n      <th>mpg</th>\n      <th>engineSize</th>\n    </tr>\n  </thead>\n  <tbody>\n    <tr>\n      <th>count</th>\n      <td>10781.000000</td>\n      <td>10781.000000</td>\n      <td>10781.000000</td>\n      <td>10781.000000</td>\n      <td>10781.000000</td>\n      <td>10781.000000</td>\n    </tr>\n    <tr>\n      <th>mean</th>\n      <td>2017.078935</td>\n      <td>22733.408867</td>\n      <td>25496.986550</td>\n      <td>131.702068</td>\n      <td>56.399035</td>\n      <td>2.167767</td>\n    </tr>\n    <tr>\n      <th>std</th>\n      <td>2.349038</td>\n      <td>11415.528189</td>\n      <td>25143.192559</td>\n      <td>61.510755</td>\n      <td>31.336958</td>\n      <td>0.552054</td>\n    </tr>\n    <tr>\n      <th>min</th>\n      <td>1996.000000</td>\n      <td>1200.000000</td>\n      <td>1.000000</td>\n      <td>0.000000</td>\n      <td>5.500000</td>\n      <td>0.000000</td>\n    </tr>\n    <tr>\n      <th>25%</th>\n      <td>2016.000000</td>\n      <td>14950.000000</td>\n      <td>5529.000000</td>\n      <td>135.000000</td>\n      <td>45.600000</td>\n      <td>2.000000</td>\n    </tr>\n    <tr>\n      <th>50%</th>\n      <td>2017.000000</td>\n      <td>20462.000000</td>\n      <td>18347.000000</td>\n      <td>145.000000</td>\n      <td>53.300000</td>\n      <td>2.000000</td>\n    </tr>\n    <tr>\n      <th>75%</th>\n      <td>2019.000000</td>\n      <td>27940.000000</td>\n      <td>38206.000000</td>\n      <td>145.000000</td>\n      <td>62.800000</td>\n      <td>2.000000</td>\n    </tr>\n    <tr>\n      <th>max</th>\n      <td>2020.000000</td>\n      <td>123456.000000</td>\n      <td>214000.000000</td>\n      <td>580.000000</td>\n      <td>470.800000</td>\n      <td>6.600000</td>\n    </tr>\n  </tbody>\n</table>\n</div>"
     },
     "execution_count": 6,
     "metadata": {},
     "output_type": "execute_result"
    }
   ],
   "source": [
    "auto_data.describe()"
   ],
   "metadata": {
    "collapsed": false,
    "pycharm": {
     "name": "#%%\n"
    }
   }
  },
  {
   "cell_type": "markdown",
   "source": [
    "* `year` -- реалистично\n",
    "* `price=1200` -- неправдоподобно\n",
    "* `price=123456` -- надо проверить\n",
    "* `mpg=470.8` -- вероятно выброс (кол-во миль на галон)\n",
    "* `mileage=1` -- реалистичный пробег, машина с завода\n",
    "* `tax=0` -- наверное, корректное значение\n",
    "* `engineSize=0` -- пустое значение\n",
    "* `engineSize=6.6` -- реалистично, проверили, есть, например, у BMW 7-series"
   ],
   "metadata": {
    "collapsed": false
   }
  },
  {
   "cell_type": "code",
   "execution_count": 3,
   "outputs": [
    {
     "data": {
      "text/plain": "47"
     },
     "execution_count": 3,
     "metadata": {},
     "output_type": "execute_result"
    }
   ],
   "source": [
    "zero_engine = auto_data[auto_data['engineSize'] == 0]\n",
    "len(zero_engine)"
   ],
   "metadata": {
    "collapsed": false,
    "pycharm": {
     "name": "#%%\n"
    }
   }
  },
  {
   "cell_type": "code",
   "execution_count": 4,
   "outputs": [],
   "source": [
    "auto_data.drop(zero_engine.index, inplace=True)"
   ],
   "metadata": {
    "collapsed": false,
    "pycharm": {
     "name": "#%%\n"
    }
   }
  },
  {
   "cell_type": "code",
   "execution_count": 5,
   "outputs": [
    {
     "data": {
      "text/plain": "          model  year  price transmission  mileage fuelType  tax   mpg  \\\n9585   7 Series  2017  52950    Automatic    22000   Petrol  150  22.1   \n9799   7 Series  2017  57000    Automatic    11297   Petrol  145  22.1   \n\n      engineSize  \n9585         6.6  \n9799         6.6  ",
      "text/html": "<div>\n<style scoped>\n    .dataframe tbody tr th:only-of-type {\n        vertical-align: middle;\n    }\n\n    .dataframe tbody tr th {\n        vertical-align: top;\n    }\n\n    .dataframe thead th {\n        text-align: right;\n    }\n</style>\n<table border=\"1\" class=\"dataframe\">\n  <thead>\n    <tr style=\"text-align: right;\">\n      <th></th>\n      <th>model</th>\n      <th>year</th>\n      <th>price</th>\n      <th>transmission</th>\n      <th>mileage</th>\n      <th>fuelType</th>\n      <th>tax</th>\n      <th>mpg</th>\n      <th>engineSize</th>\n    </tr>\n  </thead>\n  <tbody>\n    <tr>\n      <th>9585</th>\n      <td>7 Series</td>\n      <td>2017</td>\n      <td>52950</td>\n      <td>Automatic</td>\n      <td>22000</td>\n      <td>Petrol</td>\n      <td>150</td>\n      <td>22.1</td>\n      <td>6.6</td>\n    </tr>\n    <tr>\n      <th>9799</th>\n      <td>7 Series</td>\n      <td>2017</td>\n      <td>57000</td>\n      <td>Automatic</td>\n      <td>11297</td>\n      <td>Petrol</td>\n      <td>145</td>\n      <td>22.1</td>\n      <td>6.6</td>\n    </tr>\n  </tbody>\n</table>\n</div>"
     },
     "execution_count": 5,
     "metadata": {},
     "output_type": "execute_result"
    }
   ],
   "source": [
    "max_engine = auto_data[auto_data['engineSize'] == 6.6]\n",
    "max_engine"
   ],
   "metadata": {
    "collapsed": false,
    "pycharm": {
     "name": "#%%\n"
    }
   }
  },
  {
   "cell_type": "markdown",
   "source": [
    "Все хорошо, у этой модели есть такой модели есть такой объем двигателя"
   ],
   "metadata": {
    "collapsed": false
   }
  },
  {
   "cell_type": "code",
   "execution_count": 6,
   "outputs": [
    {
     "data": {
      "text/plain": "          model  year   price transmission  mileage fuelType  tax   mpg  \\\n721    8 Series  2019   84898    Semi-Auto     3185   Petrol  145  24.4   \n1813   8 Series  2019   88980    Semi-Auto       88   Petrol  145  24.4   \n2909         M4  2017   89990    Semi-Auto     1336   Petrol  145  33.2   \n3638   2 Series  2015  123456    Semi-Auto    33419   Diesel   20  68.9   \n4776         M5  2019   89900    Semi-Auto     2269   Petrol  145  24.1   \n5362         M4  2016   99950    Automatic      771   Petrol  300  33.2   \n5877         M5  2019   81140    Semi-Auto      551   Petrol  145  24.1   \n\n      engineSize  \n721          4.4  \n1813         4.4  \n2909         3.0  \n3638         2.0  \n4776         4.4  \n5362         3.0  \n5877         4.4  ",
      "text/html": "<div>\n<style scoped>\n    .dataframe tbody tr th:only-of-type {\n        vertical-align: middle;\n    }\n\n    .dataframe tbody tr th {\n        vertical-align: top;\n    }\n\n    .dataframe thead th {\n        text-align: right;\n    }\n</style>\n<table border=\"1\" class=\"dataframe\">\n  <thead>\n    <tr style=\"text-align: right;\">\n      <th></th>\n      <th>model</th>\n      <th>year</th>\n      <th>price</th>\n      <th>transmission</th>\n      <th>mileage</th>\n      <th>fuelType</th>\n      <th>tax</th>\n      <th>mpg</th>\n      <th>engineSize</th>\n    </tr>\n  </thead>\n  <tbody>\n    <tr>\n      <th>721</th>\n      <td>8 Series</td>\n      <td>2019</td>\n      <td>84898</td>\n      <td>Semi-Auto</td>\n      <td>3185</td>\n      <td>Petrol</td>\n      <td>145</td>\n      <td>24.4</td>\n      <td>4.4</td>\n    </tr>\n    <tr>\n      <th>1813</th>\n      <td>8 Series</td>\n      <td>2019</td>\n      <td>88980</td>\n      <td>Semi-Auto</td>\n      <td>88</td>\n      <td>Petrol</td>\n      <td>145</td>\n      <td>24.4</td>\n      <td>4.4</td>\n    </tr>\n    <tr>\n      <th>2909</th>\n      <td>M4</td>\n      <td>2017</td>\n      <td>89990</td>\n      <td>Semi-Auto</td>\n      <td>1336</td>\n      <td>Petrol</td>\n      <td>145</td>\n      <td>33.2</td>\n      <td>3.0</td>\n    </tr>\n    <tr>\n      <th>3638</th>\n      <td>2 Series</td>\n      <td>2015</td>\n      <td>123456</td>\n      <td>Semi-Auto</td>\n      <td>33419</td>\n      <td>Diesel</td>\n      <td>20</td>\n      <td>68.9</td>\n      <td>2.0</td>\n    </tr>\n    <tr>\n      <th>4776</th>\n      <td>M5</td>\n      <td>2019</td>\n      <td>89900</td>\n      <td>Semi-Auto</td>\n      <td>2269</td>\n      <td>Petrol</td>\n      <td>145</td>\n      <td>24.1</td>\n      <td>4.4</td>\n    </tr>\n    <tr>\n      <th>5362</th>\n      <td>M4</td>\n      <td>2016</td>\n      <td>99950</td>\n      <td>Automatic</td>\n      <td>771</td>\n      <td>Petrol</td>\n      <td>300</td>\n      <td>33.2</td>\n      <td>3.0</td>\n    </tr>\n    <tr>\n      <th>5877</th>\n      <td>M5</td>\n      <td>2019</td>\n      <td>81140</td>\n      <td>Semi-Auto</td>\n      <td>551</td>\n      <td>Petrol</td>\n      <td>145</td>\n      <td>24.1</td>\n      <td>4.4</td>\n    </tr>\n  </tbody>\n</table>\n</div>"
     },
     "execution_count": 6,
     "metadata": {},
     "output_type": "execute_result"
    }
   ],
   "source": [
    "auto_data_max_price = auto_data[auto_data['price'] > 80000.0]\n",
    "auto_data_max_price"
   ],
   "metadata": {
    "collapsed": false,
    "pycharm": {
     "name": "#%%\n"
    }
   }
  },
  {
   "cell_type": "markdown",
   "source": [
    "123456 - это **выброс** исходя из ее характеристик"
   ],
   "metadata": {
    "collapsed": false
   }
  },
  {
   "cell_type": "code",
   "execution_count": 7,
   "outputs": [],
   "source": [
    "auto_data_price = auto_data[auto_data['price'] == 123456.0]\n",
    "auto_data.drop(auto_data_price.index, inplace=True)"
   ],
   "metadata": {
    "collapsed": false,
    "pycharm": {
     "name": "#%%\n"
    }
   }
  },
  {
   "cell_type": "code",
   "execution_count": 8,
   "outputs": [
    {
     "data": {
      "text/plain": "          model  year  price transmission  mileage fuelType  tax   mpg  \\\n9744   3 Series  1999   1200    Automatic    82000   Petrol  245  31.0   \n\n      engineSize  \n9744         2.8  ",
      "text/html": "<div>\n<style scoped>\n    .dataframe tbody tr th:only-of-type {\n        vertical-align: middle;\n    }\n\n    .dataframe tbody tr th {\n        vertical-align: top;\n    }\n\n    .dataframe thead th {\n        text-align: right;\n    }\n</style>\n<table border=\"1\" class=\"dataframe\">\n  <thead>\n    <tr style=\"text-align: right;\">\n      <th></th>\n      <th>model</th>\n      <th>year</th>\n      <th>price</th>\n      <th>transmission</th>\n      <th>mileage</th>\n      <th>fuelType</th>\n      <th>tax</th>\n      <th>mpg</th>\n      <th>engineSize</th>\n    </tr>\n  </thead>\n  <tbody>\n    <tr>\n      <th>9744</th>\n      <td>3 Series</td>\n      <td>1999</td>\n      <td>1200</td>\n      <td>Automatic</td>\n      <td>82000</td>\n      <td>Petrol</td>\n      <td>245</td>\n      <td>31.0</td>\n      <td>2.8</td>\n    </tr>\n  </tbody>\n</table>\n</div>"
     },
     "execution_count": 8,
     "metadata": {},
     "output_type": "execute_result"
    }
   ],
   "source": [
    "auto_data_min_price = auto_data[auto_data['price'] == 1200.0]\n",
    "auto_data_min_price"
   ],
   "metadata": {
    "collapsed": false,
    "pycharm": {
     "name": "#%%\n"
    }
   }
  },
  {
   "cell_type": "markdown",
   "source": [
    "Исходя из характеристик, считаем, что цена оправдана"
   ],
   "metadata": {
    "collapsed": false
   }
  },
  {
   "cell_type": "code",
   "execution_count": 9,
   "outputs": [
    {
     "data": {
      "text/plain": "      model  year  price transmission  mileage  fuelType  tax    mpg  \\\n32       i3  2016  17100    Automatic    25269     Other    0  470.8   \n8188     i3  2015  14940    Automatic    59000     Other    0  470.8   \n8620     i3  2017  19300    Automatic    32867     Other    0  470.8   \n8835     i3  2015  17400    Automatic    29465  Electric    0  470.8   \n10080    i3  2017  20000    Automatic    19178     Other    0  470.8   \n10086    i3  2017  19500    Automatic    23956     Other  135  470.8   \n10325    i3  2016  17000    Automatic    41063     Other    0  470.8   \n10530    i3  2017  17600    Automatic    50867     Other  135  470.8   \n\n       engineSize  \n32            0.6  \n8188          0.6  \n8620          0.6  \n8835          1.0  \n10080         0.6  \n10086         0.6  \n10325         0.6  \n10530         0.6  ",
      "text/html": "<div>\n<style scoped>\n    .dataframe tbody tr th:only-of-type {\n        vertical-align: middle;\n    }\n\n    .dataframe tbody tr th {\n        vertical-align: top;\n    }\n\n    .dataframe thead th {\n        text-align: right;\n    }\n</style>\n<table border=\"1\" class=\"dataframe\">\n  <thead>\n    <tr style=\"text-align: right;\">\n      <th></th>\n      <th>model</th>\n      <th>year</th>\n      <th>price</th>\n      <th>transmission</th>\n      <th>mileage</th>\n      <th>fuelType</th>\n      <th>tax</th>\n      <th>mpg</th>\n      <th>engineSize</th>\n    </tr>\n  </thead>\n  <tbody>\n    <tr>\n      <th>32</th>\n      <td>i3</td>\n      <td>2016</td>\n      <td>17100</td>\n      <td>Automatic</td>\n      <td>25269</td>\n      <td>Other</td>\n      <td>0</td>\n      <td>470.8</td>\n      <td>0.6</td>\n    </tr>\n    <tr>\n      <th>8188</th>\n      <td>i3</td>\n      <td>2015</td>\n      <td>14940</td>\n      <td>Automatic</td>\n      <td>59000</td>\n      <td>Other</td>\n      <td>0</td>\n      <td>470.8</td>\n      <td>0.6</td>\n    </tr>\n    <tr>\n      <th>8620</th>\n      <td>i3</td>\n      <td>2017</td>\n      <td>19300</td>\n      <td>Automatic</td>\n      <td>32867</td>\n      <td>Other</td>\n      <td>0</td>\n      <td>470.8</td>\n      <td>0.6</td>\n    </tr>\n    <tr>\n      <th>8835</th>\n      <td>i3</td>\n      <td>2015</td>\n      <td>17400</td>\n      <td>Automatic</td>\n      <td>29465</td>\n      <td>Electric</td>\n      <td>0</td>\n      <td>470.8</td>\n      <td>1.0</td>\n    </tr>\n    <tr>\n      <th>10080</th>\n      <td>i3</td>\n      <td>2017</td>\n      <td>20000</td>\n      <td>Automatic</td>\n      <td>19178</td>\n      <td>Other</td>\n      <td>0</td>\n      <td>470.8</td>\n      <td>0.6</td>\n    </tr>\n    <tr>\n      <th>10086</th>\n      <td>i3</td>\n      <td>2017</td>\n      <td>19500</td>\n      <td>Automatic</td>\n      <td>23956</td>\n      <td>Other</td>\n      <td>135</td>\n      <td>470.8</td>\n      <td>0.6</td>\n    </tr>\n    <tr>\n      <th>10325</th>\n      <td>i3</td>\n      <td>2016</td>\n      <td>17000</td>\n      <td>Automatic</td>\n      <td>41063</td>\n      <td>Other</td>\n      <td>0</td>\n      <td>470.8</td>\n      <td>0.6</td>\n    </tr>\n    <tr>\n      <th>10530</th>\n      <td>i3</td>\n      <td>2017</td>\n      <td>17600</td>\n      <td>Automatic</td>\n      <td>50867</td>\n      <td>Other</td>\n      <td>135</td>\n      <td>470.8</td>\n      <td>0.6</td>\n    </tr>\n  </tbody>\n</table>\n</div>"
     },
     "execution_count": 9,
     "metadata": {},
     "output_type": "execute_result"
    }
   ],
   "source": [
    "auto_data_mpg = auto_data[auto_data['mpg'] > 400.0]\n",
    "auto_data_mpg"
   ],
   "metadata": {
    "collapsed": false,
    "pycharm": {
     "name": "#%%\n"
    }
   }
  },
  {
   "cell_type": "markdown",
   "source": [
    "Проверено, все сходится https://www.honestjohn.co.uk/realmpg/bmw/i3-2013"
   ],
   "metadata": {
    "collapsed": false
   }
  },
  {
   "cell_type": "code",
   "execution_count": 10,
   "outputs": [
    {
     "data": {
      "text/plain": "<AxesSubplot:>"
     },
     "execution_count": 10,
     "metadata": {},
     "output_type": "execute_result"
    },
    {
     "data": {
      "text/plain": "<Figure size 432x288 with 1 Axes>",
      "image/png": "[encoded data removed]"
     },
     "metadata": {
      "needs_background": "light"
     },
     "output_type": "display_data"
    }
   ],
   "source": [
    "auto_data.mileage.hist()"
   ],
   "metadata": {
    "collapsed": false,
    "pycharm": {
     "name": "#%%\n"
    }
   }
  },
  {
   "cell_type": "markdown",
   "source": [
    "Распределение выглядит реалистично"
   ],
   "metadata": {
    "collapsed": false
   }
  },
  {
   "cell_type": "code",
   "execution_count": 11,
   "outputs": [
    {
     "data": {
      "text/plain": "               year         price        mileage           tax           mpg  \\\ncount  10733.000000  10733.000000   10733.000000  10733.000000  10733.000000   \nmean    2017.083388  22742.889313   25482.101556    131.996646     55.040622   \nstd        2.347757  11392.304903   25176.765334     61.133010     20.598474   \nmin     1996.000000   1200.000000       1.000000      0.000000      5.500000   \n25%     2016.000000  14950.000000    5500.000000    135.000000     45.600000   \n50%     2017.000000  20490.000000   18271.000000    145.000000     53.300000   \n75%     2019.000000  27950.000000   38231.000000    145.000000     62.800000   \nmax     2020.000000  99950.000000  214000.000000    580.000000    470.800000   \n\n         engineSize  \ncount  10733.000000  \nmean       2.177276  \nstd        0.534279  \nmin        0.600000  \n25%        2.000000  \n50%        2.000000  \n75%        2.000000  \nmax        6.600000  ",
      "text/html": "<div>\n<style scoped>\n    .dataframe tbody tr th:only-of-type {\n        vertical-align: middle;\n    }\n\n    .dataframe tbody tr th {\n        vertical-align: top;\n    }\n\n    .dataframe thead th {\n        text-align: right;\n    }\n</style>\n<table border=\"1\" class=\"dataframe\">\n  <thead>\n    <tr style=\"text-align: right;\">\n      <th></th>\n      <th>year</th>\n      <th>price</th>\n      <th>mileage</th>\n      <th>tax</th>\n      <th>mpg</th>\n      <th>engineSize</th>\n    </tr>\n  </thead>\n  <tbody>\n    <tr>\n      <th>count</th>\n      <td>10733.000000</td>\n      <td>10733.000000</td>\n      <td>10733.000000</td>\n      <td>10733.000000</td>\n      <td>10733.000000</td>\n      <td>10733.000000</td>\n    </tr>\n    <tr>\n      <th>mean</th>\n      <td>2017.083388</td>\n      <td>22742.889313</td>\n      <td>25482.101556</td>\n      <td>131.996646</td>\n      <td>55.040622</td>\n      <td>2.177276</td>\n    </tr>\n    <tr>\n      <th>std</th>\n      <td>2.347757</td>\n      <td>11392.304903</td>\n      <td>25176.765334</td>\n      <td>61.133010</td>\n      <td>20.598474</td>\n      <td>0.534279</td>\n    </tr>\n    <tr>\n      <th>min</th>\n      <td>1996.000000</td>\n      <td>1200.000000</td>\n      <td>1.000000</td>\n      <td>0.000000</td>\n      <td>5.500000</td>\n      <td>0.600000</td>\n    </tr>\n    <tr>\n      <th>25%</th>\n      <td>2016.000000</td>\n      <td>14950.000000</td>\n      <td>5500.000000</td>\n      <td>135.000000</td>\n      <td>45.600000</td>\n      <td>2.000000</td>\n    </tr>\n    <tr>\n      <th>50%</th>\n      <td>2017.000000</td>\n      <td>20490.000000</td>\n      <td>18271.000000</td>\n      <td>145.000000</td>\n      <td>53.300000</td>\n      <td>2.000000</td>\n    </tr>\n    <tr>\n      <th>75%</th>\n      <td>2019.000000</td>\n      <td>27950.000000</td>\n      <td>38231.000000</td>\n      <td>145.000000</td>\n      <td>62.800000</td>\n      <td>2.000000</td>\n    </tr>\n    <tr>\n      <th>max</th>\n      <td>2020.000000</td>\n      <td>99950.000000</td>\n      <td>214000.000000</td>\n      <td>580.000000</td>\n      <td>470.800000</td>\n      <td>6.600000</td>\n    </tr>\n  </tbody>\n</table>\n</div>"
     },
     "execution_count": 11,
     "metadata": {},
     "output_type": "execute_result"
    }
   ],
   "source": [
    "auto_data.describe()"
   ],
   "metadata": {
    "collapsed": false,
    "pycharm": {
     "name": "#%%\n"
    }
   }
  },
  {
   "cell_type": "code",
   "execution_count": 12,
   "outputs": [
    {
     "data": {
      "text/plain": "Diesel      7017\nPetrol      3414\nHybrid       265\nOther         36\nElectric       1\nName: fuelType, dtype: int64"
     },
     "execution_count": 12,
     "metadata": {},
     "output_type": "execute_result"
    }
   ],
   "source": [
    "fueltype_counts = auto_data.fuelType.value_counts()\n",
    "fueltype_counts"
   ],
   "metadata": {
    "collapsed": false,
    "pycharm": {
     "name": "#%%\n"
    }
   }
  },
  {
   "cell_type": "code",
   "execution_count": 13,
   "outputs": [
    {
     "name": "stderr",
     "output_type": "stream",
     "text": [
      "C:\\ProgramData\\Anaconda3\\envs\\lib\\site-packages\\seaborn\\_decorators.py:36: FutureWarning: Pass the following variable as a keyword arg: x. From version 0.12, the only valid positional argument will be `data`, and passing other arguments without an explicit keyword will result in an error or misinterpretation.\n",
      "  warnings.warn(\n"
     ]
    },
    {
     "data": {
      "text/plain": "<AxesSubplot:xlabel='fuelType', ylabel='count'>"
     },
     "execution_count": 13,
     "metadata": {},
     "output_type": "execute_result"
    },
    {
     "data": {
      "text/plain": "<Figure size 432x288 with 1 Axes>",
      "image/png": "[encoded data removed]"
     },
     "metadata": {
      "needs_background": "light"
     },
     "output_type": "display_data"
    }
   ],
   "source": [
    "sns.countplot(auto_data.fuelType)"
   ],
   "metadata": {
    "collapsed": false,
    "pycharm": {
     "name": "#%%\n"
    }
   }
  },
  {
   "cell_type": "code",
   "execution_count": 82,
   "outputs": [
    {
     "data": {
      "text/plain": "{' 2 Series', ' 3 Series', ' 5 Series', ' 7 Series', ' X3', ' X5', ' i8'}"
     },
     "execution_count": 82,
     "metadata": {},
     "output_type": "execute_result"
    }
   ],
   "source": [
    "hybrids = auto_data[auto_data.fuelType == 'Hybrid']\n",
    "set(hybrids.model)"
   ],
   "metadata": {
    "collapsed": false,
    "pycharm": {
     "name": "#%%\n"
    }
   }
  },
  {
   "cell_type": "markdown",
   "source": [
    "Да, они действительно бывают гибридными"
   ],
   "metadata": {
    "collapsed": false
   }
  },
  {
   "cell_type": "code",
   "execution_count": 14,
   "outputs": [
    {
     "data": {
      "text/plain": "{' 2 Series', ' 3 Series', ' 5 Series', ' X5', ' i3', ' i8'}"
     },
     "execution_count": 14,
     "metadata": {},
     "output_type": "execute_result"
    }
   ],
   "source": [
    "other = auto_data[auto_data.fuelType == 'Other']\n",
    "set(other.model)"
   ],
   "metadata": {
    "collapsed": false,
    "pycharm": {
     "name": "#%%\n"
    }
   }
  },
  {
   "cell_type": "markdown",
   "source": [
    "## Линейная регрессия"
   ],
   "metadata": {
    "collapsed": false
   }
  },
  {
   "cell_type": "markdown",
   "source": [
    "### LinearRegression()"
   ],
   "metadata": {
    "collapsed": false
   }
  },
  {
   "cell_type": "code",
   "execution_count": 77,
   "outputs": [
    {
     "data": {
      "text/plain": "   year  price  mileage  tax   mpg  engineSize   1 Series   2 Series  \\\n0  2014  11200    67068  125  57.6         2.0          0          0   \n1  2018  27000    14827  145  42.8         2.0          0          0   \n2  2016  16000    62794  160  51.4         3.0          0          0   \n3  2017  12750    26676  145  72.4         1.5          1          0   \n4  2014  14500    39554  160  50.4         3.0          0          0   \n\n    3 Series   4 Series  ...   i3   i8  Automatic  Manual  Semi-Auto  Diesel  \\\n0          0          0  ...    0    0          1       0          0       1   \n1          0          0  ...    0    0          1       0          0       0   \n2          0          0  ...    0    0          1       0          0       1   \n3          0          0  ...    0    0          1       0          0       1   \n4          0          0  ...    0    0          1       0          0       1   \n\n   Electric  Hybrid  Other  Petrol  \n0         0       0      0       0  \n1         0       0      0       1  \n2         0       0      0       0  \n3         0       0      0       0  \n4         0       0      0       0  \n\n[5 rows x 38 columns]",
      "text/html": "<div>\n<style scoped>\n    .dataframe tbody tr th:only-of-type {\n        vertical-align: middle;\n    }\n\n    .dataframe tbody tr th {\n        vertical-align: top;\n    }\n\n    .dataframe thead th {\n        text-align: right;\n    }\n</style>\n<table border=\"1\" class=\"dataframe\">\n  <thead>\n    <tr style=\"text-align: right;\">\n      <th></th>\n      <th>year</th>\n      <th>price</th>\n      <th>mileage</th>\n      <th>tax</th>\n      <th>mpg</th>\n      <th>engineSize</th>\n      <th>1 Series</th>\n      <th>2 Series</th>\n      <th>3 Series</th>\n      <th>4 Series</th>\n      <th>...</th>\n      <th>i3</th>\n      <th>i8</th>\n      <th>Automatic</th>\n      <th>Manual</th>\n      <th>Semi-Auto</th>\n      <th>Diesel</th>\n      <th>Electric</th>\n      <th>Hybrid</th>\n      <th>Other</th>\n      <th>Petrol</th>\n    </tr>\n  </thead>\n  <tbody>\n    <tr>\n      <th>0</th>\n      <td>2014</td>\n      <td>11200</td>\n      <td>67068</td>\n      <td>125</td>\n      <td>57.6</td>\n      <td>2.0</td>\n      <td>0</td>\n      <td>0</td>\n      <td>0</td>\n      <td>0</td>\n      <td>...</td>\n      <td>0</td>\n      <td>0</td>\n      <td>1</td>\n      <td>0</td>\n      <td>0</td>\n      <td>1</td>\n      <td>0</td>\n      <td>0</td>\n      <td>0</td>\n      <td>0</td>\n    </tr>\n    <tr>\n      <th>1</th>\n      <td>2018</td>\n      <td>27000</td>\n      <td>14827</td>\n      <td>145</td>\n      <td>42.8</td>\n      <td>2.0</td>\n      <td>0</td>\n      <td>0</td>\n      <td>0</td>\n      <td>0</td>\n      <td>...</td>\n      <td>0</td>\n      <td>0</td>\n      <td>1</td>\n      <td>0</td>\n      <td>0</td>\n      <td>0</td>\n      <td>0</td>\n      <td>0</td>\n      <td>0</td>\n      <td>1</td>\n    </tr>\n    <tr>\n      <th>2</th>\n      <td>2016</td>\n      <td>16000</td>\n      <td>62794</td>\n      <td>160</td>\n      <td>51.4</td>\n      <td>3.0</td>\n      <td>0</td>\n      <td>0</td>\n      <td>0</td>\n      <td>0</td>\n      <td>...</td>\n      <td>0</td>\n      <td>0</td>\n      <td>1</td>\n      <td>0</td>\n      <td>0</td>\n      <td>1</td>\n      <td>0</td>\n      <td>0</td>\n      <td>0</td>\n      <td>0</td>\n    </tr>\n    <tr>\n      <th>3</th>\n      <td>2017</td>\n      <td>12750</td>\n      <td>26676</td>\n      <td>145</td>\n      <td>72.4</td>\n      <td>1.5</td>\n      <td>1</td>\n      <td>0</td>\n      <td>0</td>\n      <td>0</td>\n      <td>...</td>\n      <td>0</td>\n      <td>0</td>\n      <td>1</td>\n      <td>0</td>\n      <td>0</td>\n      <td>1</td>\n      <td>0</td>\n      <td>0</td>\n      <td>0</td>\n      <td>0</td>\n    </tr>\n    <tr>\n      <th>4</th>\n      <td>2014</td>\n      <td>14500</td>\n      <td>39554</td>\n      <td>160</td>\n      <td>50.4</td>\n      <td>3.0</td>\n      <td>0</td>\n      <td>0</td>\n      <td>0</td>\n      <td>0</td>\n      <td>...</td>\n      <td>0</td>\n      <td>0</td>\n      <td>1</td>\n      <td>0</td>\n      <td>0</td>\n      <td>1</td>\n      <td>0</td>\n      <td>0</td>\n      <td>0</td>\n      <td>0</td>\n    </tr>\n  </tbody>\n</table>\n<p>5 rows × 38 columns</p>\n</div>"
     },
     "execution_count": 77,
     "metadata": {},
     "output_type": "execute_result"
    }
   ],
   "source": [
    "\n",
    "auto_data_copy = auto_data.copy()\n",
    "\n",
    "auto_data_dummy = pd.concat([auto_data_copy.drop(\"model\", axis=1),\n",
    "                             pd.get_dummies(auto_data_copy[\"model\"])], axis = 1)\n",
    "auto_data_dummy = pd.concat([auto_data_dummy.drop(\"transmission\", axis=1),\n",
    "                             pd.get_dummies(auto_data_dummy[\"transmission\"])], axis = 1)\n",
    "auto_data_dummy = pd.concat([auto_data_dummy.drop(\"fuelType\", axis=1),\n",
    "                             pd.get_dummies(auto_data_dummy[\"fuelType\"])], axis = 1)\n",
    "auto_data_dummy.head()\n"
   ],
   "metadata": {
    "collapsed": false,
    "pycharm": {
     "name": "#%%\n"
    }
   }
  },
  {
   "cell_type": "code",
   "execution_count": 78,
   "outputs": [],
   "source": [
    "auto_data_dummy_without_price = auto_data_dummy.drop(['price'], axis=1)"
   ],
   "metadata": {
    "collapsed": false,
    "pycharm": {
     "name": "#%%\n"
    }
   }
  },
  {
   "cell_type": "code",
   "execution_count": 79,
   "metadata": {},
   "outputs": [],
   "source": [
    "X, Y = auto_data_dummy_without_price, auto_data_dummy['price']"
   ]
  },
  {
   "cell_type": "code",
   "execution_count": 80,
   "metadata": {},
   "outputs": [],
   "source": [
    "X_train, X_test, Y_train, Y_test = train_test_split(X, Y, test_size=0.3, random_state=10)"
   ]
  },
  {
   "cell_type": "code",
   "execution_count": 81,
   "metadata": {},
   "outputs": [
    {
     "data": {
      "text/plain": "array([[ 0.8235433 , -0.83949831,  0.21680382, ..., -0.16151089,\n        -0.05778127,  1.46632357],\n       [-1.30048032,  1.23106706, -0.10997863, ..., -0.16151089,\n        -0.05778127, -0.68197771],\n       [ 1.24834803, -0.74200576,  0.21680382, ..., -0.16151089,\n        -0.05778127, -0.68197771],\n       ...,\n       [ 1.24834803, -0.93368469,  0.21680382, ..., -0.16151089,\n        -0.05778127, -0.68197771],\n       [ 1.24834803, -0.97304381,  0.21680382, ..., -0.16151089,\n        -0.05778127, -0.68197771],\n       [-0.02606615, -0.24899339,  0.46189066, ..., -0.16151089,\n        -0.05778127,  1.46632357]])"
     },
     "execution_count": 81,
     "metadata": {},
     "output_type": "execute_result"
    }
   ],
   "source": [
    "std_scaler = StandardScaler()\n",
    "\n",
    "X_train_scaled = std_scaler.fit_transform(X_train)\n",
    "X_test_scaled = std_scaler.transform(X_test)\n",
    "\n",
    "X_train_scaled"
   ]
  },
  {
   "cell_type": "code",
   "execution_count": 82,
   "outputs": [
    {
     "name": "stdout",
     "output_type": "stream",
     "text": [
      "MSE = 15061492.931\n"
     ]
    }
   ],
   "source": [
    "simple_LR = LinearRegression()\n",
    "\n",
    "simple_LR.fit(X_train_scaled, Y_train)\n",
    "simple_LR_predictions = simple_LR.predict(X_test_scaled)\n",
    "\n",
    "simple_LR_MSE = metrics.mean_squared_error(Y_test, simple_LR_predictions)\n",
    "\n",
    "print (f'MSE = {round(simple_LR_MSE,3)}')"
   ],
   "metadata": {
    "collapsed": false,
    "pycharm": {
     "name": "#%%\n"
    }
   }
  },
  {
   "cell_type": "code",
   "execution_count": 83,
   "outputs": [
    {
     "name": "stdout",
     "output_type": "stream",
     "text": [
      "RMSE = 3880.914\n"
     ]
    }
   ],
   "source": [
    "simple_LR_RMSE = metrics.mean_squared_error(Y_test, simple_LR_predictions, squared = False)\n",
    "\n",
    "print (f'RMSE = {round(simple_LR_RMSE,3)}')"
   ],
   "metadata": {
    "collapsed": false,
    "pycharm": {
     "name": "#%%\n"
    }
   }
  },
  {
   "cell_type": "code",
   "execution_count": 84,
   "outputs": [
    {
     "name": "stdout",
     "output_type": "stream",
     "text": [
      "Test std: 11338.271\n"
     ]
    }
   ],
   "source": [
    "print (f'Test std: {round(Y_test.std(),3)}')"
   ],
   "metadata": {
    "collapsed": false,
    "pycharm": {
     "name": "#%%\n"
    }
   }
  },
  {
   "cell_type": "code",
   "execution_count": 85,
   "outputs": [
    {
     "data": {
      "text/plain": "Text(0, 0.5, 'Target')"
     },
     "execution_count": 85,
     "metadata": {},
     "output_type": "execute_result"
    },
    {
     "data": {
      "text/plain": "<Figure size 576x576 with 1 Axes>",
      "image/png": "[encoded data removed]"
     },
     "metadata": {
      "needs_background": "light"
     },
     "output_type": "display_data"
    }
   ],
   "source": [
    "plt.figure(figsize=(8, 8))\n",
    "plt.scatter(simple_LR_predictions, Y_test)\n",
    "plt.xlabel('Predictions')\n",
    "plt.ylabel('Target')"
   ],
   "metadata": {
    "collapsed": false,
    "pycharm": {
     "name": "#%%\n"
    }
   }
  },
  {
   "cell_type": "code",
   "execution_count": 57,
   "outputs": [
    {
     "data": {
      "text/plain": "(22644.287755897483,\n array([ 4.23020481e+03, -2.83729033e+03, -6.39596899e+02, -2.63562002e+03,\n         1.99143731e+03,  1.26577057e+15,  1.05720414e+15,  1.38204246e+15,\n         9.45581023e+14,  9.70500742e+14,  3.30625839e+14,  3.26347626e+14,\n         2.07023782e+14,  1.46534567e+14,  1.46534567e+14,  3.43127236e+14,\n         1.69147118e+14,  1.00155554e+14,  8.63601803e+14,  5.25849541e+14,\n         7.30020851e+14,  4.21542203e+14,  6.58932656e+14,  3.19818542e+14,\n         2.41842208e+14,  7.57256110e+13,  3.24186464e+14,  9.27322018e+13,\n         1.13550593e+14,  4.54514993e+15,  4.08490705e+15,  4.76840247e+15,\n        -2.35900713e+13, -5.71963652e+11, -7.80408852e+12, -2.85524621e+12,\n        -2.30785671e+13]))"
     },
     "execution_count": 57,
     "metadata": {},
     "output_type": "execute_result"
    }
   ],
   "source": [
    "simple_LR.intercept_, simple_LR.coef_"
   ],
   "metadata": {
    "collapsed": false,
    "pycharm": {
     "name": "#%%\n"
    }
   }
  },
  {
   "cell_type": "code",
   "execution_count": 58,
   "outputs": [
    {
     "data": {
      "text/plain": "            Coefficients\nyear        4.230205e+03\nmileage    -2.837290e+03\ntax        -6.395969e+02\nmpg        -2.635620e+03\nengineSize  1.991437e+03\n 1 Series   1.265771e+15\n 2 Series   1.057204e+15\n 3 Series   1.382042e+15\n 4 Series   9.455810e+14\n 5 Series   9.705007e+14\n 6 Series   3.306258e+14\n 7 Series   3.263476e+14\n 8 Series   2.070238e+14\n M2         1.465346e+14\n M3         1.465346e+14\n M4         3.431272e+14\n M5         1.691471e+14\n M6         1.001556e+14\n X1         8.636018e+14\n X2         5.258495e+14\n X3         7.300209e+14\n X4         4.215422e+14\n X5         6.589327e+14\n X6         3.198185e+14\n X7         2.418422e+14\n Z3         7.572561e+13\n Z4         3.241865e+14\n i3         9.273220e+13\n i8         1.135506e+14\nAutomatic   4.545150e+15\nManual      4.084907e+15\nSemi-Auto   4.768402e+15\nDiesel     -2.359007e+13\nElectric   -5.719637e+11\nHybrid     -7.804089e+12\nOther      -2.855246e+12\nPetrol     -2.307857e+13",
      "text/html": "<div>\n<style scoped>\n    .dataframe tbody tr th:only-of-type {\n        vertical-align: middle;\n    }\n\n    .dataframe tbody tr th {\n        vertical-align: top;\n    }\n\n    .dataframe thead th {\n        text-align: right;\n    }\n</style>\n<table border=\"1\" class=\"dataframe\">\n  <thead>\n    <tr style=\"text-align: right;\">\n      <th></th>\n      <th>Coefficients</th>\n    </tr>\n  </thead>\n  <tbody>\n    <tr>\n      <th>year</th>\n      <td>4.230205e+03</td>\n    </tr>\n    <tr>\n      <th>mileage</th>\n      <td>-2.837290e+03</td>\n    </tr>\n    <tr>\n      <th>tax</th>\n      <td>-6.395969e+02</td>\n    </tr>\n    <tr>\n      <th>mpg</th>\n      <td>-2.635620e+03</td>\n    </tr>\n    <tr>\n      <th>engineSize</th>\n      <td>1.991437e+03</td>\n    </tr>\n    <tr>\n      <th>1 Series</th>\n      <td>1.265771e+15</td>\n    </tr>\n    <tr>\n      <th>2 Series</th>\n      <td>1.057204e+15</td>\n    </tr>\n    <tr>\n      <th>3 Series</th>\n      <td>1.382042e+15</td>\n    </tr>\n    <tr>\n      <th>4 Series</th>\n      <td>9.455810e+14</td>\n    </tr>\n    <tr>\n      <th>5 Series</th>\n      <td>9.705007e+14</td>\n    </tr>\n    <tr>\n      <th>6 Series</th>\n      <td>3.306258e+14</td>\n    </tr>\n    <tr>\n      <th>7 Series</th>\n      <td>3.263476e+14</td>\n    </tr>\n    <tr>\n      <th>8 Series</th>\n      <td>2.070238e+14</td>\n    </tr>\n    <tr>\n      <th>M2</th>\n      <td>1.465346e+14</td>\n    </tr>\n    <tr>\n      <th>M3</th>\n      <td>1.465346e+14</td>\n    </tr>\n    <tr>\n      <th>M4</th>\n      <td>3.431272e+14</td>\n    </tr>\n    <tr>\n      <th>M5</th>\n      <td>1.691471e+14</td>\n    </tr>\n    <tr>\n      <th>M6</th>\n      <td>1.001556e+14</td>\n    </tr>\n    <tr>\n      <th>X1</th>\n      <td>8.636018e+14</td>\n    </tr>\n    <tr>\n      <th>X2</th>\n      <td>5.258495e+14</td>\n    </tr>\n    <tr>\n      <th>X3</th>\n      <td>7.300209e+14</td>\n    </tr>\n    <tr>\n      <th>X4</th>\n      <td>4.215422e+14</td>\n    </tr>\n    <tr>\n      <th>X5</th>\n      <td>6.589327e+14</td>\n    </tr>\n    <tr>\n      <th>X6</th>\n      <td>3.198185e+14</td>\n    </tr>\n    <tr>\n      <th>X7</th>\n      <td>2.418422e+14</td>\n    </tr>\n    <tr>\n      <th>Z3</th>\n      <td>7.572561e+13</td>\n    </tr>\n    <tr>\n      <th>Z4</th>\n      <td>3.241865e+14</td>\n    </tr>\n    <tr>\n      <th>i3</th>\n      <td>9.273220e+13</td>\n    </tr>\n    <tr>\n      <th>i8</th>\n      <td>1.135506e+14</td>\n    </tr>\n    <tr>\n      <th>Automatic</th>\n      <td>4.545150e+15</td>\n    </tr>\n    <tr>\n      <th>Manual</th>\n      <td>4.084907e+15</td>\n    </tr>\n    <tr>\n      <th>Semi-Auto</th>\n      <td>4.768402e+15</td>\n    </tr>\n    <tr>\n      <th>Diesel</th>\n      <td>-2.359007e+13</td>\n    </tr>\n    <tr>\n      <th>Electric</th>\n      <td>-5.719637e+11</td>\n    </tr>\n    <tr>\n      <th>Hybrid</th>\n      <td>-7.804089e+12</td>\n    </tr>\n    <tr>\n      <th>Other</th>\n      <td>-2.855246e+12</td>\n    </tr>\n    <tr>\n      <th>Petrol</th>\n      <td>-2.307857e+13</td>\n    </tr>\n  </tbody>\n</table>\n</div>"
     },
     "execution_count": 58,
     "metadata": {},
     "output_type": "execute_result"
    }
   ],
   "source": [
    "pd.DataFrame(simple_LR.coef_, auto_data_dummy_without_price.columns, columns=['Coefficients'])"
   ],
   "metadata": {
    "collapsed": false,
    "pycharm": {
     "name": "#%%\n"
    }
   }
  },
  {
   "cell_type": "markdown",
   "source": [
    "### Lasso()"
   ],
   "metadata": {
    "collapsed": false
   }
  },
  {
   "cell_type": "code",
   "execution_count": 59,
   "outputs": [
    {
     "name": "stdout",
     "output_type": "stream",
     "text": [
      "RMSE = 3882.075\n"
     ]
    },
    {
     "data": {
      "text/plain": "            Coefficients\nyear        4.230205e+03\nmileage    -2.837290e+03\ntax        -6.395969e+02\nmpg        -2.635620e+03\nengineSize  1.991437e+03\n 1 Series   1.265771e+15\n 2 Series   1.057204e+15\n 3 Series   1.382042e+15\n 4 Series   9.455810e+14\n 5 Series   9.705007e+14\n 6 Series   3.306258e+14\n 7 Series   3.263476e+14\n 8 Series   2.070238e+14\n M2         1.465346e+14\n M3         1.465346e+14\n M4         3.431272e+14\n M5         1.691471e+14\n M6         1.001556e+14\n X1         8.636018e+14\n X2         5.258495e+14\n X3         7.300209e+14\n X4         4.215422e+14\n X5         6.589327e+14\n X6         3.198185e+14\n X7         2.418422e+14\n Z3         7.572561e+13\n Z4         3.241865e+14\n i3         9.273220e+13\n i8         1.135506e+14\nAutomatic   4.545150e+15\nManual      4.084907e+15\nSemi-Auto   4.768402e+15\nDiesel     -2.359007e+13\nElectric   -5.719637e+11\nHybrid     -7.804089e+12\nOther      -2.855246e+12\nPetrol     -2.307857e+13",
      "text/html": "<div>\n<style scoped>\n    .dataframe tbody tr th:only-of-type {\n        vertical-align: middle;\n    }\n\n    .dataframe tbody tr th {\n        vertical-align: top;\n    }\n\n    .dataframe thead th {\n        text-align: right;\n    }\n</style>\n<table border=\"1\" class=\"dataframe\">\n  <thead>\n    <tr style=\"text-align: right;\">\n      <th></th>\n      <th>Coefficients</th>\n    </tr>\n  </thead>\n  <tbody>\n    <tr>\n      <th>year</th>\n      <td>4.230205e+03</td>\n    </tr>\n    <tr>\n      <th>mileage</th>\n      <td>-2.837290e+03</td>\n    </tr>\n    <tr>\n      <th>tax</th>\n      <td>-6.395969e+02</td>\n    </tr>\n    <tr>\n      <th>mpg</th>\n      <td>-2.635620e+03</td>\n    </tr>\n    <tr>\n      <th>engineSize</th>\n      <td>1.991437e+03</td>\n    </tr>\n    <tr>\n      <th>1 Series</th>\n      <td>1.265771e+15</td>\n    </tr>\n    <tr>\n      <th>2 Series</th>\n      <td>1.057204e+15</td>\n    </tr>\n    <tr>\n      <th>3 Series</th>\n      <td>1.382042e+15</td>\n    </tr>\n    <tr>\n      <th>4 Series</th>\n      <td>9.455810e+14</td>\n    </tr>\n    <tr>\n      <th>5 Series</th>\n      <td>9.705007e+14</td>\n    </tr>\n    <tr>\n      <th>6 Series</th>\n      <td>3.306258e+14</td>\n    </tr>\n    <tr>\n      <th>7 Series</th>\n      <td>3.263476e+14</td>\n    </tr>\n    <tr>\n      <th>8 Series</th>\n      <td>2.070238e+14</td>\n    </tr>\n    <tr>\n      <th>M2</th>\n      <td>1.465346e+14</td>\n    </tr>\n    <tr>\n      <th>M3</th>\n      <td>1.465346e+14</td>\n    </tr>\n    <tr>\n      <th>M4</th>\n      <td>3.431272e+14</td>\n    </tr>\n    <tr>\n      <th>M5</th>\n      <td>1.691471e+14</td>\n    </tr>\n    <tr>\n      <th>M6</th>\n      <td>1.001556e+14</td>\n    </tr>\n    <tr>\n      <th>X1</th>\n      <td>8.636018e+14</td>\n    </tr>\n    <tr>\n      <th>X2</th>\n      <td>5.258495e+14</td>\n    </tr>\n    <tr>\n      <th>X3</th>\n      <td>7.300209e+14</td>\n    </tr>\n    <tr>\n      <th>X4</th>\n      <td>4.215422e+14</td>\n    </tr>\n    <tr>\n      <th>X5</th>\n      <td>6.589327e+14</td>\n    </tr>\n    <tr>\n      <th>X6</th>\n      <td>3.198185e+14</td>\n    </tr>\n    <tr>\n      <th>X7</th>\n      <td>2.418422e+14</td>\n    </tr>\n    <tr>\n      <th>Z3</th>\n      <td>7.572561e+13</td>\n    </tr>\n    <tr>\n      <th>Z4</th>\n      <td>3.241865e+14</td>\n    </tr>\n    <tr>\n      <th>i3</th>\n      <td>9.273220e+13</td>\n    </tr>\n    <tr>\n      <th>i8</th>\n      <td>1.135506e+14</td>\n    </tr>\n    <tr>\n      <th>Automatic</th>\n      <td>4.545150e+15</td>\n    </tr>\n    <tr>\n      <th>Manual</th>\n      <td>4.084907e+15</td>\n    </tr>\n    <tr>\n      <th>Semi-Auto</th>\n      <td>4.768402e+15</td>\n    </tr>\n    <tr>\n      <th>Diesel</th>\n      <td>-2.359007e+13</td>\n    </tr>\n    <tr>\n      <th>Electric</th>\n      <td>-5.719637e+11</td>\n    </tr>\n    <tr>\n      <th>Hybrid</th>\n      <td>-7.804089e+12</td>\n    </tr>\n    <tr>\n      <th>Other</th>\n      <td>-2.855246e+12</td>\n    </tr>\n    <tr>\n      <th>Petrol</th>\n      <td>-2.307857e+13</td>\n    </tr>\n  </tbody>\n</table>\n</div>"
     },
     "execution_count": 59,
     "metadata": {},
     "output_type": "execute_result"
    }
   ],
   "source": [
    "model = Lasso()\n",
    "\n",
    "model.fit(X_train_scaled, Y_train)\n",
    "predictions = model.predict(X_test_scaled)\n",
    "\n",
    "print (f'RMSE = {round(metrics.mean_squared_error(Y_test, predictions, squared=False), 3)}')\n",
    "\n",
    "pd.DataFrame(simple_LR.coef_,  auto_data_dummy_without_price.columns, columns=['Coefficients'])"
   ],
   "metadata": {
    "collapsed": false,
    "pycharm": {
     "name": "#%%\n"
    }
   }
  },
  {
   "cell_type": "markdown",
   "source": [
    "### LassoCV()"
   ],
   "metadata": {
    "collapsed": false
   }
  },
  {
   "cell_type": "code",
   "execution_count": 60,
   "outputs": [
    {
     "name": "stdout",
     "output_type": "stream",
     "text": [
      "RMSE = 3882.286\n"
     ]
    },
    {
     "data": {
      "text/plain": "            Coefficients\nyear        4.230205e+03\nmileage    -2.837290e+03\ntax        -6.395969e+02\nmpg        -2.635620e+03\nengineSize  1.991437e+03\n 1 Series   1.265771e+15\n 2 Series   1.057204e+15\n 3 Series   1.382042e+15\n 4 Series   9.455810e+14\n 5 Series   9.705007e+14\n 6 Series   3.306258e+14\n 7 Series   3.263476e+14\n 8 Series   2.070238e+14\n M2         1.465346e+14\n M3         1.465346e+14\n M4         3.431272e+14\n M5         1.691471e+14\n M6         1.001556e+14\n X1         8.636018e+14\n X2         5.258495e+14\n X3         7.300209e+14\n X4         4.215422e+14\n X5         6.589327e+14\n X6         3.198185e+14\n X7         2.418422e+14\n Z3         7.572561e+13\n Z4         3.241865e+14\n i3         9.273220e+13\n i8         1.135506e+14\nAutomatic   4.545150e+15\nManual      4.084907e+15\nSemi-Auto   4.768402e+15\nDiesel     -2.359007e+13\nElectric   -5.719637e+11\nHybrid     -7.804089e+12\nOther      -2.855246e+12\nPetrol     -2.307857e+13",
      "text/html": "<div>\n<style scoped>\n    .dataframe tbody tr th:only-of-type {\n        vertical-align: middle;\n    }\n\n    .dataframe tbody tr th {\n        vertical-align: top;\n    }\n\n    .dataframe thead th {\n        text-align: right;\n    }\n</style>\n<table border=\"1\" class=\"dataframe\">\n  <thead>\n    <tr style=\"text-align: right;\">\n      <th></th>\n      <th>Coefficients</th>\n    </tr>\n  </thead>\n  <tbody>\n    <tr>\n      <th>year</th>\n      <td>4.230205e+03</td>\n    </tr>\n    <tr>\n      <th>mileage</th>\n      <td>-2.837290e+03</td>\n    </tr>\n    <tr>\n      <th>tax</th>\n      <td>-6.395969e+02</td>\n    </tr>\n    <tr>\n      <th>mpg</th>\n      <td>-2.635620e+03</td>\n    </tr>\n    <tr>\n      <th>engineSize</th>\n      <td>1.991437e+03</td>\n    </tr>\n    <tr>\n      <th>1 Series</th>\n      <td>1.265771e+15</td>\n    </tr>\n    <tr>\n      <th>2 Series</th>\n      <td>1.057204e+15</td>\n    </tr>\n    <tr>\n      <th>3 Series</th>\n      <td>1.382042e+15</td>\n    </tr>\n    <tr>\n      <th>4 Series</th>\n      <td>9.455810e+14</td>\n    </tr>\n    <tr>\n      <th>5 Series</th>\n      <td>9.705007e+14</td>\n    </tr>\n    <tr>\n      <th>6 Series</th>\n      <td>3.306258e+14</td>\n    </tr>\n    <tr>\n      <th>7 Series</th>\n      <td>3.263476e+14</td>\n    </tr>\n    <tr>\n      <th>8 Series</th>\n      <td>2.070238e+14</td>\n    </tr>\n    <tr>\n      <th>M2</th>\n      <td>1.465346e+14</td>\n    </tr>\n    <tr>\n      <th>M3</th>\n      <td>1.465346e+14</td>\n    </tr>\n    <tr>\n      <th>M4</th>\n      <td>3.431272e+14</td>\n    </tr>\n    <tr>\n      <th>M5</th>\n      <td>1.691471e+14</td>\n    </tr>\n    <tr>\n      <th>M6</th>\n      <td>1.001556e+14</td>\n    </tr>\n    <tr>\n      <th>X1</th>\n      <td>8.636018e+14</td>\n    </tr>\n    <tr>\n      <th>X2</th>\n      <td>5.258495e+14</td>\n    </tr>\n    <tr>\n      <th>X3</th>\n      <td>7.300209e+14</td>\n    </tr>\n    <tr>\n      <th>X4</th>\n      <td>4.215422e+14</td>\n    </tr>\n    <tr>\n      <th>X5</th>\n      <td>6.589327e+14</td>\n    </tr>\n    <tr>\n      <th>X6</th>\n      <td>3.198185e+14</td>\n    </tr>\n    <tr>\n      <th>X7</th>\n      <td>2.418422e+14</td>\n    </tr>\n    <tr>\n      <th>Z3</th>\n      <td>7.572561e+13</td>\n    </tr>\n    <tr>\n      <th>Z4</th>\n      <td>3.241865e+14</td>\n    </tr>\n    <tr>\n      <th>i3</th>\n      <td>9.273220e+13</td>\n    </tr>\n    <tr>\n      <th>i8</th>\n      <td>1.135506e+14</td>\n    </tr>\n    <tr>\n      <th>Automatic</th>\n      <td>4.545150e+15</td>\n    </tr>\n    <tr>\n      <th>Manual</th>\n      <td>4.084907e+15</td>\n    </tr>\n    <tr>\n      <th>Semi-Auto</th>\n      <td>4.768402e+15</td>\n    </tr>\n    <tr>\n      <th>Diesel</th>\n      <td>-2.359007e+13</td>\n    </tr>\n    <tr>\n      <th>Electric</th>\n      <td>-5.719637e+11</td>\n    </tr>\n    <tr>\n      <th>Hybrid</th>\n      <td>-7.804089e+12</td>\n    </tr>\n    <tr>\n      <th>Other</th>\n      <td>-2.855246e+12</td>\n    </tr>\n    <tr>\n      <th>Petrol</th>\n      <td>-2.307857e+13</td>\n    </tr>\n  </tbody>\n</table>\n</div>"
     },
     "execution_count": 60,
     "metadata": {},
     "output_type": "execute_result"
    }
   ],
   "source": [
    "model = LassoCV()\n",
    "\n",
    "model.fit(X_train_scaled, Y_train)\n",
    "predictions = model.predict(X_test_scaled)\n",
    "\n",
    "print (f'RMSE = {round(metrics.mean_squared_error(Y_test, predictions, squared=False), 3)}')\n",
    "\n",
    "pd.DataFrame(simple_LR.coef_,  auto_data_dummy_without_price.columns, columns=['Coefficients'])"
   ],
   "metadata": {
    "collapsed": false,
    "pycharm": {
     "name": "#%%\n"
    }
   }
  },
  {
   "cell_type": "markdown",
   "source": [
    "### LassoCV() with alphas"
   ],
   "metadata": {
    "collapsed": false
   }
  },
  {
   "cell_type": "code",
   "execution_count": 61,
   "outputs": [
    {
     "data": {
      "text/plain": "array([ 1.        ,  1.47368421,  1.94736842,  2.42105263,  2.89473684,\n        3.36842105,  3.84210526,  4.31578947,  4.78947368,  5.26315789,\n        5.73684211,  6.21052632,  6.68421053,  7.15789474,  7.63157895,\n        8.10526316,  8.57894737,  9.05263158,  9.52631579, 10.        ])"
     },
     "execution_count": 61,
     "metadata": {},
     "output_type": "execute_result"
    }
   ],
   "source": [
    "alphas = np.linspace(1, 10, 20)\n",
    "alphas"
   ],
   "metadata": {
    "collapsed": false,
    "pycharm": {
     "name": "#%%\n"
    }
   }
  },
  {
   "cell_type": "code",
   "execution_count": 62,
   "outputs": [
    {
     "name": "stdout",
     "output_type": "stream",
     "text": [
      "RMSE = 3882.075\n"
     ]
    },
    {
     "data": {
      "text/plain": "            Coefficients\nyear        4.230205e+03\nmileage    -2.837290e+03\ntax        -6.395969e+02\nmpg        -2.635620e+03\nengineSize  1.991437e+03\n 1 Series   1.265771e+15\n 2 Series   1.057204e+15\n 3 Series   1.382042e+15\n 4 Series   9.455810e+14\n 5 Series   9.705007e+14\n 6 Series   3.306258e+14\n 7 Series   3.263476e+14\n 8 Series   2.070238e+14\n M2         1.465346e+14\n M3         1.465346e+14\n M4         3.431272e+14\n M5         1.691471e+14\n M6         1.001556e+14\n X1         8.636018e+14\n X2         5.258495e+14\n X3         7.300209e+14\n X4         4.215422e+14\n X5         6.589327e+14\n X6         3.198185e+14\n X7         2.418422e+14\n Z3         7.572561e+13\n Z4         3.241865e+14\n i3         9.273220e+13\n i8         1.135506e+14\nAutomatic   4.545150e+15\nManual      4.084907e+15\nSemi-Auto   4.768402e+15\nDiesel     -2.359007e+13\nElectric   -5.719637e+11\nHybrid     -7.804089e+12\nOther      -2.855246e+12\nPetrol     -2.307857e+13",
      "text/html": "<div>\n<style scoped>\n    .dataframe tbody tr th:only-of-type {\n        vertical-align: middle;\n    }\n\n    .dataframe tbody tr th {\n        vertical-align: top;\n    }\n\n    .dataframe thead th {\n        text-align: right;\n    }\n</style>\n<table border=\"1\" class=\"dataframe\">\n  <thead>\n    <tr style=\"text-align: right;\">\n      <th></th>\n      <th>Coefficients</th>\n    </tr>\n  </thead>\n  <tbody>\n    <tr>\n      <th>year</th>\n      <td>4.230205e+03</td>\n    </tr>\n    <tr>\n      <th>mileage</th>\n      <td>-2.837290e+03</td>\n    </tr>\n    <tr>\n      <th>tax</th>\n      <td>-6.395969e+02</td>\n    </tr>\n    <tr>\n      <th>mpg</th>\n      <td>-2.635620e+03</td>\n    </tr>\n    <tr>\n      <th>engineSize</th>\n      <td>1.991437e+03</td>\n    </tr>\n    <tr>\n      <th>1 Series</th>\n      <td>1.265771e+15</td>\n    </tr>\n    <tr>\n      <th>2 Series</th>\n      <td>1.057204e+15</td>\n    </tr>\n    <tr>\n      <th>3 Series</th>\n      <td>1.382042e+15</td>\n    </tr>\n    <tr>\n      <th>4 Series</th>\n      <td>9.455810e+14</td>\n    </tr>\n    <tr>\n      <th>5 Series</th>\n      <td>9.705007e+14</td>\n    </tr>\n    <tr>\n      <th>6 Series</th>\n      <td>3.306258e+14</td>\n    </tr>\n    <tr>\n      <th>7 Series</th>\n      <td>3.263476e+14</td>\n    </tr>\n    <tr>\n      <th>8 Series</th>\n      <td>2.070238e+14</td>\n    </tr>\n    <tr>\n      <th>M2</th>\n      <td>1.465346e+14</td>\n    </tr>\n    <tr>\n      <th>M3</th>\n      <td>1.465346e+14</td>\n    </tr>\n    <tr>\n      <th>M4</th>\n      <td>3.431272e+14</td>\n    </tr>\n    <tr>\n      <th>M5</th>\n      <td>1.691471e+14</td>\n    </tr>\n    <tr>\n      <th>M6</th>\n      <td>1.001556e+14</td>\n    </tr>\n    <tr>\n      <th>X1</th>\n      <td>8.636018e+14</td>\n    </tr>\n    <tr>\n      <th>X2</th>\n      <td>5.258495e+14</td>\n    </tr>\n    <tr>\n      <th>X3</th>\n      <td>7.300209e+14</td>\n    </tr>\n    <tr>\n      <th>X4</th>\n      <td>4.215422e+14</td>\n    </tr>\n    <tr>\n      <th>X5</th>\n      <td>6.589327e+14</td>\n    </tr>\n    <tr>\n      <th>X6</th>\n      <td>3.198185e+14</td>\n    </tr>\n    <tr>\n      <th>X7</th>\n      <td>2.418422e+14</td>\n    </tr>\n    <tr>\n      <th>Z3</th>\n      <td>7.572561e+13</td>\n    </tr>\n    <tr>\n      <th>Z4</th>\n      <td>3.241865e+14</td>\n    </tr>\n    <tr>\n      <th>i3</th>\n      <td>9.273220e+13</td>\n    </tr>\n    <tr>\n      <th>i8</th>\n      <td>1.135506e+14</td>\n    </tr>\n    <tr>\n      <th>Automatic</th>\n      <td>4.545150e+15</td>\n    </tr>\n    <tr>\n      <th>Manual</th>\n      <td>4.084907e+15</td>\n    </tr>\n    <tr>\n      <th>Semi-Auto</th>\n      <td>4.768402e+15</td>\n    </tr>\n    <tr>\n      <th>Diesel</th>\n      <td>-2.359007e+13</td>\n    </tr>\n    <tr>\n      <th>Electric</th>\n      <td>-5.719637e+11</td>\n    </tr>\n    <tr>\n      <th>Hybrid</th>\n      <td>-7.804089e+12</td>\n    </tr>\n    <tr>\n      <th>Other</th>\n      <td>-2.855246e+12</td>\n    </tr>\n    <tr>\n      <th>Petrol</th>\n      <td>-2.307857e+13</td>\n    </tr>\n  </tbody>\n</table>\n</div>"
     },
     "execution_count": 62,
     "metadata": {},
     "output_type": "execute_result"
    }
   ],
   "source": [
    "model = LassoCV(random_state = 10, alphas=alphas)\n",
    "\n",
    "model.fit(X_train_scaled, Y_train)\n",
    "predictions = model.predict(X_test_scaled)\n",
    "\n",
    "print (f'RMSE = {round(metrics.mean_squared_error(Y_test, predictions, squared=False), 3)}')\n",
    "\n",
    "pd.DataFrame(simple_LR.coef_,  auto_data_dummy_without_price.columns, columns=['Coefficients'])"
   ],
   "metadata": {
    "collapsed": false,
    "pycharm": {
     "name": "#%%\n"
    }
   }
  },
  {
   "cell_type": "markdown",
   "source": [
    "### Ridge()"
   ],
   "metadata": {
    "collapsed": false
   }
  },
  {
   "cell_type": "code",
   "execution_count": 63,
   "outputs": [
    {
     "name": "stdout",
     "output_type": "stream",
     "text": [
      "RMSE = 3882.089\n"
     ]
    },
    {
     "data": {
      "text/plain": "            Coefficients\nyear        4.230205e+03\nmileage    -2.837290e+03\ntax        -6.395969e+02\nmpg        -2.635620e+03\nengineSize  1.991437e+03\n 1 Series   1.265771e+15\n 2 Series   1.057204e+15\n 3 Series   1.382042e+15\n 4 Series   9.455810e+14\n 5 Series   9.705007e+14\n 6 Series   3.306258e+14\n 7 Series   3.263476e+14\n 8 Series   2.070238e+14\n M2         1.465346e+14\n M3         1.465346e+14\n M4         3.431272e+14\n M5         1.691471e+14\n M6         1.001556e+14\n X1         8.636018e+14\n X2         5.258495e+14\n X3         7.300209e+14\n X4         4.215422e+14\n X5         6.589327e+14\n X6         3.198185e+14\n X7         2.418422e+14\n Z3         7.572561e+13\n Z4         3.241865e+14\n i3         9.273220e+13\n i8         1.135506e+14\nAutomatic   4.545150e+15\nManual      4.084907e+15\nSemi-Auto   4.768402e+15\nDiesel     -2.359007e+13\nElectric   -5.719637e+11\nHybrid     -7.804089e+12\nOther      -2.855246e+12\nPetrol     -2.307857e+13",
      "text/html": "<div>\n<style scoped>\n    .dataframe tbody tr th:only-of-type {\n        vertical-align: middle;\n    }\n\n    .dataframe tbody tr th {\n        vertical-align: top;\n    }\n\n    .dataframe thead th {\n        text-align: right;\n    }\n</style>\n<table border=\"1\" class=\"dataframe\">\n  <thead>\n    <tr style=\"text-align: right;\">\n      <th></th>\n      <th>Coefficients</th>\n    </tr>\n  </thead>\n  <tbody>\n    <tr>\n      <th>year</th>\n      <td>4.230205e+03</td>\n    </tr>\n    <tr>\n      <th>mileage</th>\n      <td>-2.837290e+03</td>\n    </tr>\n    <tr>\n      <th>tax</th>\n      <td>-6.395969e+02</td>\n    </tr>\n    <tr>\n      <th>mpg</th>\n      <td>-2.635620e+03</td>\n    </tr>\n    <tr>\n      <th>engineSize</th>\n      <td>1.991437e+03</td>\n    </tr>\n    <tr>\n      <th>1 Series</th>\n      <td>1.265771e+15</td>\n    </tr>\n    <tr>\n      <th>2 Series</th>\n      <td>1.057204e+15</td>\n    </tr>\n    <tr>\n      <th>3 Series</th>\n      <td>1.382042e+15</td>\n    </tr>\n    <tr>\n      <th>4 Series</th>\n      <td>9.455810e+14</td>\n    </tr>\n    <tr>\n      <th>5 Series</th>\n      <td>9.705007e+14</td>\n    </tr>\n    <tr>\n      <th>6 Series</th>\n      <td>3.306258e+14</td>\n    </tr>\n    <tr>\n      <th>7 Series</th>\n      <td>3.263476e+14</td>\n    </tr>\n    <tr>\n      <th>8 Series</th>\n      <td>2.070238e+14</td>\n    </tr>\n    <tr>\n      <th>M2</th>\n      <td>1.465346e+14</td>\n    </tr>\n    <tr>\n      <th>M3</th>\n      <td>1.465346e+14</td>\n    </tr>\n    <tr>\n      <th>M4</th>\n      <td>3.431272e+14</td>\n    </tr>\n    <tr>\n      <th>M5</th>\n      <td>1.691471e+14</td>\n    </tr>\n    <tr>\n      <th>M6</th>\n      <td>1.001556e+14</td>\n    </tr>\n    <tr>\n      <th>X1</th>\n      <td>8.636018e+14</td>\n    </tr>\n    <tr>\n      <th>X2</th>\n      <td>5.258495e+14</td>\n    </tr>\n    <tr>\n      <th>X3</th>\n      <td>7.300209e+14</td>\n    </tr>\n    <tr>\n      <th>X4</th>\n      <td>4.215422e+14</td>\n    </tr>\n    <tr>\n      <th>X5</th>\n      <td>6.589327e+14</td>\n    </tr>\n    <tr>\n      <th>X6</th>\n      <td>3.198185e+14</td>\n    </tr>\n    <tr>\n      <th>X7</th>\n      <td>2.418422e+14</td>\n    </tr>\n    <tr>\n      <th>Z3</th>\n      <td>7.572561e+13</td>\n    </tr>\n    <tr>\n      <th>Z4</th>\n      <td>3.241865e+14</td>\n    </tr>\n    <tr>\n      <th>i3</th>\n      <td>9.273220e+13</td>\n    </tr>\n    <tr>\n      <th>i8</th>\n      <td>1.135506e+14</td>\n    </tr>\n    <tr>\n      <th>Automatic</th>\n      <td>4.545150e+15</td>\n    </tr>\n    <tr>\n      <th>Manual</th>\n      <td>4.084907e+15</td>\n    </tr>\n    <tr>\n      <th>Semi-Auto</th>\n      <td>4.768402e+15</td>\n    </tr>\n    <tr>\n      <th>Diesel</th>\n      <td>-2.359007e+13</td>\n    </tr>\n    <tr>\n      <th>Electric</th>\n      <td>-5.719637e+11</td>\n    </tr>\n    <tr>\n      <th>Hybrid</th>\n      <td>-7.804089e+12</td>\n    </tr>\n    <tr>\n      <th>Other</th>\n      <td>-2.855246e+12</td>\n    </tr>\n    <tr>\n      <th>Petrol</th>\n      <td>-2.307857e+13</td>\n    </tr>\n  </tbody>\n</table>\n</div>"
     },
     "execution_count": 63,
     "metadata": {},
     "output_type": "execute_result"
    }
   ],
   "source": [
    "model = Ridge()\n",
    "\n",
    "model.fit(X_train_scaled, Y_train)\n",
    "predictions = model.predict(X_test_scaled)\n",
    "\n",
    "print (f'RMSE = {round(metrics.mean_squared_error(Y_test, predictions, squared=False), 3)}')\n",
    "\n",
    "pd.DataFrame(simple_LR.coef_,  auto_data_dummy_without_price.columns, columns=['Coefficients'])"
   ],
   "metadata": {
    "collapsed": false,
    "pycharm": {
     "name": "#%%\n"
    }
   }
  },
  {
   "cell_type": "markdown",
   "source": [
    "### RidgeCV()"
   ],
   "metadata": {
    "collapsed": false
   }
  },
  {
   "cell_type": "code",
   "execution_count": 64,
   "outputs": [
    {
     "name": "stdout",
     "output_type": "stream",
     "text": [
      "RMSE = 3882.235\n"
     ]
    },
    {
     "data": {
      "text/plain": "            Coefficients\nyear        4.230205e+03\nmileage    -2.837290e+03\ntax        -6.395969e+02\nmpg        -2.635620e+03\nengineSize  1.991437e+03\n 1 Series   1.265771e+15\n 2 Series   1.057204e+15\n 3 Series   1.382042e+15\n 4 Series   9.455810e+14\n 5 Series   9.705007e+14\n 6 Series   3.306258e+14\n 7 Series   3.263476e+14\n 8 Series   2.070238e+14\n M2         1.465346e+14\n M3         1.465346e+14\n M4         3.431272e+14\n M5         1.691471e+14\n M6         1.001556e+14\n X1         8.636018e+14\n X2         5.258495e+14\n X3         7.300209e+14\n X4         4.215422e+14\n X5         6.589327e+14\n X6         3.198185e+14\n X7         2.418422e+14\n Z3         7.572561e+13\n Z4         3.241865e+14\n i3         9.273220e+13\n i8         1.135506e+14\nAutomatic   4.545150e+15\nManual      4.084907e+15\nSemi-Auto   4.768402e+15\nDiesel     -2.359007e+13\nElectric   -5.719637e+11\nHybrid     -7.804089e+12\nOther      -2.855246e+12\nPetrol     -2.307857e+13",
      "text/html": "<div>\n<style scoped>\n    .dataframe tbody tr th:only-of-type {\n        vertical-align: middle;\n    }\n\n    .dataframe tbody tr th {\n        vertical-align: top;\n    }\n\n    .dataframe thead th {\n        text-align: right;\n    }\n</style>\n<table border=\"1\" class=\"dataframe\">\n  <thead>\n    <tr style=\"text-align: right;\">\n      <th></th>\n      <th>Coefficients</th>\n    </tr>\n  </thead>\n  <tbody>\n    <tr>\n      <th>year</th>\n      <td>4.230205e+03</td>\n    </tr>\n    <tr>\n      <th>mileage</th>\n      <td>-2.837290e+03</td>\n    </tr>\n    <tr>\n      <th>tax</th>\n      <td>-6.395969e+02</td>\n    </tr>\n    <tr>\n      <th>mpg</th>\n      <td>-2.635620e+03</td>\n    </tr>\n    <tr>\n      <th>engineSize</th>\n      <td>1.991437e+03</td>\n    </tr>\n    <tr>\n      <th>1 Series</th>\n      <td>1.265771e+15</td>\n    </tr>\n    <tr>\n      <th>2 Series</th>\n      <td>1.057204e+15</td>\n    </tr>\n    <tr>\n      <th>3 Series</th>\n      <td>1.382042e+15</td>\n    </tr>\n    <tr>\n      <th>4 Series</th>\n      <td>9.455810e+14</td>\n    </tr>\n    <tr>\n      <th>5 Series</th>\n      <td>9.705007e+14</td>\n    </tr>\n    <tr>\n      <th>6 Series</th>\n      <td>3.306258e+14</td>\n    </tr>\n    <tr>\n      <th>7 Series</th>\n      <td>3.263476e+14</td>\n    </tr>\n    <tr>\n      <th>8 Series</th>\n      <td>2.070238e+14</td>\n    </tr>\n    <tr>\n      <th>M2</th>\n      <td>1.465346e+14</td>\n    </tr>\n    <tr>\n      <th>M3</th>\n      <td>1.465346e+14</td>\n    </tr>\n    <tr>\n      <th>M4</th>\n      <td>3.431272e+14</td>\n    </tr>\n    <tr>\n      <th>M5</th>\n      <td>1.691471e+14</td>\n    </tr>\n    <tr>\n      <th>M6</th>\n      <td>1.001556e+14</td>\n    </tr>\n    <tr>\n      <th>X1</th>\n      <td>8.636018e+14</td>\n    </tr>\n    <tr>\n      <th>X2</th>\n      <td>5.258495e+14</td>\n    </tr>\n    <tr>\n      <th>X3</th>\n      <td>7.300209e+14</td>\n    </tr>\n    <tr>\n      <th>X4</th>\n      <td>4.215422e+14</td>\n    </tr>\n    <tr>\n      <th>X5</th>\n      <td>6.589327e+14</td>\n    </tr>\n    <tr>\n      <th>X6</th>\n      <td>3.198185e+14</td>\n    </tr>\n    <tr>\n      <th>X7</th>\n      <td>2.418422e+14</td>\n    </tr>\n    <tr>\n      <th>Z3</th>\n      <td>7.572561e+13</td>\n    </tr>\n    <tr>\n      <th>Z4</th>\n      <td>3.241865e+14</td>\n    </tr>\n    <tr>\n      <th>i3</th>\n      <td>9.273220e+13</td>\n    </tr>\n    <tr>\n      <th>i8</th>\n      <td>1.135506e+14</td>\n    </tr>\n    <tr>\n      <th>Automatic</th>\n      <td>4.545150e+15</td>\n    </tr>\n    <tr>\n      <th>Manual</th>\n      <td>4.084907e+15</td>\n    </tr>\n    <tr>\n      <th>Semi-Auto</th>\n      <td>4.768402e+15</td>\n    </tr>\n    <tr>\n      <th>Diesel</th>\n      <td>-2.359007e+13</td>\n    </tr>\n    <tr>\n      <th>Electric</th>\n      <td>-5.719637e+11</td>\n    </tr>\n    <tr>\n      <th>Hybrid</th>\n      <td>-7.804089e+12</td>\n    </tr>\n    <tr>\n      <th>Other</th>\n      <td>-2.855246e+12</td>\n    </tr>\n    <tr>\n      <th>Petrol</th>\n      <td>-2.307857e+13</td>\n    </tr>\n  </tbody>\n</table>\n</div>"
     },
     "execution_count": 64,
     "metadata": {},
     "output_type": "execute_result"
    }
   ],
   "source": [
    "model = RidgeCV()\n",
    "\n",
    "model.fit(X_train_scaled, Y_train)\n",
    "predictions = model.predict(X_test_scaled)\n",
    "\n",
    "print (f'RMSE = {round(metrics.mean_squared_error(Y_test, predictions, squared=False), 3)}')\n",
    "\n",
    "pd.DataFrame(simple_LR.coef_,  auto_data_dummy_without_price.columns, columns=['Coefficients'])"
   ],
   "metadata": {
    "collapsed": false,
    "pycharm": {
     "name": "#%%\n"
    }
   }
  },
  {
   "cell_type": "markdown",
   "source": [
    "### RandomForestRegressor"
   ],
   "metadata": {
    "collapsed": false
   }
  },
  {
   "cell_type": "code",
   "execution_count": 86,
   "outputs": [
    {
     "name": "stdout",
     "output_type": "stream",
     "text": [
      "RMSE = 2488.316\n"
     ]
    },
    {
     "data": {
      "text/plain": "              Importance\n Z3         9.790872e-07\nElectric    1.633917e-06\n i3         6.129128e-06\nOther       2.100620e-05\n M2         2.664232e-05\n M6         8.813528e-05\n M3         1.068184e-04\n Z4         3.645972e-04\n M4         5.432295e-04\n M5         6.465577e-04\n X2         6.599110e-04\n 6 Series   9.544640e-04\nAutomatic   1.293655e-03\n X1         1.321699e-03\nSemi-Auto   1.417776e-03\n 4 Series   1.910722e-03\nPetrol      2.053337e-03\nDiesel      2.064661e-03\n X4         2.076125e-03\n 3 Series   2.091872e-03\nHybrid      2.530091e-03\n 5 Series   3.582706e-03\n X6         5.426437e-03\n 2 Series   5.968643e-03\n 1 Series   6.071237e-03\n 8 Series   6.129351e-03\n 7 Series   7.936189e-03\n X3         8.205936e-03\n X7         9.451726e-03\ntax         1.044315e-02\n i8         1.152749e-02\n X5         1.233513e-02\nManual      1.252367e-02\nmileage     7.105326e-02\nmpg         9.028747e-02\nengineSize  2.718315e-01\nyear        4.470460e-01",
      "text/html": "<div>\n<style scoped>\n    .dataframe tbody tr th:only-of-type {\n        vertical-align: middle;\n    }\n\n    .dataframe tbody tr th {\n        vertical-align: top;\n    }\n\n    .dataframe thead th {\n        text-align: right;\n    }\n</style>\n<table border=\"1\" class=\"dataframe\">\n  <thead>\n    <tr style=\"text-align: right;\">\n      <th></th>\n      <th>Importance</th>\n    </tr>\n  </thead>\n  <tbody>\n    <tr>\n      <th>Z3</th>\n      <td>9.790872e-07</td>\n    </tr>\n    <tr>\n      <th>Electric</th>\n      <td>1.633917e-06</td>\n    </tr>\n    <tr>\n      <th>i3</th>\n      <td>6.129128e-06</td>\n    </tr>\n    <tr>\n      <th>Other</th>\n      <td>2.100620e-05</td>\n    </tr>\n    <tr>\n      <th>M2</th>\n      <td>2.664232e-05</td>\n    </tr>\n    <tr>\n      <th>M6</th>\n      <td>8.813528e-05</td>\n    </tr>\n    <tr>\n      <th>M3</th>\n      <td>1.068184e-04</td>\n    </tr>\n    <tr>\n      <th>Z4</th>\n      <td>3.645972e-04</td>\n    </tr>\n    <tr>\n      <th>M4</th>\n      <td>5.432295e-04</td>\n    </tr>\n    <tr>\n      <th>M5</th>\n      <td>6.465577e-04</td>\n    </tr>\n    <tr>\n      <th>X2</th>\n      <td>6.599110e-04</td>\n    </tr>\n    <tr>\n      <th>6 Series</th>\n      <td>9.544640e-04</td>\n    </tr>\n    <tr>\n      <th>Automatic</th>\n      <td>1.293655e-03</td>\n    </tr>\n    <tr>\n      <th>X1</th>\n      <td>1.321699e-03</td>\n    </tr>\n    <tr>\n      <th>Semi-Auto</th>\n      <td>1.417776e-03</td>\n    </tr>\n    <tr>\n      <th>4 Series</th>\n      <td>1.910722e-03</td>\n    </tr>\n    <tr>\n      <th>Petrol</th>\n      <td>2.053337e-03</td>\n    </tr>\n    <tr>\n      <th>Diesel</th>\n      <td>2.064661e-03</td>\n    </tr>\n    <tr>\n      <th>X4</th>\n      <td>2.076125e-03</td>\n    </tr>\n    <tr>\n      <th>3 Series</th>\n      <td>2.091872e-03</td>\n    </tr>\n    <tr>\n      <th>Hybrid</th>\n      <td>2.530091e-03</td>\n    </tr>\n    <tr>\n      <th>5 Series</th>\n      <td>3.582706e-03</td>\n    </tr>\n    <tr>\n      <th>X6</th>\n      <td>5.426437e-03</td>\n    </tr>\n    <tr>\n      <th>2 Series</th>\n      <td>5.968643e-03</td>\n    </tr>\n    <tr>\n      <th>1 Series</th>\n      <td>6.071237e-03</td>\n    </tr>\n    <tr>\n      <th>8 Series</th>\n      <td>6.129351e-03</td>\n    </tr>\n    <tr>\n      <th>7 Series</th>\n      <td>7.936189e-03</td>\n    </tr>\n    <tr>\n      <th>X3</th>\n      <td>8.205936e-03</td>\n    </tr>\n    <tr>\n      <th>X7</th>\n      <td>9.451726e-03</td>\n    </tr>\n    <tr>\n      <th>tax</th>\n      <td>1.044315e-02</td>\n    </tr>\n    <tr>\n      <th>i8</th>\n      <td>1.152749e-02</td>\n    </tr>\n    <tr>\n      <th>X5</th>\n      <td>1.233513e-02</td>\n    </tr>\n    <tr>\n      <th>Manual</th>\n      <td>1.252367e-02</td>\n    </tr>\n    <tr>\n      <th>mileage</th>\n      <td>7.105326e-02</td>\n    </tr>\n    <tr>\n      <th>mpg</th>\n      <td>9.028747e-02</td>\n    </tr>\n    <tr>\n      <th>engineSize</th>\n      <td>2.718315e-01</td>\n    </tr>\n    <tr>\n      <th>year</th>\n      <td>4.470460e-01</td>\n    </tr>\n  </tbody>\n</table>\n</div>"
     },
     "execution_count": 86,
     "metadata": {},
     "output_type": "execute_result"
    }
   ],
   "source": [
    "from sklearn.ensemble import RandomForestRegressor\n",
    "\n",
    "model = RandomForestRegressor(random_state = 10, n_estimators = 100)\n",
    "\n",
    "model.fit(X_train, Y_train)\n",
    "predictions = model.predict(X_test)\n",
    "\n",
    "print (f'RMSE = {round(metrics.mean_squared_error(Y_test, predictions, squared=False), 3)}')\n",
    "\n",
    "pd.DataFrame(model.feature_importances_, auto_data_dummy_without_price.columns,\n",
    "             columns=['Importance']).sort_values('Importance')"
   ],
   "metadata": {
    "collapsed": false,
    "pycharm": {
     "name": "#%%\n"
    }
   }
  },
  {
   "cell_type": "code",
   "execution_count": 87,
   "outputs": [
    {
     "data": {
      "text/plain": "Text(0, 0.5, 'Target')"
     },
     "execution_count": 87,
     "metadata": {},
     "output_type": "execute_result"
    },
    {
     "data": {
      "text/plain": "<Figure size 576x576 with 1 Axes>",
      "image/png": "[encoded data removed]"
     },
     "metadata": {
      "needs_background": "light"
     },
     "output_type": "display_data"
    }
   ],
   "source": [
    "plt.figure(figsize=(8, 8))\n",
    "plt.scatter(predictions, Y_test)\n",
    "plt.xlabel('Predictions')\n",
    "plt.ylabel('Target')"
   ],
   "metadata": {
    "collapsed": false,
    "pycharm": {
     "name": "#%%\n"
    }
   }
  },
  {
   "cell_type": "code",
   "execution_count": null,
   "outputs": [],
   "source": [],
   "metadata": {
    "collapsed": false,
    "pycharm": {
     "name": "#%%\n"
    }
   }
  }
 ],
 "metadata": {
  "kernelspec": {
   "display_name": "Python 3 (ipykernel)",
   "language": "python",
   "name": "python3"
  },
  "language_info": {
   "codemirror_mode": {
    "name": "ipython",
    "version": 3
   },
   "file_extension": ".py",
   "mimetype": "text/x-python",
   "name": "python",
   "nbconvert_exporter": "python",
   "pygments_lexer": "ipython3",
   "version": "3.9.7"
  }
 },
 "nbformat": 4,
 "nbformat_minor": 4
}
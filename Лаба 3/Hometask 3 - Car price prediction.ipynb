{
 "cells": [
  {
   "cell_type": "markdown",
   "metadata": {},
   "source": [
    "### 100,000 UK Used Car Data set\n",
    "https://www.kaggle.com/adityadesai13/used-car-dataset-ford-and-mercedes\n",
    "\n",
    "\n",
    "1. Выбрать набор данных для своей группы: <br>\n",
    "    3530203_70301: Mercedes<br>\n",
    "    3530203_70302: Ford <br>\n",
    "    3530903_70101: BMW <br>\n",
    "    3530903_70102: Audi <br>\n",
    "    \n",
    "2. Разбить данные на тренировочные и тестовые (70% на 30%, random_state=10).\n",
    "3. Применить доступные способы предобработки данных.\n",
    "4. Попытаться обучить регрессию для предсказания цены автомобиля c наилучшим качеством. Качество оценивать по метрике RMSE на тестовой подвыборке. Попробовать различные модели регуляризации (и не только).\n"
   ]
  },
  {
   "cell_type": "code",
   "execution_count": 66,
   "metadata": {},
   "outputs": [],
   "source": [
    "import pandas as pd\n",
    "import numpy as np\n",
    "import matplotlib.pyplot as plt\n",
    "import sklearn.metrics as metrics\n",
    "from sklearn.model_selection import train_test_split\n",
    "from sklearn.linear_model import LinearRegression, Lasso, Ridge, LassoCV, RidgeCV\n",
    "from sklearn.preprocessing import StandardScaler\n",
    "import seaborn as sns\n",
    "from sklearn.model_selection import train_test_split\n"
   ]
  },
  {
   "cell_type": "code",
   "execution_count": 114,
   "metadata": {},
   "outputs": [
    {
     "data": {
      "text/plain": "           model  year  price transmission  mileage fuelType  tax   mpg  \\\n0       5 Series  2014  11200    Automatic    67068   Diesel  125  57.6   \n1       6 Series  2018  27000    Automatic    14827   Petrol  145  42.8   \n2       5 Series  2016  16000    Automatic    62794   Diesel  160  51.4   \n3       1 Series  2017  12750    Automatic    26676   Diesel  145  72.4   \n4       7 Series  2014  14500    Automatic    39554   Diesel  160  50.4   \n...          ...   ...    ...          ...      ...      ...  ...   ...   \n10776         X3  2016  19000    Automatic    40818   Diesel  150  54.3   \n10777   5 Series  2016  14600    Automatic    42947   Diesel  125  60.1   \n10778   3 Series  2017  13100       Manual    25468   Petrol  200  42.8   \n10779   1 Series  2014   9930    Automatic    45000   Diesel   30  64.2   \n10780         X1  2017  15981    Automatic    59432   Diesel  125  57.6   \n\n       engineSize  \n0             2.0  \n1             2.0  \n2             3.0  \n3             1.5  \n4             3.0  \n...           ...  \n10776         2.0  \n10777         2.0  \n10778         2.0  \n10779         2.0  \n10780         2.0  \n\n[10781 rows x 9 columns]",
      "text/html": "<div>\n<style scoped>\n    .dataframe tbody tr th:only-of-type {\n        vertical-align: middle;\n    }\n\n    .dataframe tbody tr th {\n        vertical-align: top;\n    }\n\n    .dataframe thead th {\n        text-align: right;\n    }\n</style>\n<table border=\"1\" class=\"dataframe\">\n  <thead>\n    <tr style=\"text-align: right;\">\n      <th></th>\n      <th>model</th>\n      <th>year</th>\n      <th>price</th>\n      <th>transmission</th>\n      <th>mileage</th>\n      <th>fuelType</th>\n      <th>tax</th>\n      <th>mpg</th>\n      <th>engineSize</th>\n    </tr>\n  </thead>\n  <tbody>\n    <tr>\n      <th>0</th>\n      <td>5 Series</td>\n      <td>2014</td>\n      <td>11200</td>\n      <td>Automatic</td>\n      <td>67068</td>\n      <td>Diesel</td>\n      <td>125</td>\n      <td>57.6</td>\n      <td>2.0</td>\n    </tr>\n    <tr>\n      <th>1</th>\n      <td>6 Series</td>\n      <td>2018</td>\n      <td>27000</td>\n      <td>Automatic</td>\n      <td>14827</td>\n      <td>Petrol</td>\n      <td>145</td>\n      <td>42.8</td>\n      <td>2.0</td>\n    </tr>\n    <tr>\n      <th>2</th>\n      <td>5 Series</td>\n      <td>2016</td>\n      <td>16000</td>\n      <td>Automatic</td>\n      <td>62794</td>\n      <td>Diesel</td>\n      <td>160</td>\n      <td>51.4</td>\n      <td>3.0</td>\n    </tr>\n    <tr>\n      <th>3</th>\n      <td>1 Series</td>\n      <td>2017</td>\n      <td>12750</td>\n      <td>Automatic</td>\n      <td>26676</td>\n      <td>Diesel</td>\n      <td>145</td>\n      <td>72.4</td>\n      <td>1.5</td>\n    </tr>\n    <tr>\n      <th>4</th>\n      <td>7 Series</td>\n      <td>2014</td>\n      <td>14500</td>\n      <td>Automatic</td>\n      <td>39554</td>\n      <td>Diesel</td>\n      <td>160</td>\n      <td>50.4</td>\n      <td>3.0</td>\n    </tr>\n    <tr>\n      <th>...</th>\n      <td>...</td>\n      <td>...</td>\n      <td>...</td>\n      <td>...</td>\n      <td>...</td>\n      <td>...</td>\n      <td>...</td>\n      <td>...</td>\n      <td>...</td>\n    </tr>\n    <tr>\n      <th>10776</th>\n      <td>X3</td>\n      <td>2016</td>\n      <td>19000</td>\n      <td>Automatic</td>\n      <td>40818</td>\n      <td>Diesel</td>\n      <td>150</td>\n      <td>54.3</td>\n      <td>2.0</td>\n    </tr>\n    <tr>\n      <th>10777</th>\n      <td>5 Series</td>\n      <td>2016</td>\n      <td>14600</td>\n      <td>Automatic</td>\n      <td>42947</td>\n      <td>Diesel</td>\n      <td>125</td>\n      <td>60.1</td>\n      <td>2.0</td>\n    </tr>\n    <tr>\n      <th>10778</th>\n      <td>3 Series</td>\n      <td>2017</td>\n      <td>13100</td>\n      <td>Manual</td>\n      <td>25468</td>\n      <td>Petrol</td>\n      <td>200</td>\n      <td>42.8</td>\n      <td>2.0</td>\n    </tr>\n    <tr>\n      <th>10779</th>\n      <td>1 Series</td>\n      <td>2014</td>\n      <td>9930</td>\n      <td>Automatic</td>\n      <td>45000</td>\n      <td>Diesel</td>\n      <td>30</td>\n      <td>64.2</td>\n      <td>2.0</td>\n    </tr>\n    <tr>\n      <th>10780</th>\n      <td>X1</td>\n      <td>2017</td>\n      <td>15981</td>\n      <td>Automatic</td>\n      <td>59432</td>\n      <td>Diesel</td>\n      <td>125</td>\n      <td>57.6</td>\n      <td>2.0</td>\n    </tr>\n  </tbody>\n</table>\n<p>10781 rows × 9 columns</p>\n</div>"
     },
     "execution_count": 114,
     "metadata": {},
     "output_type": "execute_result"
    }
   ],
   "source": [
    "auto_data = pd.read_csv(\"bmw.csv\")\n",
    "auto_data"
   ]
  },
  {
   "cell_type": "markdown",
   "source": [
    "## Data preprocessing"
   ],
   "metadata": {
    "collapsed": false
   }
  },
  {
   "cell_type": "code",
   "execution_count": 5,
   "outputs": [
    {
     "name": "stdout",
     "output_type": "stream",
     "text": [
      "<class 'pandas.core.frame.DataFrame'>\n",
      "RangeIndex: 10781 entries, 0 to 10780\n",
      "Data columns (total 9 columns):\n",
      " #   Column        Non-Null Count  Dtype  \n",
      "---  ------        --------------  -----  \n",
      " 0   model         10781 non-null  object \n",
      " 1   year          10781 non-null  int64  \n",
      " 2   price         10781 non-null  int64  \n",
      " 3   transmission  10781 non-null  object \n",
      " 4   mileage       10781 non-null  int64  \n",
      " 5   fuelType      10781 non-null  object \n",
      " 6   tax           10781 non-null  int64  \n",
      " 7   mpg           10781 non-null  float64\n",
      " 8   engineSize    10781 non-null  float64\n",
      "dtypes: float64(2), int64(4), object(3)\n",
      "memory usage: 758.2+ KB\n"
     ]
    }
   ],
   "source": [
    "auto_data.info()"
   ],
   "metadata": {
    "collapsed": false,
    "pycharm": {
     "name": "#%%\n"
    }
   }
  },
  {
   "cell_type": "markdown",
   "source": [
    "Нет null значений"
   ],
   "metadata": {
    "collapsed": false
   }
  },
  {
   "cell_type": "code",
   "execution_count": 6,
   "outputs": [
    {
     "data": {
      "text/plain": "               year          price        mileage           tax           mpg  \\\ncount  10781.000000   10781.000000   10781.000000  10781.000000  10781.000000   \nmean    2017.078935   22733.408867   25496.986550    131.702068     56.399035   \nstd        2.349038   11415.528189   25143.192559     61.510755     31.336958   \nmin     1996.000000    1200.000000       1.000000      0.000000      5.500000   \n25%     2016.000000   14950.000000    5529.000000    135.000000     45.600000   \n50%     2017.000000   20462.000000   18347.000000    145.000000     53.300000   \n75%     2019.000000   27940.000000   38206.000000    145.000000     62.800000   \nmax     2020.000000  123456.000000  214000.000000    580.000000    470.800000   \n\n         engineSize  \ncount  10781.000000  \nmean       2.167767  \nstd        0.552054  \nmin        0.000000  \n25%        2.000000  \n50%        2.000000  \n75%        2.000000  \nmax        6.600000  ",
      "text/html": "<div>\n<style scoped>\n    .dataframe tbody tr th:only-of-type {\n        vertical-align: middle;\n    }\n\n    .dataframe tbody tr th {\n        vertical-align: top;\n    }\n\n    .dataframe thead th {\n        text-align: right;\n    }\n</style>\n<table border=\"1\" class=\"dataframe\">\n  <thead>\n    <tr style=\"text-align: right;\">\n      <th></th>\n      <th>year</th>\n      <th>price</th>\n      <th>mileage</th>\n      <th>tax</th>\n      <th>mpg</th>\n      <th>engineSize</th>\n    </tr>\n  </thead>\n  <tbody>\n    <tr>\n      <th>count</th>\n      <td>10781.000000</td>\n      <td>10781.000000</td>\n      <td>10781.000000</td>\n      <td>10781.000000</td>\n      <td>10781.000000</td>\n      <td>10781.000000</td>\n    </tr>\n    <tr>\n      <th>mean</th>\n      <td>2017.078935</td>\n      <td>22733.408867</td>\n      <td>25496.986550</td>\n      <td>131.702068</td>\n      <td>56.399035</td>\n      <td>2.167767</td>\n    </tr>\n    <tr>\n      <th>std</th>\n      <td>2.349038</td>\n      <td>11415.528189</td>\n      <td>25143.192559</td>\n      <td>61.510755</td>\n      <td>31.336958</td>\n      <td>0.552054</td>\n    </tr>\n    <tr>\n      <th>min</th>\n      <td>1996.000000</td>\n      <td>1200.000000</td>\n      <td>1.000000</td>\n      <td>0.000000</td>\n      <td>5.500000</td>\n      <td>0.000000</td>\n    </tr>\n    <tr>\n      <th>25%</th>\n      <td>2016.000000</td>\n      <td>14950.000000</td>\n      <td>5529.000000</td>\n      <td>135.000000</td>\n      <td>45.600000</td>\n      <td>2.000000</td>\n    </tr>\n    <tr>\n      <th>50%</th>\n      <td>2017.000000</td>\n      <td>20462.000000</td>\n      <td>18347.000000</td>\n      <td>145.000000</td>\n      <td>53.300000</td>\n      <td>2.000000</td>\n    </tr>\n    <tr>\n      <th>75%</th>\n      <td>2019.000000</td>\n      <td>27940.000000</td>\n      <td>38206.000000</td>\n      <td>145.000000</td>\n      <td>62.800000</td>\n      <td>2.000000</td>\n    </tr>\n    <tr>\n      <th>max</th>\n      <td>2020.000000</td>\n      <td>123456.000000</td>\n      <td>214000.000000</td>\n      <td>580.000000</td>\n      <td>470.800000</td>\n      <td>6.600000</td>\n    </tr>\n  </tbody>\n</table>\n</div>"
     },
     "execution_count": 6,
     "metadata": {},
     "output_type": "execute_result"
    }
   ],
   "source": [
    "auto_data.describe()"
   ],
   "metadata": {
    "collapsed": false,
    "pycharm": {
     "name": "#%%\n"
    }
   }
  },
  {
   "cell_type": "markdown",
   "source": [
    "* `year` -- реалистично\n",
    "* `price=1200` -- неправдоподобно\n",
    "* `price=123456` -- надо проверить\n",
    "* `mpg=470.8` -- вероятно выброс (кол-во миль на галон)\n",
    "* `mileage=1` -- реалистичный пробег, машина с завода\n",
    "* `tax=0` -- наверное, корректное значение\n",
    "* `engineSize=0` -- пустое значение\n",
    "* `engineSize=6.6` -- реалистично, проверили, есть, например, у BMW 7-series"
   ],
   "metadata": {
    "collapsed": false
   }
  },
  {
   "cell_type": "code",
   "execution_count": 115,
   "outputs": [
    {
     "data": {
      "text/plain": "47"
     },
     "execution_count": 115,
     "metadata": {},
     "output_type": "execute_result"
    }
   ],
   "source": [
    "zero_engine = auto_data[auto_data['engineSize'] == 0]\n",
    "len(zero_engine)"
   ],
   "metadata": {
    "collapsed": false,
    "pycharm": {
     "name": "#%%\n"
    }
   }
  },
  {
   "cell_type": "code",
   "execution_count": 119,
   "outputs": [],
   "source": [
    "auto_data.drop(zero_engine.index, inplace=True)"
   ],
   "metadata": {
    "collapsed": false,
    "pycharm": {
     "name": "#%%\n"
    }
   }
  },
  {
   "cell_type": "code",
   "execution_count": 116,
   "outputs": [
    {
     "data": {
      "text/plain": "          model  year  price transmission  mileage fuelType  tax   mpg  \\\n9585   7 Series  2017  52950    Automatic    22000   Petrol  150  22.1   \n9799   7 Series  2017  57000    Automatic    11297   Petrol  145  22.1   \n\n      engineSize  \n9585         6.6  \n9799         6.6  ",
      "text/html": "<div>\n<style scoped>\n    .dataframe tbody tr th:only-of-type {\n        vertical-align: middle;\n    }\n\n    .dataframe tbody tr th {\n        vertical-align: top;\n    }\n\n    .dataframe thead th {\n        text-align: right;\n    }\n</style>\n<table border=\"1\" class=\"dataframe\">\n  <thead>\n    <tr style=\"text-align: right;\">\n      <th></th>\n      <th>model</th>\n      <th>year</th>\n      <th>price</th>\n      <th>transmission</th>\n      <th>mileage</th>\n      <th>fuelType</th>\n      <th>tax</th>\n      <th>mpg</th>\n      <th>engineSize</th>\n    </tr>\n  </thead>\n  <tbody>\n    <tr>\n      <th>9585</th>\n      <td>7 Series</td>\n      <td>2017</td>\n      <td>52950</td>\n      <td>Automatic</td>\n      <td>22000</td>\n      <td>Petrol</td>\n      <td>150</td>\n      <td>22.1</td>\n      <td>6.6</td>\n    </tr>\n    <tr>\n      <th>9799</th>\n      <td>7 Series</td>\n      <td>2017</td>\n      <td>57000</td>\n      <td>Automatic</td>\n      <td>11297</td>\n      <td>Petrol</td>\n      <td>145</td>\n      <td>22.1</td>\n      <td>6.6</td>\n    </tr>\n  </tbody>\n</table>\n</div>"
     },
     "execution_count": 116,
     "metadata": {},
     "output_type": "execute_result"
    }
   ],
   "source": [
    "max_engine = auto_data[auto_data['engineSize'] == 6.6]\n",
    "max_engine"
   ],
   "metadata": {
    "collapsed": false,
    "pycharm": {
     "name": "#%%\n"
    }
   }
  },
  {
   "cell_type": "markdown",
   "source": [
    "Все хорошо, у этой модели есть такой модели есть такой объем двигателя"
   ],
   "metadata": {
    "collapsed": false
   }
  },
  {
   "cell_type": "code",
   "execution_count": 120,
   "outputs": [
    {
     "data": {
      "text/plain": "          model  year  price transmission  mileage fuelType  tax   mpg  \\\n721    8 Series  2019  84898    Semi-Auto     3185   Petrol  145  24.4   \n1813   8 Series  2019  88980    Semi-Auto       88   Petrol  145  24.4   \n2909         M4  2017  89990    Semi-Auto     1336   Petrol  145  33.2   \n4776         M5  2019  89900    Semi-Auto     2269   Petrol  145  24.1   \n5362         M4  2016  99950    Automatic      771   Petrol  300  33.2   \n5877         M5  2019  81140    Semi-Auto      551   Petrol  145  24.1   \n\n      engineSize  \n721          4.4  \n1813         4.4  \n2909         3.0  \n4776         4.4  \n5362         3.0  \n5877         4.4  ",
      "text/html": "<div>\n<style scoped>\n    .dataframe tbody tr th:only-of-type {\n        vertical-align: middle;\n    }\n\n    .dataframe tbody tr th {\n        vertical-align: top;\n    }\n\n    .dataframe thead th {\n        text-align: right;\n    }\n</style>\n<table border=\"1\" class=\"dataframe\">\n  <thead>\n    <tr style=\"text-align: right;\">\n      <th></th>\n      <th>model</th>\n      <th>year</th>\n      <th>price</th>\n      <th>transmission</th>\n      <th>mileage</th>\n      <th>fuelType</th>\n      <th>tax</th>\n      <th>mpg</th>\n      <th>engineSize</th>\n    </tr>\n  </thead>\n  <tbody>\n    <tr>\n      <th>721</th>\n      <td>8 Series</td>\n      <td>2019</td>\n      <td>84898</td>\n      <td>Semi-Auto</td>\n      <td>3185</td>\n      <td>Petrol</td>\n      <td>145</td>\n      <td>24.4</td>\n      <td>4.4</td>\n    </tr>\n    <tr>\n      <th>1813</th>\n      <td>8 Series</td>\n      <td>2019</td>\n      <td>88980</td>\n      <td>Semi-Auto</td>\n      <td>88</td>\n      <td>Petrol</td>\n      <td>145</td>\n      <td>24.4</td>\n      <td>4.4</td>\n    </tr>\n    <tr>\n      <th>2909</th>\n      <td>M4</td>\n      <td>2017</td>\n      <td>89990</td>\n      <td>Semi-Auto</td>\n      <td>1336</td>\n      <td>Petrol</td>\n      <td>145</td>\n      <td>33.2</td>\n      <td>3.0</td>\n    </tr>\n    <tr>\n      <th>4776</th>\n      <td>M5</td>\n      <td>2019</td>\n      <td>89900</td>\n      <td>Semi-Auto</td>\n      <td>2269</td>\n      <td>Petrol</td>\n      <td>145</td>\n      <td>24.1</td>\n      <td>4.4</td>\n    </tr>\n    <tr>\n      <th>5362</th>\n      <td>M4</td>\n      <td>2016</td>\n      <td>99950</td>\n      <td>Automatic</td>\n      <td>771</td>\n      <td>Petrol</td>\n      <td>300</td>\n      <td>33.2</td>\n      <td>3.0</td>\n    </tr>\n    <tr>\n      <th>5877</th>\n      <td>M5</td>\n      <td>2019</td>\n      <td>81140</td>\n      <td>Semi-Auto</td>\n      <td>551</td>\n      <td>Petrol</td>\n      <td>145</td>\n      <td>24.1</td>\n      <td>4.4</td>\n    </tr>\n  </tbody>\n</table>\n</div>"
     },
     "execution_count": 120,
     "metadata": {},
     "output_type": "execute_result"
    }
   ],
   "source": [
    "auto_data_max_price = auto_data[auto_data['price'] > 80000.0]\n",
    "auto_data_max_price"
   ],
   "metadata": {
    "collapsed": false,
    "pycharm": {
     "name": "#%%\n"
    }
   }
  },
  {
   "cell_type": "markdown",
   "source": [
    "123456 - это **выброс** исходя из ее характеристик"
   ],
   "metadata": {
    "collapsed": false
   }
  },
  {
   "cell_type": "code",
   "execution_count": 121,
   "outputs": [],
   "source": [
    "auto_data_price = auto_data[auto_data['price'] == 123456.0]\n",
    "auto_data.drop(auto_data_price.index, inplace=True)"
   ],
   "metadata": {
    "collapsed": false,
    "pycharm": {
     "name": "#%%\n"
    }
   }
  },
  {
   "cell_type": "code",
   "execution_count": 122,
   "outputs": [
    {
     "data": {
      "text/plain": "          model  year  price transmission  mileage fuelType  tax   mpg  \\\n9744   3 Series  1999   1200    Automatic    82000   Petrol  245  31.0   \n\n      engineSize  \n9744         2.8  ",
      "text/html": "<div>\n<style scoped>\n    .dataframe tbody tr th:only-of-type {\n        vertical-align: middle;\n    }\n\n    .dataframe tbody tr th {\n        vertical-align: top;\n    }\n\n    .dataframe thead th {\n        text-align: right;\n    }\n</style>\n<table border=\"1\" class=\"dataframe\">\n  <thead>\n    <tr style=\"text-align: right;\">\n      <th></th>\n      <th>model</th>\n      <th>year</th>\n      <th>price</th>\n      <th>transmission</th>\n      <th>mileage</th>\n      <th>fuelType</th>\n      <th>tax</th>\n      <th>mpg</th>\n      <th>engineSize</th>\n    </tr>\n  </thead>\n  <tbody>\n    <tr>\n      <th>9744</th>\n      <td>3 Series</td>\n      <td>1999</td>\n      <td>1200</td>\n      <td>Automatic</td>\n      <td>82000</td>\n      <td>Petrol</td>\n      <td>245</td>\n      <td>31.0</td>\n      <td>2.8</td>\n    </tr>\n  </tbody>\n</table>\n</div>"
     },
     "execution_count": 122,
     "metadata": {},
     "output_type": "execute_result"
    }
   ],
   "source": [
    "auto_data_min_price = auto_data[auto_data['price'] == 1200.0]\n",
    "auto_data_min_price"
   ],
   "metadata": {
    "collapsed": false,
    "pycharm": {
     "name": "#%%\n"
    }
   }
  },
  {
   "cell_type": "markdown",
   "source": [
    "Исходя из характеристик, считаем, что цена оправдана"
   ],
   "metadata": {
    "collapsed": false
   }
  },
  {
   "cell_type": "code",
   "execution_count": 123,
   "outputs": [
    {
     "data": {
      "text/plain": "      model  year  price transmission  mileage  fuelType  tax    mpg  \\\n32       i3  2016  17100    Automatic    25269     Other    0  470.8   \n8188     i3  2015  14940    Automatic    59000     Other    0  470.8   \n8620     i3  2017  19300    Automatic    32867     Other    0  470.8   \n8835     i3  2015  17400    Automatic    29465  Electric    0  470.8   \n10080    i3  2017  20000    Automatic    19178     Other    0  470.8   \n10086    i3  2017  19500    Automatic    23956     Other  135  470.8   \n10325    i3  2016  17000    Automatic    41063     Other    0  470.8   \n10530    i3  2017  17600    Automatic    50867     Other  135  470.8   \n\n       engineSize  \n32            0.6  \n8188          0.6  \n8620          0.6  \n8835          1.0  \n10080         0.6  \n10086         0.6  \n10325         0.6  \n10530         0.6  ",
      "text/html": "<div>\n<style scoped>\n    .dataframe tbody tr th:only-of-type {\n        vertical-align: middle;\n    }\n\n    .dataframe tbody tr th {\n        vertical-align: top;\n    }\n\n    .dataframe thead th {\n        text-align: right;\n    }\n</style>\n<table border=\"1\" class=\"dataframe\">\n  <thead>\n    <tr style=\"text-align: right;\">\n      <th></th>\n      <th>model</th>\n      <th>year</th>\n      <th>price</th>\n      <th>transmission</th>\n      <th>mileage</th>\n      <th>fuelType</th>\n      <th>tax</th>\n      <th>mpg</th>\n      <th>engineSize</th>\n    </tr>\n  </thead>\n  <tbody>\n    <tr>\n      <th>32</th>\n      <td>i3</td>\n      <td>2016</td>\n      <td>17100</td>\n      <td>Automatic</td>\n      <td>25269</td>\n      <td>Other</td>\n      <td>0</td>\n      <td>470.8</td>\n      <td>0.6</td>\n    </tr>\n    <tr>\n      <th>8188</th>\n      <td>i3</td>\n      <td>2015</td>\n      <td>14940</td>\n      <td>Automatic</td>\n      <td>59000</td>\n      <td>Other</td>\n      <td>0</td>\n      <td>470.8</td>\n      <td>0.6</td>\n    </tr>\n    <tr>\n      <th>8620</th>\n      <td>i3</td>\n      <td>2017</td>\n      <td>19300</td>\n      <td>Automatic</td>\n      <td>32867</td>\n      <td>Other</td>\n      <td>0</td>\n      <td>470.8</td>\n      <td>0.6</td>\n    </tr>\n    <tr>\n      <th>8835</th>\n      <td>i3</td>\n      <td>2015</td>\n      <td>17400</td>\n      <td>Automatic</td>\n      <td>29465</td>\n      <td>Electric</td>\n      <td>0</td>\n      <td>470.8</td>\n      <td>1.0</td>\n    </tr>\n    <tr>\n      <th>10080</th>\n      <td>i3</td>\n      <td>2017</td>\n      <td>20000</td>\n      <td>Automatic</td>\n      <td>19178</td>\n      <td>Other</td>\n      <td>0</td>\n      <td>470.8</td>\n      <td>0.6</td>\n    </tr>\n    <tr>\n      <th>10086</th>\n      <td>i3</td>\n      <td>2017</td>\n      <td>19500</td>\n      <td>Automatic</td>\n      <td>23956</td>\n      <td>Other</td>\n      <td>135</td>\n      <td>470.8</td>\n      <td>0.6</td>\n    </tr>\n    <tr>\n      <th>10325</th>\n      <td>i3</td>\n      <td>2016</td>\n      <td>17000</td>\n      <td>Automatic</td>\n      <td>41063</td>\n      <td>Other</td>\n      <td>0</td>\n      <td>470.8</td>\n      <td>0.6</td>\n    </tr>\n    <tr>\n      <th>10530</th>\n      <td>i3</td>\n      <td>2017</td>\n      <td>17600</td>\n      <td>Automatic</td>\n      <td>50867</td>\n      <td>Other</td>\n      <td>135</td>\n      <td>470.8</td>\n      <td>0.6</td>\n    </tr>\n  </tbody>\n</table>\n</div>"
     },
     "execution_count": 123,
     "metadata": {},
     "output_type": "execute_result"
    }
   ],
   "source": [
    "auto_data_mpg = auto_data[auto_data['mpg'] > 400.0]\n",
    "auto_data_mpg"
   ],
   "metadata": {
    "collapsed": false,
    "pycharm": {
     "name": "#%%\n"
    }
   }
  },
  {
   "cell_type": "markdown",
   "source": [
    "Проверено, все сходится https://www.honestjohn.co.uk/realmpg/bmw/i3-2013"
   ],
   "metadata": {
    "collapsed": false
   }
  },
  {
   "cell_type": "code",
   "execution_count": 73,
   "outputs": [
    {
     "data": {
      "text/plain": "<AxesSubplot:>"
     },
     "execution_count": 73,
     "metadata": {},
     "output_type": "execute_result"
    },
    {
     "data": {
      "text/plain": "<Figure size 432x288 with 1 Axes>",
      "image/png": "[encoded data removed]"
     },
     "metadata": {
      "needs_background": "light"
     },
     "output_type": "display_data"
    }
   ],
   "source": [
    "auto_data.mileage.hist()"
   ],
   "metadata": {
    "collapsed": false,
    "pycharm": {
     "name": "#%%\n"
    }
   }
  },
  {
   "cell_type": "markdown",
   "source": [
    "Распределение выглядит реалистично"
   ],
   "metadata": {
    "collapsed": false
   }
  },
  {
   "cell_type": "code",
   "execution_count": 79,
   "outputs": [
    {
     "data": {
      "text/plain": "               year         price        mileage           tax           mpg  \\\ncount  10733.000000  10733.000000   10733.000000  10733.000000  10733.000000   \nmean    2017.083388  22742.889313   25482.101556    131.996646     55.040622   \nstd        2.347757  11392.304903   25176.765334     61.133010     20.598474   \nmin     1996.000000   1200.000000       1.000000      0.000000      5.500000   \n25%     2016.000000  14950.000000    5500.000000    135.000000     45.600000   \n50%     2017.000000  20490.000000   18271.000000    145.000000     53.300000   \n75%     2019.000000  27950.000000   38231.000000    145.000000     62.800000   \nmax     2020.000000  99950.000000  214000.000000    580.000000    470.800000   \n\n         engineSize  \ncount  10733.000000  \nmean       2.177276  \nstd        0.534279  \nmin        0.600000  \n25%        2.000000  \n50%        2.000000  \n75%        2.000000  \nmax        6.600000  ",
      "text/html": "<div>\n<style scoped>\n    .dataframe tbody tr th:only-of-type {\n        vertical-align: middle;\n    }\n\n    .dataframe tbody tr th {\n        vertical-align: top;\n    }\n\n    .dataframe thead th {\n        text-align: right;\n    }\n</style>\n<table border=\"1\" class=\"dataframe\">\n  <thead>\n    <tr style=\"text-align: right;\">\n      <th></th>\n      <th>year</th>\n      <th>price</th>\n      <th>mileage</th>\n      <th>tax</th>\n      <th>mpg</th>\n      <th>engineSize</th>\n    </tr>\n  </thead>\n  <tbody>\n    <tr>\n      <th>count</th>\n      <td>10733.000000</td>\n      <td>10733.000000</td>\n      <td>10733.000000</td>\n      <td>10733.000000</td>\n      <td>10733.000000</td>\n      <td>10733.000000</td>\n    </tr>\n    <tr>\n      <th>mean</th>\n      <td>2017.083388</td>\n      <td>22742.889313</td>\n      <td>25482.101556</td>\n      <td>131.996646</td>\n      <td>55.040622</td>\n      <td>2.177276</td>\n    </tr>\n    <tr>\n      <th>std</th>\n      <td>2.347757</td>\n      <td>11392.304903</td>\n      <td>25176.765334</td>\n      <td>61.133010</td>\n      <td>20.598474</td>\n      <td>0.534279</td>\n    </tr>\n    <tr>\n      <th>min</th>\n      <td>1996.000000</td>\n      <td>1200.000000</td>\n      <td>1.000000</td>\n      <td>0.000000</td>\n      <td>5.500000</td>\n      <td>0.600000</td>\n    </tr>\n    <tr>\n      <th>25%</th>\n      <td>2016.000000</td>\n      <td>14950.000000</td>\n      <td>5500.000000</td>\n      <td>135.000000</td>\n      <td>45.600000</td>\n      <td>2.000000</td>\n    </tr>\n    <tr>\n      <th>50%</th>\n      <td>2017.000000</td>\n      <td>20490.000000</td>\n      <td>18271.000000</td>\n      <td>145.000000</td>\n      <td>53.300000</td>\n      <td>2.000000</td>\n    </tr>\n    <tr>\n      <th>75%</th>\n      <td>2019.000000</td>\n      <td>27950.000000</td>\n      <td>38231.000000</td>\n      <td>145.000000</td>\n      <td>62.800000</td>\n      <td>2.000000</td>\n    </tr>\n    <tr>\n      <th>max</th>\n      <td>2020.000000</td>\n      <td>99950.000000</td>\n      <td>214000.000000</td>\n      <td>580.000000</td>\n      <td>470.800000</td>\n      <td>6.600000</td>\n    </tr>\n  </tbody>\n</table>\n</div>"
     },
     "execution_count": 79,
     "metadata": {},
     "output_type": "execute_result"
    }
   ],
   "source": [
    "auto_data.describe()"
   ],
   "metadata": {
    "collapsed": false,
    "pycharm": {
     "name": "#%%\n"
    }
   }
  },
  {
   "cell_type": "code",
   "execution_count": 124,
   "outputs": [
    {
     "data": {
      "text/plain": "Diesel      7017\nPetrol      3414\nHybrid       265\nOther         36\nElectric       1\nName: fuelType, dtype: int64"
     },
     "execution_count": 124,
     "metadata": {},
     "output_type": "execute_result"
    }
   ],
   "source": [
    "fueltype_counts = auto_data.fuelType.value_counts()\n",
    "fueltype_counts"
   ],
   "metadata": {
    "collapsed": false,
    "pycharm": {
     "name": "#%%\n"
    }
   }
  },
  {
   "cell_type": "code",
   "execution_count": 125,
   "outputs": [
    {
     "name": "stderr",
     "output_type": "stream",
     "text": [
      "C:\\ProgramData\\Anaconda3\\envs\\lib\\site-packages\\seaborn\\_decorators.py:36: FutureWarning: Pass the following variable as a keyword arg: x. From version 0.12, the only valid positional argument will be `data`, and passing other arguments without an explicit keyword will result in an error or misinterpretation.\n",
      "  warnings.warn(\n"
     ]
    },
    {
     "data": {
      "text/plain": "<AxesSubplot:xlabel='fuelType', ylabel='count'>"
     },
     "execution_count": 125,
     "metadata": {},
     "output_type": "execute_result"
    },
    {
     "data": {
      "text/plain": "<Figure size 432x288 with 1 Axes>",
      "image/png": "[encoded data removed]"
     },
     "metadata": {
      "needs_background": "light"
     },
     "output_type": "display_data"
    }
   ],
   "source": [
    "sns.countplot(auto_data.fuelType)"
   ],
   "metadata": {
    "collapsed": false,
    "pycharm": {
     "name": "#%%\n"
    }
   }
  },
  {
   "cell_type": "code",
   "execution_count": 82,
   "outputs": [
    {
     "data": {
      "text/plain": "{' 2 Series', ' 3 Series', ' 5 Series', ' 7 Series', ' X3', ' X5', ' i8'}"
     },
     "execution_count": 82,
     "metadata": {},
     "output_type": "execute_result"
    }
   ],
   "source": [
    "hybrids = auto_data[auto_data.fuelType == 'Hybrid']\n",
    "set(hybrids.model)"
   ],
   "metadata": {
    "collapsed": false,
    "pycharm": {
     "name": "#%%\n"
    }
   }
  },
  {
   "cell_type": "markdown",
   "source": [
    "Да, они действительно бывают гибридными"
   ],
   "metadata": {
    "collapsed": false
   }
  },
  {
   "cell_type": "code",
   "execution_count": 104,
   "outputs": [
    {
     "data": {
      "text/plain": "{' 2 Series', ' 3 Series', ' 5 Series', ' X5', ' i3', ' i8'}"
     },
     "execution_count": 104,
     "metadata": {},
     "output_type": "execute_result"
    }
   ],
   "source": [
    "other = auto_data[auto_data.fuelType == 'Other']\n",
    "set(other.model)"
   ],
   "metadata": {
    "collapsed": false,
    "pycharm": {
     "name": "#%%\n"
    }
   }
  },
  {
   "cell_type": "markdown",
   "source": [
    "## Линейная регрессия"
   ],
   "metadata": {
    "collapsed": false
   }
  },
  {
   "cell_type": "markdown",
   "source": [
    "### LinearRegression()"
   ],
   "metadata": {
    "collapsed": false
   }
  },
  {
   "cell_type": "code",
   "execution_count": 126,
   "outputs": [
    {
     "data": {
      "text/plain": "       model  year  price  transmission  mileage  fuelType  tax   mpg  \\\n0          4  2014  11200             0    67068         0  125  57.6   \n1          5  2018  27000             0    14827         4  145  42.8   \n2          4  2016  16000             0    62794         0  160  51.4   \n3          0  2017  12750             0    26676         0  145  72.4   \n4          6  2014  14500             0    39554         0  160  50.4   \n...      ...   ...    ...           ...      ...       ...  ...   ...   \n10776     15  2016  19000             0    40818         0  150  54.3   \n10777      4  2016  14600             0    42947         0  125  60.1   \n10778      2  2017  13100             1    25468         4  200  42.8   \n10779      0  2014   9930             0    45000         0   30  64.2   \n10780     13  2017  15981             0    59432         0  125  57.6   \n\n       engineSize  \n0             2.0  \n1             2.0  \n2             3.0  \n3             1.5  \n4             3.0  \n...           ...  \n10776         2.0  \n10777         2.0  \n10778         2.0  \n10779         2.0  \n10780         2.0  \n\n[10733 rows x 9 columns]",
      "text/html": "<div>\n<style scoped>\n    .dataframe tbody tr th:only-of-type {\n        vertical-align: middle;\n    }\n\n    .dataframe tbody tr th {\n        vertical-align: top;\n    }\n\n    .dataframe thead th {\n        text-align: right;\n    }\n</style>\n<table border=\"1\" class=\"dataframe\">\n  <thead>\n    <tr style=\"text-align: right;\">\n      <th></th>\n      <th>model</th>\n      <th>year</th>\n      <th>price</th>\n      <th>transmission</th>\n      <th>mileage</th>\n      <th>fuelType</th>\n      <th>tax</th>\n      <th>mpg</th>\n      <th>engineSize</th>\n    </tr>\n  </thead>\n  <tbody>\n    <tr>\n      <th>0</th>\n      <td>4</td>\n      <td>2014</td>\n      <td>11200</td>\n      <td>0</td>\n      <td>67068</td>\n      <td>0</td>\n      <td>125</td>\n      <td>57.6</td>\n      <td>2.0</td>\n    </tr>\n    <tr>\n      <th>1</th>\n      <td>5</td>\n      <td>2018</td>\n      <td>27000</td>\n      <td>0</td>\n      <td>14827</td>\n      <td>4</td>\n      <td>145</td>\n      <td>42.8</td>\n      <td>2.0</td>\n    </tr>\n    <tr>\n      <th>2</th>\n      <td>4</td>\n      <td>2016</td>\n      <td>16000</td>\n      <td>0</td>\n      <td>62794</td>\n      <td>0</td>\n      <td>160</td>\n      <td>51.4</td>\n      <td>3.0</td>\n    </tr>\n    <tr>\n      <th>3</th>\n      <td>0</td>\n      <td>2017</td>\n      <td>12750</td>\n      <td>0</td>\n      <td>26676</td>\n      <td>0</td>\n      <td>145</td>\n      <td>72.4</td>\n      <td>1.5</td>\n    </tr>\n    <tr>\n      <th>4</th>\n      <td>6</td>\n      <td>2014</td>\n      <td>14500</td>\n      <td>0</td>\n      <td>39554</td>\n      <td>0</td>\n      <td>160</td>\n      <td>50.4</td>\n      <td>3.0</td>\n    </tr>\n    <tr>\n      <th>...</th>\n      <td>...</td>\n      <td>...</td>\n      <td>...</td>\n      <td>...</td>\n      <td>...</td>\n      <td>...</td>\n      <td>...</td>\n      <td>...</td>\n      <td>...</td>\n    </tr>\n    <tr>\n      <th>10776</th>\n      <td>15</td>\n      <td>2016</td>\n      <td>19000</td>\n      <td>0</td>\n      <td>40818</td>\n      <td>0</td>\n      <td>150</td>\n      <td>54.3</td>\n      <td>2.0</td>\n    </tr>\n    <tr>\n      <th>10777</th>\n      <td>4</td>\n      <td>2016</td>\n      <td>14600</td>\n      <td>0</td>\n      <td>42947</td>\n      <td>0</td>\n      <td>125</td>\n      <td>60.1</td>\n      <td>2.0</td>\n    </tr>\n    <tr>\n      <th>10778</th>\n      <td>2</td>\n      <td>2017</td>\n      <td>13100</td>\n      <td>1</td>\n      <td>25468</td>\n      <td>4</td>\n      <td>200</td>\n      <td>42.8</td>\n      <td>2.0</td>\n    </tr>\n    <tr>\n      <th>10779</th>\n      <td>0</td>\n      <td>2014</td>\n      <td>9930</td>\n      <td>0</td>\n      <td>45000</td>\n      <td>0</td>\n      <td>30</td>\n      <td>64.2</td>\n      <td>2.0</td>\n    </tr>\n    <tr>\n      <th>10780</th>\n      <td>13</td>\n      <td>2017</td>\n      <td>15981</td>\n      <td>0</td>\n      <td>59432</td>\n      <td>0</td>\n      <td>125</td>\n      <td>57.6</td>\n      <td>2.0</td>\n    </tr>\n  </tbody>\n</table>\n<p>10733 rows × 9 columns</p>\n</div>"
     },
     "execution_count": 126,
     "metadata": {},
     "output_type": "execute_result"
    }
   ],
   "source": [
    "from sklearn.preprocessing import LabelEncoder\n",
    "\n",
    "string_cols = (\"model\", \"transmission\", \"fuelType\")\n",
    "auto_data_with_labels = auto_data.copy()\n",
    "\n",
    "for col in string_cols:\n",
    "    lbl = LabelEncoder()\n",
    "    lbl.fit(list(auto_data_with_labels[col].values))\n",
    "    auto_data_with_labels[col] = lbl.transform(list(auto_data_with_labels[col].values))\n",
    "\n",
    "auto_data_with_labels"
   ],
   "metadata": {
    "collapsed": false,
    "pycharm": {
     "name": "#%%\n"
    }
   }
  },
  {
   "cell_type": "code",
   "execution_count": 143,
   "outputs": [
    {
     "data": {
      "text/plain": "       model  year  transmission  mileage  fuelType  tax   mpg  engineSize\n0          4  2014             0    67068         0  125  57.6         2.0\n1          5  2018             0    14827         4  145  42.8         2.0\n2          4  2016             0    62794         0  160  51.4         3.0\n3          0  2017             0    26676         0  145  72.4         1.5\n4          6  2014             0    39554         0  160  50.4         3.0\n...      ...   ...           ...      ...       ...  ...   ...         ...\n10776     15  2016             0    40818         0  150  54.3         2.0\n10777      4  2016             0    42947         0  125  60.1         2.0\n10778      2  2017             1    25468         4  200  42.8         2.0\n10779      0  2014             0    45000         0   30  64.2         2.0\n10780     13  2017             0    59432         0  125  57.6         2.0\n\n[10733 rows x 8 columns]",
      "text/html": "<div>\n<style scoped>\n    .dataframe tbody tr th:only-of-type {\n        vertical-align: middle;\n    }\n\n    .dataframe tbody tr th {\n        vertical-align: top;\n    }\n\n    .dataframe thead th {\n        text-align: right;\n    }\n</style>\n<table border=\"1\" class=\"dataframe\">\n  <thead>\n    <tr style=\"text-align: right;\">\n      <th></th>\n      <th>model</th>\n      <th>year</th>\n      <th>transmission</th>\n      <th>mileage</th>\n      <th>fuelType</th>\n      <th>tax</th>\n      <th>mpg</th>\n      <th>engineSize</th>\n    </tr>\n  </thead>\n  <tbody>\n    <tr>\n      <th>0</th>\n      <td>4</td>\n      <td>2014</td>\n      <td>0</td>\n      <td>67068</td>\n      <td>0</td>\n      <td>125</td>\n      <td>57.6</td>\n      <td>2.0</td>\n    </tr>\n    <tr>\n      <th>1</th>\n      <td>5</td>\n      <td>2018</td>\n      <td>0</td>\n      <td>14827</td>\n      <td>4</td>\n      <td>145</td>\n      <td>42.8</td>\n      <td>2.0</td>\n    </tr>\n    <tr>\n      <th>2</th>\n      <td>4</td>\n      <td>2016</td>\n      <td>0</td>\n      <td>62794</td>\n      <td>0</td>\n      <td>160</td>\n      <td>51.4</td>\n      <td>3.0</td>\n    </tr>\n    <tr>\n      <th>3</th>\n      <td>0</td>\n      <td>2017</td>\n      <td>0</td>\n      <td>26676</td>\n      <td>0</td>\n      <td>145</td>\n      <td>72.4</td>\n      <td>1.5</td>\n    </tr>\n    <tr>\n      <th>4</th>\n      <td>6</td>\n      <td>2014</td>\n      <td>0</td>\n      <td>39554</td>\n      <td>0</td>\n      <td>160</td>\n      <td>50.4</td>\n      <td>3.0</td>\n    </tr>\n    <tr>\n      <th>...</th>\n      <td>...</td>\n      <td>...</td>\n      <td>...</td>\n      <td>...</td>\n      <td>...</td>\n      <td>...</td>\n      <td>...</td>\n      <td>...</td>\n    </tr>\n    <tr>\n      <th>10776</th>\n      <td>15</td>\n      <td>2016</td>\n      <td>0</td>\n      <td>40818</td>\n      <td>0</td>\n      <td>150</td>\n      <td>54.3</td>\n      <td>2.0</td>\n    </tr>\n    <tr>\n      <th>10777</th>\n      <td>4</td>\n      <td>2016</td>\n      <td>0</td>\n      <td>42947</td>\n      <td>0</td>\n      <td>125</td>\n      <td>60.1</td>\n      <td>2.0</td>\n    </tr>\n    <tr>\n      <th>10778</th>\n      <td>2</td>\n      <td>2017</td>\n      <td>1</td>\n      <td>25468</td>\n      <td>4</td>\n      <td>200</td>\n      <td>42.8</td>\n      <td>2.0</td>\n    </tr>\n    <tr>\n      <th>10779</th>\n      <td>0</td>\n      <td>2014</td>\n      <td>0</td>\n      <td>45000</td>\n      <td>0</td>\n      <td>30</td>\n      <td>64.2</td>\n      <td>2.0</td>\n    </tr>\n    <tr>\n      <th>10780</th>\n      <td>13</td>\n      <td>2017</td>\n      <td>0</td>\n      <td>59432</td>\n      <td>0</td>\n      <td>125</td>\n      <td>57.6</td>\n      <td>2.0</td>\n    </tr>\n  </tbody>\n</table>\n<p>10733 rows × 8 columns</p>\n</div>"
     },
     "execution_count": 143,
     "metadata": {},
     "output_type": "execute_result"
    }
   ],
   "source": [
    "auto_data_with_labels_without_price = auto_data_with_labels.drop(['price'], axis=1)\n",
    "auto_data_with_labels_without_price"
   ],
   "metadata": {
    "collapsed": false,
    "pycharm": {
     "name": "#%%\n"
    }
   }
  },
  {
   "cell_type": "code",
   "execution_count": 144,
   "metadata": {},
   "outputs": [],
   "source": [
    "X, Y = auto_data_with_labels_without_price, auto_data_with_labels['price']"
   ]
  },
  {
   "cell_type": "code",
   "execution_count": 145,
   "metadata": {},
   "outputs": [],
   "source": [
    "X_train, X_test, Y_train, Y_test = train_test_split(X, Y, test_size=0.3, random_state=10)"
   ]
  },
  {
   "cell_type": "code",
   "execution_count": 146,
   "metadata": {},
   "outputs": [
    {
     "data": {
      "text/plain": "array([[-0.53800592,  0.8235433 , -1.25994531, ...,  0.21680382,\n        -0.30856817, -0.33026795],\n       [-0.70564884, -1.30048032, -0.10962703, ..., -0.10997863,\n         0.17707954, -0.33026795],\n       [-0.87329176,  1.24834803,  1.04069125, ...,  0.21680382,\n        -0.30856817, -0.33026795],\n       ...,\n       [-0.87329176,  1.24834803,  1.04069125, ...,  0.21680382,\n         0.11994451, -1.26301853],\n       [-0.53800592,  1.24834803,  1.04069125, ...,  0.21680382,\n        -0.34665819,  1.53523322],\n       [ 1.30606621, -0.02606615,  1.04069125, ...,  0.46189066,\n        -0.494257  , -0.33026795]])"
     },
     "execution_count": 146,
     "metadata": {},
     "output_type": "execute_result"
    }
   ],
   "source": [
    "std_scaler = StandardScaler()\n",
    "\n",
    "X_train_scaled = std_scaler.fit_transform(X_train)\n",
    "X_test_scaled = std_scaler.transform(X_test)\n",
    "\n",
    "X_train_scaled"
   ]
  },
  {
   "cell_type": "code",
   "execution_count": 147,
   "outputs": [
    {
     "name": "stdout",
     "output_type": "stream",
     "text": [
      "MSE = 30371783.093\n"
     ]
    }
   ],
   "source": [
    "simple_LR = LinearRegression()\n",
    "\n",
    "simple_LR.fit(X_train_scaled, Y_train)\n",
    "simple_LR_predictions = simple_LR.predict(X_test_scaled)\n",
    "\n",
    "simple_LR_MSE = metrics.mean_squared_error(Y_test, simple_LR_predictions)\n",
    "\n",
    "print (f'MSE = {round(simple_LR_MSE,3)}')"
   ],
   "metadata": {
    "collapsed": false,
    "pycharm": {
     "name": "#%%\n"
    }
   }
  },
  {
   "cell_type": "code",
   "execution_count": 148,
   "outputs": [
    {
     "name": "stdout",
     "output_type": "stream",
     "text": [
      "RMSE = 5511.06\n"
     ]
    }
   ],
   "source": [
    "simple_LR_RMSE = metrics.mean_squared_error(Y_test, simple_LR_predictions, squared = False)\n",
    "\n",
    "print (f'RMSE = {round(simple_LR_RMSE,3)}')"
   ],
   "metadata": {
    "collapsed": false,
    "pycharm": {
     "name": "#%%\n"
    }
   }
  },
  {
   "cell_type": "code",
   "execution_count": 149,
   "outputs": [
    {
     "name": "stdout",
     "output_type": "stream",
     "text": [
      "Test std: 11338.271\n"
     ]
    }
   ],
   "source": [
    "print (f'Test std: {round(Y_test.std(),3)}')"
   ],
   "metadata": {
    "collapsed": false,
    "pycharm": {
     "name": "#%%\n"
    }
   }
  },
  {
   "cell_type": "code",
   "execution_count": 150,
   "outputs": [
    {
     "data": {
      "text/plain": "Text(0, 0.5, 'Target')"
     },
     "execution_count": 150,
     "metadata": {},
     "output_type": "execute_result"
    },
    {
     "data": {
      "text/plain": "<Figure size 576x576 with 1 Axes>",
      "image/png": "[encoded data removed]"
     },
     "metadata": {
      "needs_background": "light"
     },
     "output_type": "display_data"
    }
   ],
   "source": [
    "plt.figure(figsize=(8, 8))\n",
    "plt.scatter(simple_LR_predictions, Y_test)\n",
    "plt.xlabel('Predictions')\n",
    "plt.ylabel('Target')"
   ],
   "metadata": {
    "collapsed": false,
    "pycharm": {
     "name": "#%%\n"
    }
   }
  },
  {
   "cell_type": "code",
   "execution_count": 151,
   "outputs": [
    {
     "data": {
      "text/plain": "(22644.487288699733,\n array([ 3552.12364701,  4640.15704182,   242.05706693, -2852.46471913,\n          621.51151279,  -801.1898991 ,  -290.02566514,  4754.09057115]))"
     },
     "execution_count": 151,
     "metadata": {},
     "output_type": "execute_result"
    }
   ],
   "source": [
    "simple_LR.intercept_, simple_LR.coef_"
   ],
   "metadata": {
    "collapsed": false,
    "pycharm": {
     "name": "#%%\n"
    }
   }
  },
  {
   "cell_type": "code",
   "execution_count": 153,
   "outputs": [
    {
     "data": {
      "text/plain": "              Coefficients\nmodel          3552.123647\nyear           4640.157042\ntransmission    242.057067\nmileage       -2852.464719\nfuelType        621.511513\ntax            -801.189899\nmpg            -290.025665\nengineSize     4754.090571",
      "text/html": "<div>\n<style scoped>\n    .dataframe tbody tr th:only-of-type {\n        vertical-align: middle;\n    }\n\n    .dataframe tbody tr th {\n        vertical-align: top;\n    }\n\n    .dataframe thead th {\n        text-align: right;\n    }\n</style>\n<table border=\"1\" class=\"dataframe\">\n  <thead>\n    <tr style=\"text-align: right;\">\n      <th></th>\n      <th>Coefficients</th>\n    </tr>\n  </thead>\n  <tbody>\n    <tr>\n      <th>model</th>\n      <td>3552.123647</td>\n    </tr>\n    <tr>\n      <th>year</th>\n      <td>4640.157042</td>\n    </tr>\n    <tr>\n      <th>transmission</th>\n      <td>242.057067</td>\n    </tr>\n    <tr>\n      <th>mileage</th>\n      <td>-2852.464719</td>\n    </tr>\n    <tr>\n      <th>fuelType</th>\n      <td>621.511513</td>\n    </tr>\n    <tr>\n      <th>tax</th>\n      <td>-801.189899</td>\n    </tr>\n    <tr>\n      <th>mpg</th>\n      <td>-290.025665</td>\n    </tr>\n    <tr>\n      <th>engineSize</th>\n      <td>4754.090571</td>\n    </tr>\n  </tbody>\n</table>\n</div>"
     },
     "execution_count": 153,
     "metadata": {},
     "output_type": "execute_result"
    }
   ],
   "source": [
    "pd.DataFrame(simple_LR.coef_, auto_data_with_labels_without_price.columns, columns=['Coefficients'])"
   ],
   "metadata": {
    "collapsed": false,
    "pycharm": {
     "name": "#%%\n"
    }
   }
  },
  {
   "cell_type": "markdown",
   "source": [
    "### Lasso()"
   ],
   "metadata": {
    "collapsed": false
   }
  },
  {
   "cell_type": "code",
   "execution_count": 154,
   "outputs": [
    {
     "name": "stdout",
     "output_type": "stream",
     "text": [
      "RMSE = 5511.097\n"
     ]
    },
    {
     "data": {
      "text/plain": "              Coefficients\nmodel          3552.123647\nyear           4640.157042\ntransmission    242.057067\nmileage       -2852.464719\nfuelType        621.511513\ntax            -801.189899\nmpg            -290.025665\nengineSize     4754.090571",
      "text/html": "<div>\n<style scoped>\n    .dataframe tbody tr th:only-of-type {\n        vertical-align: middle;\n    }\n\n    .dataframe tbody tr th {\n        vertical-align: top;\n    }\n\n    .dataframe thead th {\n        text-align: right;\n    }\n</style>\n<table border=\"1\" class=\"dataframe\">\n  <thead>\n    <tr style=\"text-align: right;\">\n      <th></th>\n      <th>Coefficients</th>\n    </tr>\n  </thead>\n  <tbody>\n    <tr>\n      <th>model</th>\n      <td>3552.123647</td>\n    </tr>\n    <tr>\n      <th>year</th>\n      <td>4640.157042</td>\n    </tr>\n    <tr>\n      <th>transmission</th>\n      <td>242.057067</td>\n    </tr>\n    <tr>\n      <th>mileage</th>\n      <td>-2852.464719</td>\n    </tr>\n    <tr>\n      <th>fuelType</th>\n      <td>621.511513</td>\n    </tr>\n    <tr>\n      <th>tax</th>\n      <td>-801.189899</td>\n    </tr>\n    <tr>\n      <th>mpg</th>\n      <td>-290.025665</td>\n    </tr>\n    <tr>\n      <th>engineSize</th>\n      <td>4754.090571</td>\n    </tr>\n  </tbody>\n</table>\n</div>"
     },
     "execution_count": 154,
     "metadata": {},
     "output_type": "execute_result"
    }
   ],
   "source": [
    "model = Lasso()\n",
    "\n",
    "model.fit(X_train_scaled, Y_train)\n",
    "predictions = model.predict(X_test_scaled)\n",
    "\n",
    "print (f'RMSE = {round(metrics.mean_squared_error(Y_test, predictions, squared=False), 3)}')\n",
    "\n",
    "pd.DataFrame(simple_LR.coef_,  auto_data_with_labels_without_price.columns, columns=['Coefficients'])"
   ],
   "metadata": {
    "collapsed": false,
    "pycharm": {
     "name": "#%%\n"
    }
   }
  },
  {
   "cell_type": "markdown",
   "source": [
    "### LassoCV()"
   ],
   "metadata": {
    "collapsed": false
   }
  },
  {
   "cell_type": "code",
   "execution_count": 155,
   "outputs": [
    {
     "name": "stdout",
     "output_type": "stream",
     "text": [
      "RMSE = 5511.353\n"
     ]
    },
    {
     "data": {
      "text/plain": "              Coefficients\nmodel          3552.123647\nyear           4640.157042\ntransmission    242.057067\nmileage       -2852.464719\nfuelType        621.511513\ntax            -801.189899\nmpg            -290.025665\nengineSize     4754.090571",
      "text/html": "<div>\n<style scoped>\n    .dataframe tbody tr th:only-of-type {\n        vertical-align: middle;\n    }\n\n    .dataframe tbody tr th {\n        vertical-align: top;\n    }\n\n    .dataframe thead th {\n        text-align: right;\n    }\n</style>\n<table border=\"1\" class=\"dataframe\">\n  <thead>\n    <tr style=\"text-align: right;\">\n      <th></th>\n      <th>Coefficients</th>\n    </tr>\n  </thead>\n  <tbody>\n    <tr>\n      <th>model</th>\n      <td>3552.123647</td>\n    </tr>\n    <tr>\n      <th>year</th>\n      <td>4640.157042</td>\n    </tr>\n    <tr>\n      <th>transmission</th>\n      <td>242.057067</td>\n    </tr>\n    <tr>\n      <th>mileage</th>\n      <td>-2852.464719</td>\n    </tr>\n    <tr>\n      <th>fuelType</th>\n      <td>621.511513</td>\n    </tr>\n    <tr>\n      <th>tax</th>\n      <td>-801.189899</td>\n    </tr>\n    <tr>\n      <th>mpg</th>\n      <td>-290.025665</td>\n    </tr>\n    <tr>\n      <th>engineSize</th>\n      <td>4754.090571</td>\n    </tr>\n  </tbody>\n</table>\n</div>"
     },
     "execution_count": 155,
     "metadata": {},
     "output_type": "execute_result"
    }
   ],
   "source": [
    "model = LassoCV()\n",
    "\n",
    "model.fit(X_train_scaled, Y_train)\n",
    "predictions = model.predict(X_test_scaled)\n",
    "\n",
    "print (f'RMSE = {round(metrics.mean_squared_error(Y_test, predictions, squared=False), 3)}')\n",
    "\n",
    "pd.DataFrame(simple_LR.coef_,  auto_data_with_labels_without_price.columns, columns=['Coefficients'])"
   ],
   "metadata": {
    "collapsed": false,
    "pycharm": {
     "name": "#%%\n"
    }
   }
  },
  {
   "cell_type": "markdown",
   "source": [
    "### LassoCV() with alphas"
   ],
   "metadata": {
    "collapsed": false
   }
  },
  {
   "cell_type": "code",
   "execution_count": 156,
   "outputs": [
    {
     "data": {
      "text/plain": "array([ 1.        ,  1.47368421,  1.94736842,  2.42105263,  2.89473684,\n        3.36842105,  3.84210526,  4.31578947,  4.78947368,  5.26315789,\n        5.73684211,  6.21052632,  6.68421053,  7.15789474,  7.63157895,\n        8.10526316,  8.57894737,  9.05263158,  9.52631579, 10.        ])"
     },
     "execution_count": 156,
     "metadata": {},
     "output_type": "execute_result"
    }
   ],
   "source": [
    "alphas = np.linspace(1, 10, 20)\n",
    "alphas"
   ],
   "metadata": {
    "collapsed": false,
    "pycharm": {
     "name": "#%%\n"
    }
   }
  },
  {
   "cell_type": "code",
   "execution_count": 158,
   "outputs": [
    {
     "name": "stdout",
     "output_type": "stream",
     "text": [
      "RMSE = 5511.227\n"
     ]
    },
    {
     "data": {
      "text/plain": "              Coefficients\nmodel          3552.123647\nyear           4640.157042\ntransmission    242.057067\nmileage       -2852.464719\nfuelType        621.511513\ntax            -801.189899\nmpg            -290.025665\nengineSize     4754.090571",
      "text/html": "<div>\n<style scoped>\n    .dataframe tbody tr th:only-of-type {\n        vertical-align: middle;\n    }\n\n    .dataframe tbody tr th {\n        vertical-align: top;\n    }\n\n    .dataframe thead th {\n        text-align: right;\n    }\n</style>\n<table border=\"1\" class=\"dataframe\">\n  <thead>\n    <tr style=\"text-align: right;\">\n      <th></th>\n      <th>Coefficients</th>\n    </tr>\n  </thead>\n  <tbody>\n    <tr>\n      <th>model</th>\n      <td>3552.123647</td>\n    </tr>\n    <tr>\n      <th>year</th>\n      <td>4640.157042</td>\n    </tr>\n    <tr>\n      <th>transmission</th>\n      <td>242.057067</td>\n    </tr>\n    <tr>\n      <th>mileage</th>\n      <td>-2852.464719</td>\n    </tr>\n    <tr>\n      <th>fuelType</th>\n      <td>621.511513</td>\n    </tr>\n    <tr>\n      <th>tax</th>\n      <td>-801.189899</td>\n    </tr>\n    <tr>\n      <th>mpg</th>\n      <td>-290.025665</td>\n    </tr>\n    <tr>\n      <th>engineSize</th>\n      <td>4754.090571</td>\n    </tr>\n  </tbody>\n</table>\n</div>"
     },
     "execution_count": 158,
     "metadata": {},
     "output_type": "execute_result"
    }
   ],
   "source": [
    "model = LassoCV(random_state = 10, alphas=alphas)\n",
    "\n",
    "model.fit(X_train_scaled, Y_train)\n",
    "predictions = model.predict(X_test_scaled)\n",
    "\n",
    "print (f'RMSE = {round(metrics.mean_squared_error(Y_test, predictions, squared=False), 3)}')\n",
    "\n",
    "pd.DataFrame(simple_LR.coef_,  auto_data_with_labels_without_price.columns, columns=['Coefficients'])"
   ],
   "metadata": {
    "collapsed": false,
    "pycharm": {
     "name": "#%%\n"
    }
   }
  },
  {
   "cell_type": "markdown",
   "source": [
    "### Ridge()"
   ],
   "metadata": {
    "collapsed": false
   }
  },
  {
   "cell_type": "code",
   "execution_count": 159,
   "outputs": [
    {
     "name": "stdout",
     "output_type": "stream",
     "text": [
      "RMSE = 5511.088\n"
     ]
    },
    {
     "data": {
      "text/plain": "              Coefficients\nmodel          3552.123647\nyear           4640.157042\ntransmission    242.057067\nmileage       -2852.464719\nfuelType        621.511513\ntax            -801.189899\nmpg            -290.025665\nengineSize     4754.090571",
      "text/html": "<div>\n<style scoped>\n    .dataframe tbody tr th:only-of-type {\n        vertical-align: middle;\n    }\n\n    .dataframe tbody tr th {\n        vertical-align: top;\n    }\n\n    .dataframe thead th {\n        text-align: right;\n    }\n</style>\n<table border=\"1\" class=\"dataframe\">\n  <thead>\n    <tr style=\"text-align: right;\">\n      <th></th>\n      <th>Coefficients</th>\n    </tr>\n  </thead>\n  <tbody>\n    <tr>\n      <th>model</th>\n      <td>3552.123647</td>\n    </tr>\n    <tr>\n      <th>year</th>\n      <td>4640.157042</td>\n    </tr>\n    <tr>\n      <th>transmission</th>\n      <td>242.057067</td>\n    </tr>\n    <tr>\n      <th>mileage</th>\n      <td>-2852.464719</td>\n    </tr>\n    <tr>\n      <th>fuelType</th>\n      <td>621.511513</td>\n    </tr>\n    <tr>\n      <th>tax</th>\n      <td>-801.189899</td>\n    </tr>\n    <tr>\n      <th>mpg</th>\n      <td>-290.025665</td>\n    </tr>\n    <tr>\n      <th>engineSize</th>\n      <td>4754.090571</td>\n    </tr>\n  </tbody>\n</table>\n</div>"
     },
     "execution_count": 159,
     "metadata": {},
     "output_type": "execute_result"
    }
   ],
   "source": [
    "model = Ridge()\n",
    "\n",
    "model.fit(X_train_scaled, Y_train)\n",
    "predictions = model.predict(X_test_scaled)\n",
    "\n",
    "print (f'RMSE = {round(metrics.mean_squared_error(Y_test, predictions, squared=False), 3)}')\n",
    "\n",
    "pd.DataFrame(simple_LR.coef_,  auto_data_with_labels_without_price.columns, columns=['Coefficients'])"
   ],
   "metadata": {
    "collapsed": false,
    "pycharm": {
     "name": "#%%\n"
    }
   }
  },
  {
   "cell_type": "markdown",
   "source": [
    "### RidgeCV()"
   ],
   "metadata": {
    "collapsed": false
   }
  },
  {
   "cell_type": "code",
   "execution_count": 160,
   "outputs": [
    {
     "name": "stdout",
     "output_type": "stream",
     "text": [
      "RMSE = 5511.344\n"
     ]
    },
    {
     "data": {
      "text/plain": "              Coefficients\nmodel          3552.123647\nyear           4640.157042\ntransmission    242.057067\nmileage       -2852.464719\nfuelType        621.511513\ntax            -801.189899\nmpg            -290.025665\nengineSize     4754.090571",
      "text/html": "<div>\n<style scoped>\n    .dataframe tbody tr th:only-of-type {\n        vertical-align: middle;\n    }\n\n    .dataframe tbody tr th {\n        vertical-align: top;\n    }\n\n    .dataframe thead th {\n        text-align: right;\n    }\n</style>\n<table border=\"1\" class=\"dataframe\">\n  <thead>\n    <tr style=\"text-align: right;\">\n      <th></th>\n      <th>Coefficients</th>\n    </tr>\n  </thead>\n  <tbody>\n    <tr>\n      <th>model</th>\n      <td>3552.123647</td>\n    </tr>\n    <tr>\n      <th>year</th>\n      <td>4640.157042</td>\n    </tr>\n    <tr>\n      <th>transmission</th>\n      <td>242.057067</td>\n    </tr>\n    <tr>\n      <th>mileage</th>\n      <td>-2852.464719</td>\n    </tr>\n    <tr>\n      <th>fuelType</th>\n      <td>621.511513</td>\n    </tr>\n    <tr>\n      <th>tax</th>\n      <td>-801.189899</td>\n    </tr>\n    <tr>\n      <th>mpg</th>\n      <td>-290.025665</td>\n    </tr>\n    <tr>\n      <th>engineSize</th>\n      <td>4754.090571</td>\n    </tr>\n  </tbody>\n</table>\n</div>"
     },
     "execution_count": 160,
     "metadata": {},
     "output_type": "execute_result"
    }
   ],
   "source": [
    "model = RidgeCV()\n",
    "\n",
    "model.fit(X_train_scaled, Y_train)\n",
    "predictions = model.predict(X_test_scaled)\n",
    "\n",
    "print (f'RMSE = {round(metrics.mean_squared_error(Y_test, predictions, squared=False), 3)}')\n",
    "\n",
    "pd.DataFrame(simple_LR.coef_,  auto_data_with_labels_without_price.columns, columns=['Coefficients'])"
   ],
   "metadata": {
    "collapsed": false,
    "pycharm": {
     "name": "#%%\n"
    }
   }
  },
  {
   "cell_type": "markdown",
   "source": [
    "### RandomForestRegressor"
   ],
   "metadata": {
    "collapsed": false
   }
  },
  {
   "cell_type": "code",
   "execution_count": 162,
   "outputs": [
    {
     "name": "stdout",
     "output_type": "stream",
     "text": [
      "RMSE = 2317.379\n"
     ]
    },
    {
     "data": {
      "text/plain": "              Importance\nfuelType        0.003866\ntransmission    0.005195\ntax             0.011875\nmpg             0.046620\nmileage         0.072908\nmodel           0.145542\nengineSize      0.261630\nyear            0.452363",
      "text/html": "<div>\n<style scoped>\n    .dataframe tbody tr th:only-of-type {\n        vertical-align: middle;\n    }\n\n    .dataframe tbody tr th {\n        vertical-align: top;\n    }\n\n    .dataframe thead th {\n        text-align: right;\n    }\n</style>\n<table border=\"1\" class=\"dataframe\">\n  <thead>\n    <tr style=\"text-align: right;\">\n      <th></th>\n      <th>Importance</th>\n    </tr>\n  </thead>\n  <tbody>\n    <tr>\n      <th>fuelType</th>\n      <td>0.003866</td>\n    </tr>\n    <tr>\n      <th>transmission</th>\n      <td>0.005195</td>\n    </tr>\n    <tr>\n      <th>tax</th>\n      <td>0.011875</td>\n    </tr>\n    <tr>\n      <th>mpg</th>\n      <td>0.046620</td>\n    </tr>\n    <tr>\n      <th>mileage</th>\n      <td>0.072908</td>\n    </tr>\n    <tr>\n      <th>model</th>\n      <td>0.145542</td>\n    </tr>\n    <tr>\n      <th>engineSize</th>\n      <td>0.261630</td>\n    </tr>\n    <tr>\n      <th>year</th>\n      <td>0.452363</td>\n    </tr>\n  </tbody>\n</table>\n</div>"
     },
     "execution_count": 162,
     "metadata": {},
     "output_type": "execute_result"
    }
   ],
   "source": [
    "from sklearn.ensemble import RandomForestRegressor\n",
    "\n",
    "model = RandomForestRegressor(random_state = 10, n_estimators = 100)\n",
    "\n",
    "model.fit(X_train, Y_train)\n",
    "predictions = model.predict(X_test)\n",
    "\n",
    "print (f'RMSE = {round(metrics.mean_squared_error(Y_test, predictions, squared=False), 3)}')\n",
    "\n",
    "pd.DataFrame(model.feature_importances_, auto_data_with_labels_without_price.columns,\n",
    "             columns=['Importance']).sort_values('Importance')"
   ],
   "metadata": {
    "collapsed": false,
    "pycharm": {
     "name": "#%%\n"
    }
   }
  },
  {
   "cell_type": "code",
   "execution_count": 163,
   "outputs": [
    {
     "data": {
      "text/plain": "Text(0, 0.5, 'Target')"
     },
     "execution_count": 163,
     "metadata": {},
     "output_type": "execute_result"
    },
    {
     "data": {
      "text/plain": "<Figure size 576x576 with 1 Axes>",
      "image/png": "[encoded data removed]"
     },
     "metadata": {
      "needs_background": "light"
     },
     "output_type": "display_data"
    }
   ],
   "source": [
    "plt.figure(figsize=(8, 8))\n",
    "plt.scatter(predictions, Y_test)\n",
    "plt.xlabel('Predictions')\n",
    "plt.ylabel('Target')"
   ],
   "metadata": {
    "collapsed": false,
    "pycharm": {
     "name": "#%%\n"
    }
   }
  }
 ],
 "metadata": {
  "kernelspec": {
   "display_name": "Python 3 (ipykernel)",
   "language": "python",
   "name": "python3"
  },
  "language_info": {
   "codemirror_mode": {
    "name": "ipython",
    "version": 3
   },
   "file_extension": ".py",
   "mimetype": "text/x-python",
   "name": "python",
   "nbconvert_exporter": "python",
   "pygments_lexer": "ipython3",
   "version": "3.9.7"
  }
 },
 "nbformat": 4,
 "nbformat_minor": 4
}
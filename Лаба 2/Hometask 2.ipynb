{
 "cells": [
  {
   "cell_type": "markdown",
   "metadata": {},
   "source": [
    "# Last FM hometask <br>\n",
    "https://www.kaggle.com/ravichaubey1506/lastfm <br>\n",
    "1. Выберите данные по странам своей группы (совместно): <br>\n",
    "    3530203_80101: Spain, Portugal, France, Italy, Belgium<br>\n",
    "    3530203_80102: Germany, Netherlands <br>\n",
    "    3530903_80301: Belarus, Ukraine, Poland, Russian Federation<br>\n",
    "    3530903_80302: Sweden, Finland, Norway, Denmark, Iceland<br>\n",
    "    \n",
    "2. Попытайтесь найти полезные с точки зрения продвижения групп (или еще чего-нибудь) и нетривиальные правила, используя алгоритмы Apriori, FPGrowth, FPMax и всевозможные метрики. Найдите и объясните хотя бы 5 правил.\n",
    "3. Выведите эти правила в отдельных ячейках. \n",
    "4. Подумайте, как можно было бы использовать полученные правила на практике."
   ]
  },
  {
   "cell_type": "code",
   "execution_count": 30,
   "metadata": {},
   "outputs": [],
   "source": [
    "import pandas as pd\n",
    "from mlxtend.frequent_patterns import apriori, fpgrowth, association_rules, fpmax"
   ]
  },
  {
   "cell_type": "code",
   "execution_count": 3,
   "metadata": {},
   "outputs": [
    {
     "data": {
      "text/plain": "   user                   artist sex  country\n0     1    red hot chili peppers   f  Germany\n1     1  the black dahlia murder   f  Germany\n2     1                goldfrapp   f  Germany\n3     1         dropkick murphys   f  Germany\n4     1                 le tigre   f  Germany\n5     1               schandmaul   f  Germany\n6     1                    edguy   f  Germany",
      "text/html": "<div>\n<style scoped>\n    .dataframe tbody tr th:only-of-type {\n        vertical-align: middle;\n    }\n\n    .dataframe tbody tr th {\n        vertical-align: top;\n    }\n\n    .dataframe thead th {\n        text-align: right;\n    }\n</style>\n<table border=\"1\" class=\"dataframe\">\n  <thead>\n    <tr style=\"text-align: right;\">\n      <th></th>\n      <th>user</th>\n      <th>artist</th>\n      <th>sex</th>\n      <th>country</th>\n    </tr>\n  </thead>\n  <tbody>\n    <tr>\n      <th>0</th>\n      <td>1</td>\n      <td>red hot chili peppers</td>\n      <td>f</td>\n      <td>Germany</td>\n    </tr>\n    <tr>\n      <th>1</th>\n      <td>1</td>\n      <td>the black dahlia murder</td>\n      <td>f</td>\n      <td>Germany</td>\n    </tr>\n    <tr>\n      <th>2</th>\n      <td>1</td>\n      <td>goldfrapp</td>\n      <td>f</td>\n      <td>Germany</td>\n    </tr>\n    <tr>\n      <th>3</th>\n      <td>1</td>\n      <td>dropkick murphys</td>\n      <td>f</td>\n      <td>Germany</td>\n    </tr>\n    <tr>\n      <th>4</th>\n      <td>1</td>\n      <td>le tigre</td>\n      <td>f</td>\n      <td>Germany</td>\n    </tr>\n    <tr>\n      <th>5</th>\n      <td>1</td>\n      <td>schandmaul</td>\n      <td>f</td>\n      <td>Germany</td>\n    </tr>\n    <tr>\n      <th>6</th>\n      <td>1</td>\n      <td>edguy</td>\n      <td>f</td>\n      <td>Germany</td>\n    </tr>\n  </tbody>\n</table>\n</div>"
     },
     "execution_count": 3,
     "metadata": {},
     "output_type": "execute_result"
    }
   ],
   "source": [
    "data = pd.read_csv(\"lastfm.csv\")\n",
    "data.head(7)"
   ]
  },
  {
   "cell_type": "code",
   "execution_count": 4,
   "outputs": [
    {
     "data": {
      "text/plain": "         user               artist sex   country\n83          6           lily allen   m  Portugal\n84          6           kanye west   m  Portugal\n85          6            sigur rós   m  Portugal\n86          6           pink floyd   m  Portugal\n87          6        stevie wonder   m  Portugal\n...       ...                  ...  ..       ...\n289758  19707     the decemberists   m     Spain\n289759  19707  my bloody valentine   m     Spain\n289760  19707           bloc party   m     Spain\n289761  19707            new order   m     Spain\n289762  19707       arctic monkeys   m     Spain\n\n[27214 rows x 4 columns]",
      "text/html": "<div>\n<style scoped>\n    .dataframe tbody tr th:only-of-type {\n        vertical-align: middle;\n    }\n\n    .dataframe tbody tr th {\n        vertical-align: top;\n    }\n\n    .dataframe thead th {\n        text-align: right;\n    }\n</style>\n<table border=\"1\" class=\"dataframe\">\n  <thead>\n    <tr style=\"text-align: right;\">\n      <th></th>\n      <th>user</th>\n      <th>artist</th>\n      <th>sex</th>\n      <th>country</th>\n    </tr>\n  </thead>\n  <tbody>\n    <tr>\n      <th>83</th>\n      <td>6</td>\n      <td>lily allen</td>\n      <td>m</td>\n      <td>Portugal</td>\n    </tr>\n    <tr>\n      <th>84</th>\n      <td>6</td>\n      <td>kanye west</td>\n      <td>m</td>\n      <td>Portugal</td>\n    </tr>\n    <tr>\n      <th>85</th>\n      <td>6</td>\n      <td>sigur rós</td>\n      <td>m</td>\n      <td>Portugal</td>\n    </tr>\n    <tr>\n      <th>86</th>\n      <td>6</td>\n      <td>pink floyd</td>\n      <td>m</td>\n      <td>Portugal</td>\n    </tr>\n    <tr>\n      <th>87</th>\n      <td>6</td>\n      <td>stevie wonder</td>\n      <td>m</td>\n      <td>Portugal</td>\n    </tr>\n    <tr>\n      <th>...</th>\n      <td>...</td>\n      <td>...</td>\n      <td>...</td>\n      <td>...</td>\n    </tr>\n    <tr>\n      <th>289758</th>\n      <td>19707</td>\n      <td>the decemberists</td>\n      <td>m</td>\n      <td>Spain</td>\n    </tr>\n    <tr>\n      <th>289759</th>\n      <td>19707</td>\n      <td>my bloody valentine</td>\n      <td>m</td>\n      <td>Spain</td>\n    </tr>\n    <tr>\n      <th>289760</th>\n      <td>19707</td>\n      <td>bloc party</td>\n      <td>m</td>\n      <td>Spain</td>\n    </tr>\n    <tr>\n      <th>289761</th>\n      <td>19707</td>\n      <td>new order</td>\n      <td>m</td>\n      <td>Spain</td>\n    </tr>\n    <tr>\n      <th>289762</th>\n      <td>19707</td>\n      <td>arctic monkeys</td>\n      <td>m</td>\n      <td>Spain</td>\n    </tr>\n  </tbody>\n</table>\n<p>27214 rows × 4 columns</p>\n</div>"
     },
     "execution_count": 4,
     "metadata": {},
     "output_type": "execute_result"
    }
   ],
   "source": [
    "data_SPFIB=data[(data.country==\"Spain\")|(data.country==\"Portugal\")|(data.country==\"France\")|(data.country==\"Italy\")|(data.country==\"Belgium\")]\n",
    "data_SPFIB"
   ],
   "metadata": {
    "collapsed": false,
    "pycharm": {
     "name": "#%%\n"
    }
   }
  },
  {
   "cell_type": "code",
   "execution_count": 5,
   "outputs": [
    {
     "name": "stdout",
     "output_type": "stream",
     "text": [
      "<class 'pandas.core.frame.DataFrame'>\n",
      "Int64Index: 27214 entries, 83 to 289762\n",
      "Data columns (total 4 columns):\n",
      " #   Column   Non-Null Count  Dtype \n",
      "---  ------   --------------  ----- \n",
      " 0   user     27214 non-null  int64 \n",
      " 1   artist   27214 non-null  object\n",
      " 2   sex      27214 non-null  object\n",
      " 3   country  27214 non-null  object\n",
      "dtypes: int64(1), object(3)\n",
      "memory usage: 1.0+ MB\n"
     ]
    }
   ],
   "source": [
    "data_SPFIB.info()"
   ],
   "metadata": {
    "collapsed": false,
    "pycharm": {
     "name": "#%%\n"
    }
   }
  },
  {
   "cell_type": "markdown",
   "source": [
    "### Data preprocessing"
   ],
   "metadata": {
    "collapsed": false
   }
  },
  {
   "cell_type": "code",
   "execution_count": 6,
   "outputs": [
    {
     "data": {
      "text/plain": "artist\n...and you will know us by the trail of dead     8\n2pac                                            16\n3 doors down                                    29\n30 seconds to mars                              42\n311                                              3\n                                                ..\nyeah yeah yeahs                                 26\nyellowcard                                       8\nyo la tengo                                     11\nzero 7                                          13\nÉdith piaf                                      17\nLength: 994, dtype: int64"
     },
     "execution_count": 6,
     "metadata": {},
     "output_type": "execute_result"
    }
   ],
   "source": [
    "# dummy encoding for artist\n",
    "piv_artist = data_SPFIB[['user', 'artist']].pivot_table(index='user', columns='artist',aggfunc=any, fill_value=False).astype(int)\n",
    "piv_artist.sum()"
   ],
   "metadata": {
    "collapsed": false,
    "pycharm": {
     "name": "#%%\n"
    }
   }
  },
  {
   "cell_type": "code",
   "execution_count": 7,
   "outputs": [
    {
     "data": {
      "text/plain": "country\nBelgium     160\nFrance      327\nItaly       304\nPortugal    122\nSpain       506\ndtype: int64"
     },
     "execution_count": 7,
     "metadata": {},
     "output_type": "execute_result"
    }
   ],
   "source": [
    "# dummy encoding for country\n",
    "piv_country = data_SPFIB[['user', 'country']].pivot_table(index='user', columns='country',aggfunc=any, fill_value=False).astype(int)\n",
    "piv_country.sum()"
   ],
   "metadata": {
    "collapsed": false,
    "pycharm": {
     "name": "#%%\n"
    }
   }
  },
  {
   "cell_type": "code",
   "execution_count": 8,
   "outputs": [
    {
     "data": {
      "text/plain": "sex\nf     312\nm    1107\ndtype: int64"
     },
     "execution_count": 8,
     "metadata": {},
     "output_type": "execute_result"
    }
   ],
   "source": [
    "# dummy encoding for sex\n",
    "piv_sex = data_SPFIB[['user', 'sex']].pivot_table(index='user', columns='sex',aggfunc=any, fill_value=False).astype(int)\n",
    "piv_sex.sum()"
   ],
   "metadata": {
    "collapsed": false,
    "pycharm": {
     "name": "#%%\n"
    }
   }
  },
  {
   "cell_type": "code",
   "execution_count": 9,
   "outputs": [
    {
     "data": {
      "text/plain": "      ...and you will know us by the trail of dead  2pac  3 doors down  \\\nuser                                                                     \n6                                                0     0             0   \n12                                               0     0             0   \n36                                               0     0             0   \n47                                               0     0             0   \n74                                               0     0             0   \n\n      30 seconds to mars  311  36 crazyfists  44  50 cent  65daysofstatic  \\\nuser                                                                        \n6                      0    0              0   0        0               0   \n12                     0    0              0   0        0               0   \n36                     0    0              0   0        0               0   \n47                     0    0              0   0        0               0   \n74                     0    0              0   0        0               0   \n\n      [unknown]  ...  yo la tengo  zero 7  Édith piaf  Belgium  France  Italy  \\\nuser             ...                                                            \n6             0  ...            0       0           0        0       0      0   \n12            0  ...            0       0           0        0       0      1   \n36            0  ...            0       0           0        0       0      1   \n47            0  ...            0       1           0        0       0      1   \n74            0  ...            0       0           0        0       0      0   \n\n      Portugal  Spain  f  m  \nuser                         \n6            1      0  0  1  \n12           0      0  0  1  \n36           0      0  1  0  \n47           0      0  0  1  \n74           0      1  0  1  \n\n[5 rows x 1001 columns]",
      "text/html": "<div>\n<style scoped>\n    .dataframe tbody tr th:only-of-type {\n        vertical-align: middle;\n    }\n\n    .dataframe tbody tr th {\n        vertical-align: top;\n    }\n\n    .dataframe thead th {\n        text-align: right;\n    }\n</style>\n<table border=\"1\" class=\"dataframe\">\n  <thead>\n    <tr style=\"text-align: right;\">\n      <th></th>\n      <th>...and you will know us by the trail of dead</th>\n      <th>2pac</th>\n      <th>3 doors down</th>\n      <th>30 seconds to mars</th>\n      <th>311</th>\n      <th>36 crazyfists</th>\n      <th>44</th>\n      <th>50 cent</th>\n      <th>65daysofstatic</th>\n      <th>[unknown]</th>\n      <th>...</th>\n      <th>yo la tengo</th>\n      <th>zero 7</th>\n      <th>Édith piaf</th>\n      <th>Belgium</th>\n      <th>France</th>\n      <th>Italy</th>\n      <th>Portugal</th>\n      <th>Spain</th>\n      <th>f</th>\n      <th>m</th>\n    </tr>\n    <tr>\n      <th>user</th>\n      <th></th>\n      <th></th>\n      <th></th>\n      <th></th>\n      <th></th>\n      <th></th>\n      <th></th>\n      <th></th>\n      <th></th>\n      <th></th>\n      <th></th>\n      <th></th>\n      <th></th>\n      <th></th>\n      <th></th>\n      <th></th>\n      <th></th>\n      <th></th>\n      <th></th>\n      <th></th>\n      <th></th>\n    </tr>\n  </thead>\n  <tbody>\n    <tr>\n      <th>6</th>\n      <td>0</td>\n      <td>0</td>\n      <td>0</td>\n      <td>0</td>\n      <td>0</td>\n      <td>0</td>\n      <td>0</td>\n      <td>0</td>\n      <td>0</td>\n      <td>0</td>\n      <td>...</td>\n      <td>0</td>\n      <td>0</td>\n      <td>0</td>\n      <td>0</td>\n      <td>0</td>\n      <td>0</td>\n      <td>1</td>\n      <td>0</td>\n      <td>0</td>\n      <td>1</td>\n    </tr>\n    <tr>\n      <th>12</th>\n      <td>0</td>\n      <td>0</td>\n      <td>0</td>\n      <td>0</td>\n      <td>0</td>\n      <td>0</td>\n      <td>0</td>\n      <td>0</td>\n      <td>0</td>\n      <td>0</td>\n      <td>...</td>\n      <td>0</td>\n      <td>0</td>\n      <td>0</td>\n      <td>0</td>\n      <td>0</td>\n      <td>1</td>\n      <td>0</td>\n      <td>0</td>\n      <td>0</td>\n      <td>1</td>\n    </tr>\n    <tr>\n      <th>36</th>\n      <td>0</td>\n      <td>0</td>\n      <td>0</td>\n      <td>0</td>\n      <td>0</td>\n      <td>0</td>\n      <td>0</td>\n      <td>0</td>\n      <td>0</td>\n      <td>0</td>\n      <td>...</td>\n      <td>0</td>\n      <td>0</td>\n      <td>0</td>\n      <td>0</td>\n      <td>0</td>\n      <td>1</td>\n      <td>0</td>\n      <td>0</td>\n      <td>1</td>\n      <td>0</td>\n    </tr>\n    <tr>\n      <th>47</th>\n      <td>0</td>\n      <td>0</td>\n      <td>0</td>\n      <td>0</td>\n      <td>0</td>\n      <td>0</td>\n      <td>0</td>\n      <td>0</td>\n      <td>0</td>\n      <td>0</td>\n      <td>...</td>\n      <td>0</td>\n      <td>1</td>\n      <td>0</td>\n      <td>0</td>\n      <td>0</td>\n      <td>1</td>\n      <td>0</td>\n      <td>0</td>\n      <td>0</td>\n      <td>1</td>\n    </tr>\n    <tr>\n      <th>74</th>\n      <td>0</td>\n      <td>0</td>\n      <td>0</td>\n      <td>0</td>\n      <td>0</td>\n      <td>0</td>\n      <td>0</td>\n      <td>0</td>\n      <td>0</td>\n      <td>0</td>\n      <td>...</td>\n      <td>0</td>\n      <td>0</td>\n      <td>0</td>\n      <td>0</td>\n      <td>0</td>\n      <td>0</td>\n      <td>0</td>\n      <td>1</td>\n      <td>0</td>\n      <td>1</td>\n    </tr>\n  </tbody>\n</table>\n<p>5 rows × 1001 columns</p>\n</div>"
     },
     "execution_count": 9,
     "metadata": {},
     "output_type": "execute_result"
    }
   ],
   "source": [
    "piv_all = pd.concat([piv_artist, piv_country, piv_sex], axis=1)\n",
    "piv_all.head()"
   ],
   "metadata": {
    "collapsed": false,
    "pycharm": {
     "name": "#%%\n"
    }
   }
  },
  {
   "cell_type": "markdown",
   "source": [
    "# Apriori for artists"
   ],
   "metadata": {
    "collapsed": false
   }
  },
  {
   "cell_type": "code",
   "execution_count": 11,
   "outputs": [
    {
     "data": {
      "text/plain": "      support                           itemsets\n0    0.041579                        ([unknown])\n1    0.043693                 (a perfect circle)\n2    0.073996                            (ac/dc)\n3    0.036646                        (aerosmith)\n4    0.092319                              (air)\n..        ...                                ...\n264  0.035941                    (u2, radiohead)\n265  0.035941  (the beatles, the rolling stones)\n266  0.031712         (the beatles, the strokes)\n267  0.039464         (the strokes, the killers)\n268  0.038760        (muse, coldplay, radiohead)\n\n[269 rows x 2 columns]",
      "text/html": "<div>\n<style scoped>\n    .dataframe tbody tr th:only-of-type {\n        vertical-align: middle;\n    }\n\n    .dataframe tbody tr th {\n        vertical-align: top;\n    }\n\n    .dataframe thead th {\n        text-align: right;\n    }\n</style>\n<table border=\"1\" class=\"dataframe\">\n  <thead>\n    <tr style=\"text-align: right;\">\n      <th></th>\n      <th>support</th>\n      <th>itemsets</th>\n    </tr>\n  </thead>\n  <tbody>\n    <tr>\n      <th>0</th>\n      <td>0.041579</td>\n      <td>([unknown])</td>\n    </tr>\n    <tr>\n      <th>1</th>\n      <td>0.043693</td>\n      <td>(a perfect circle)</td>\n    </tr>\n    <tr>\n      <th>2</th>\n      <td>0.073996</td>\n      <td>(ac/dc)</td>\n    </tr>\n    <tr>\n      <th>3</th>\n      <td>0.036646</td>\n      <td>(aerosmith)</td>\n    </tr>\n    <tr>\n      <th>4</th>\n      <td>0.092319</td>\n      <td>(air)</td>\n    </tr>\n    <tr>\n      <th>...</th>\n      <td>...</td>\n      <td>...</td>\n    </tr>\n    <tr>\n      <th>264</th>\n      <td>0.035941</td>\n      <td>(u2, radiohead)</td>\n    </tr>\n    <tr>\n      <th>265</th>\n      <td>0.035941</td>\n      <td>(the beatles, the rolling stones)</td>\n    </tr>\n    <tr>\n      <th>266</th>\n      <td>0.031712</td>\n      <td>(the beatles, the strokes)</td>\n    </tr>\n    <tr>\n      <th>267</th>\n      <td>0.039464</td>\n      <td>(the strokes, the killers)</td>\n    </tr>\n    <tr>\n      <th>268</th>\n      <td>0.038760</td>\n      <td>(muse, coldplay, radiohead)</td>\n    </tr>\n  </tbody>\n</table>\n<p>269 rows × 2 columns</p>\n</div>"
     },
     "execution_count": 11,
     "metadata": {},
     "output_type": "execute_result"
    }
   ],
   "source": [
    "apriori_artist = apriori(piv_artist, min_support=0.03, use_colnames=True)\n",
    "apriori_artist"
   ],
   "metadata": {
    "collapsed": false,
    "pycharm": {
     "name": "#%%\n"
    }
   }
  },
  {
   "cell_type": "markdown",
   "source": [
    "### Apriori by confidence for artists"
   ],
   "metadata": {
    "collapsed": false
   }
  },
  {
   "cell_type": "code",
   "execution_count": 12,
   "outputs": [
    {
     "data": {
      "text/plain": "        antecedents        consequents  antecedent support  \\\n19          (keane)         (coldplay)            0.038055   \n7            (beck)        (radiohead)            0.047216   \n14           (blur)        (radiohead)            0.047921   \n23    (snow patrol)         (coldplay)            0.050740   \n40  (kaiser chiefs)      (the killers)            0.050740   \n32  (kaiser chiefs)  (franz ferdinand)            0.050740   \n\n    consequent support   support  confidence      lift  leverage  conviction  \n19            0.188161  0.033122    0.870370  4.625676  0.025961    6.262760  \n7             0.237491  0.032417    0.686567  2.890916  0.021204    2.432766  \n14            0.237491  0.030303    0.632353  2.662637  0.018922    2.074024  \n23            0.188161  0.031712    0.625000  3.321629  0.022165    2.164905  \n40            0.109937  0.031008    0.611111  5.558761  0.025430    2.288735  \n32            0.095842  0.030303    0.597222  6.231311  0.025440    2.244806  ",
      "text/html": "<div>\n<style scoped>\n    .dataframe tbody tr th:only-of-type {\n        vertical-align: middle;\n    }\n\n    .dataframe tbody tr th {\n        vertical-align: top;\n    }\n\n    .dataframe thead th {\n        text-align: right;\n    }\n</style>\n<table border=\"1\" class=\"dataframe\">\n  <thead>\n    <tr style=\"text-align: right;\">\n      <th></th>\n      <th>antecedents</th>\n      <th>consequents</th>\n      <th>antecedent support</th>\n      <th>consequent support</th>\n      <th>support</th>\n      <th>confidence</th>\n      <th>lift</th>\n      <th>leverage</th>\n      <th>conviction</th>\n    </tr>\n  </thead>\n  <tbody>\n    <tr>\n      <th>19</th>\n      <td>(keane)</td>\n      <td>(coldplay)</td>\n      <td>0.038055</td>\n      <td>0.188161</td>\n      <td>0.033122</td>\n      <td>0.870370</td>\n      <td>4.625676</td>\n      <td>0.025961</td>\n      <td>6.262760</td>\n    </tr>\n    <tr>\n      <th>7</th>\n      <td>(beck)</td>\n      <td>(radiohead)</td>\n      <td>0.047216</td>\n      <td>0.237491</td>\n      <td>0.032417</td>\n      <td>0.686567</td>\n      <td>2.890916</td>\n      <td>0.021204</td>\n      <td>2.432766</td>\n    </tr>\n    <tr>\n      <th>14</th>\n      <td>(blur)</td>\n      <td>(radiohead)</td>\n      <td>0.047921</td>\n      <td>0.237491</td>\n      <td>0.030303</td>\n      <td>0.632353</td>\n      <td>2.662637</td>\n      <td>0.018922</td>\n      <td>2.074024</td>\n    </tr>\n    <tr>\n      <th>23</th>\n      <td>(snow patrol)</td>\n      <td>(coldplay)</td>\n      <td>0.050740</td>\n      <td>0.188161</td>\n      <td>0.031712</td>\n      <td>0.625000</td>\n      <td>3.321629</td>\n      <td>0.022165</td>\n      <td>2.164905</td>\n    </tr>\n    <tr>\n      <th>40</th>\n      <td>(kaiser chiefs)</td>\n      <td>(the killers)</td>\n      <td>0.050740</td>\n      <td>0.109937</td>\n      <td>0.031008</td>\n      <td>0.611111</td>\n      <td>5.558761</td>\n      <td>0.025430</td>\n      <td>2.288735</td>\n    </tr>\n    <tr>\n      <th>32</th>\n      <td>(kaiser chiefs)</td>\n      <td>(franz ferdinand)</td>\n      <td>0.050740</td>\n      <td>0.095842</td>\n      <td>0.030303</td>\n      <td>0.597222</td>\n      <td>6.231311</td>\n      <td>0.025440</td>\n      <td>2.244806</td>\n    </tr>\n  </tbody>\n</table>\n</div>"
     },
     "execution_count": 12,
     "metadata": {},
     "output_type": "execute_result"
    }
   ],
   "source": [
    "apriori_artist_rules = association_rules(apriori_artist, metric=\"confidence\", min_threshold=0.4)\n",
    "apriori_artist_rules.sort_values('confidence', ascending=False).head(6)"
   ],
   "metadata": {
    "collapsed": false,
    "pycharm": {
     "name": "#%%\n"
    }
   }
  },
  {
   "cell_type": "markdown",
   "source": [
    "### Apriori by support for artists"
   ],
   "metadata": {
    "collapsed": false,
    "pycharm": {
     "name": "#%% md\n"
    }
   }
  },
  {
   "cell_type": "code",
   "source": [
    "apriori_artist_rules = association_rules(apriori_artist, metric=\"support\", min_threshold=0.03)\n",
    "apriori_artist_rules.sort_values('support', ascending=False).head(6)"
   ],
   "metadata": {
    "collapsed": false,
    "pycharm": {
     "name": "#%%\n"
    }
   },
   "execution_count": 13,
   "outputs": [
    {
     "data": {
      "text/plain": "       antecedents    consequents  antecedent support  consequent support  \\\n66      (coldplay)    (radiohead)            0.188161            0.237491   \n67     (radiohead)     (coldplay)            0.237491            0.188161   \n141    (radiohead)         (muse)            0.237491            0.174066   \n140         (muse)    (radiohead)            0.174066            0.237491   \n184  (the beatles)    (radiohead)            0.174066            0.237491   \n185    (radiohead)  (the beatles)            0.237491            0.174066   \n\n      support  confidence      lift  leverage  conviction  \n66   0.083157    0.441948  1.860901  0.038471    1.366375  \n67   0.083157    0.350148  1.860901  0.038471    1.249269  \n141  0.080338    0.338279  1.943392  0.038999    1.248160  \n140  0.080338    0.461538  1.943392  0.038999    1.416088  \n184  0.070472    0.404858  1.704730  0.029133    1.281222  \n185  0.070472    0.296736  1.704730  0.029133    1.174429  ",
      "text/html": "<div>\n<style scoped>\n    .dataframe tbody tr th:only-of-type {\n        vertical-align: middle;\n    }\n\n    .dataframe tbody tr th {\n        vertical-align: top;\n    }\n\n    .dataframe thead th {\n        text-align: right;\n    }\n</style>\n<table border=\"1\" class=\"dataframe\">\n  <thead>\n    <tr style=\"text-align: right;\">\n      <th></th>\n      <th>antecedents</th>\n      <th>consequents</th>\n      <th>antecedent support</th>\n      <th>consequent support</th>\n      <th>support</th>\n      <th>confidence</th>\n      <th>lift</th>\n      <th>leverage</th>\n      <th>conviction</th>\n    </tr>\n  </thead>\n  <tbody>\n    <tr>\n      <th>66</th>\n      <td>(coldplay)</td>\n      <td>(radiohead)</td>\n      <td>0.188161</td>\n      <td>0.237491</td>\n      <td>0.083157</td>\n      <td>0.441948</td>\n      <td>1.860901</td>\n      <td>0.038471</td>\n      <td>1.366375</td>\n    </tr>\n    <tr>\n      <th>67</th>\n      <td>(radiohead)</td>\n      <td>(coldplay)</td>\n      <td>0.237491</td>\n      <td>0.188161</td>\n      <td>0.083157</td>\n      <td>0.350148</td>\n      <td>1.860901</td>\n      <td>0.038471</td>\n      <td>1.249269</td>\n    </tr>\n    <tr>\n      <th>141</th>\n      <td>(radiohead)</td>\n      <td>(muse)</td>\n      <td>0.237491</td>\n      <td>0.174066</td>\n      <td>0.080338</td>\n      <td>0.338279</td>\n      <td>1.943392</td>\n      <td>0.038999</td>\n      <td>1.248160</td>\n    </tr>\n    <tr>\n      <th>140</th>\n      <td>(muse)</td>\n      <td>(radiohead)</td>\n      <td>0.174066</td>\n      <td>0.237491</td>\n      <td>0.080338</td>\n      <td>0.461538</td>\n      <td>1.943392</td>\n      <td>0.038999</td>\n      <td>1.416088</td>\n    </tr>\n    <tr>\n      <th>184</th>\n      <td>(the beatles)</td>\n      <td>(radiohead)</td>\n      <td>0.174066</td>\n      <td>0.237491</td>\n      <td>0.070472</td>\n      <td>0.404858</td>\n      <td>1.704730</td>\n      <td>0.029133</td>\n      <td>1.281222</td>\n    </tr>\n    <tr>\n      <th>185</th>\n      <td>(radiohead)</td>\n      <td>(the beatles)</td>\n      <td>0.237491</td>\n      <td>0.174066</td>\n      <td>0.070472</td>\n      <td>0.296736</td>\n      <td>1.704730</td>\n      <td>0.029133</td>\n      <td>1.174429</td>\n    </tr>\n  </tbody>\n</table>\n</div>"
     },
     "execution_count": 13,
     "metadata": {},
     "output_type": "execute_result"
    }
   ]
  },
  {
   "cell_type": "markdown",
   "source": [
    "## Apriori for artists, sex and country\n"
   ],
   "metadata": {
    "collapsed": false,
    "pycharm": {
     "name": "#%% md\n"
    }
   }
  },
  {
   "cell_type": "code",
   "execution_count": 14,
   "outputs": [
    {
     "data": {
      "text/plain": "      support                              itemsets\n0    0.041579                           ([unknown])\n1    0.043693                    (a perfect circle)\n2    0.073996                               (ac/dc)\n3    0.036646                           (aerosmith)\n4    0.092319                                 (air)\n..        ...                                   ...\n505  0.032417  (the beatles, m, the rolling stones)\n506  0.038760               (Italy, m, the beatles)\n507  0.042283               (Spain, the beatles, m)\n508  0.031008         (m, the strokes, the killers)\n509  0.045807               (Spain, m, the killers)\n\n[510 rows x 2 columns]",
      "text/html": "<div>\n<style scoped>\n    .dataframe tbody tr th:only-of-type {\n        vertical-align: middle;\n    }\n\n    .dataframe tbody tr th {\n        vertical-align: top;\n    }\n\n    .dataframe thead th {\n        text-align: right;\n    }\n</style>\n<table border=\"1\" class=\"dataframe\">\n  <thead>\n    <tr style=\"text-align: right;\">\n      <th></th>\n      <th>support</th>\n      <th>itemsets</th>\n    </tr>\n  </thead>\n  <tbody>\n    <tr>\n      <th>0</th>\n      <td>0.041579</td>\n      <td>([unknown])</td>\n    </tr>\n    <tr>\n      <th>1</th>\n      <td>0.043693</td>\n      <td>(a perfect circle)</td>\n    </tr>\n    <tr>\n      <th>2</th>\n      <td>0.073996</td>\n      <td>(ac/dc)</td>\n    </tr>\n    <tr>\n      <th>3</th>\n      <td>0.036646</td>\n      <td>(aerosmith)</td>\n    </tr>\n    <tr>\n      <th>4</th>\n      <td>0.092319</td>\n      <td>(air)</td>\n    </tr>\n    <tr>\n      <th>...</th>\n      <td>...</td>\n      <td>...</td>\n    </tr>\n    <tr>\n      <th>505</th>\n      <td>0.032417</td>\n      <td>(the beatles, m, the rolling stones)</td>\n    </tr>\n    <tr>\n      <th>506</th>\n      <td>0.038760</td>\n      <td>(Italy, m, the beatles)</td>\n    </tr>\n    <tr>\n      <th>507</th>\n      <td>0.042283</td>\n      <td>(Spain, the beatles, m)</td>\n    </tr>\n    <tr>\n      <th>508</th>\n      <td>0.031008</td>\n      <td>(m, the strokes, the killers)</td>\n    </tr>\n    <tr>\n      <th>509</th>\n      <td>0.045807</td>\n      <td>(Spain, m, the killers)</td>\n    </tr>\n  </tbody>\n</table>\n<p>510 rows × 2 columns</p>\n</div>"
     },
     "execution_count": 14,
     "metadata": {},
     "output_type": "execute_result"
    }
   ],
   "source": [
    "apriori_all = apriori(piv_all, min_support=0.03, use_colnames=True)\n",
    "apriori_all"
   ],
   "metadata": {
    "collapsed": false,
    "pycharm": {
     "name": "#%%\n"
    }
   }
  },
  {
   "cell_type": "code",
   "execution_count": 50,
   "outputs": [
    {
     "data": {
      "text/plain": "count    510.000000\nmean       1.790196\nstd        0.649242\nmin        1.000000\n25%        1.000000\n50%        2.000000\n75%        2.000000\nmax        3.000000\nName: itemsets, dtype: float64"
     },
     "execution_count": 50,
     "metadata": {},
     "output_type": "execute_result"
    }
   ],
   "source": [
    "apriori_all['itemsets'].apply(lambda x: len(x)).describe()"
   ],
   "metadata": {
    "collapsed": false,
    "pycharm": {
     "name": "#%%\n"
    }
   }
  },
  {
   "cell_type": "markdown",
   "source": [
    "### Apriori by confidence for artists, sex and country"
   ],
   "metadata": {
    "collapsed": false,
    "pycharm": {
     "name": "#%% md\n"
    }
   }
  },
  {
   "cell_type": "code",
   "execution_count": 24,
   "outputs": [
    {
     "data": {
      "text/plain": "                 antecedents consequents  antecedent support  \\\n586  (metallica, pink floyd)         (m)            0.031712   \n581     (metallica, nirvana)         (m)            0.034531   \n18              (aphex twin)         (m)            0.034531   \n532      (daft punk, France)         (m)            0.035941   \n361                 (slayer)         (m)            0.032417   \n\n     consequent support   support  confidence      lift  leverage  conviction  \n586            0.780127  0.031008    0.977778  1.253357  0.006268    9.894292  \n581            0.780127  0.033122    0.959184  1.229523  0.006183    5.386892  \n18             0.780127  0.033122    0.959184  1.229523  0.006183    5.386892  \n532            0.780127  0.033827    0.941176  1.206440  0.005788    3.737844  \n361            0.780127  0.030303    0.934783  1.198244  0.005014    3.371388  ",
      "text/html": "<div>\n<style scoped>\n    .dataframe tbody tr th:only-of-type {\n        vertical-align: middle;\n    }\n\n    .dataframe tbody tr th {\n        vertical-align: top;\n    }\n\n    .dataframe thead th {\n        text-align: right;\n    }\n</style>\n<table border=\"1\" class=\"dataframe\">\n  <thead>\n    <tr style=\"text-align: right;\">\n      <th></th>\n      <th>antecedents</th>\n      <th>consequents</th>\n      <th>antecedent support</th>\n      <th>consequent support</th>\n      <th>support</th>\n      <th>confidence</th>\n      <th>lift</th>\n      <th>leverage</th>\n      <th>conviction</th>\n    </tr>\n  </thead>\n  <tbody>\n    <tr>\n      <th>586</th>\n      <td>(metallica, pink floyd)</td>\n      <td>(m)</td>\n      <td>0.031712</td>\n      <td>0.780127</td>\n      <td>0.031008</td>\n      <td>0.977778</td>\n      <td>1.253357</td>\n      <td>0.006268</td>\n      <td>9.894292</td>\n    </tr>\n    <tr>\n      <th>581</th>\n      <td>(metallica, nirvana)</td>\n      <td>(m)</td>\n      <td>0.034531</td>\n      <td>0.780127</td>\n      <td>0.033122</td>\n      <td>0.959184</td>\n      <td>1.229523</td>\n      <td>0.006183</td>\n      <td>5.386892</td>\n    </tr>\n    <tr>\n      <th>18</th>\n      <td>(aphex twin)</td>\n      <td>(m)</td>\n      <td>0.034531</td>\n      <td>0.780127</td>\n      <td>0.033122</td>\n      <td>0.959184</td>\n      <td>1.229523</td>\n      <td>0.006183</td>\n      <td>5.386892</td>\n    </tr>\n    <tr>\n      <th>532</th>\n      <td>(daft punk, France)</td>\n      <td>(m)</td>\n      <td>0.035941</td>\n      <td>0.780127</td>\n      <td>0.033827</td>\n      <td>0.941176</td>\n      <td>1.206440</td>\n      <td>0.005788</td>\n      <td>3.737844</td>\n    </tr>\n    <tr>\n      <th>361</th>\n      <td>(slayer)</td>\n      <td>(m)</td>\n      <td>0.032417</td>\n      <td>0.780127</td>\n      <td>0.030303</td>\n      <td>0.934783</td>\n      <td>1.198244</td>\n      <td>0.005014</td>\n      <td>3.371388</td>\n    </tr>\n  </tbody>\n</table>\n</div>"
     },
     "execution_count": 24,
     "metadata": {},
     "output_type": "execute_result"
    }
   ],
   "source": [
    "apriori_all_rules = association_rules(apriori_all, metric=\"confidence\", min_threshold=0.1)\n",
    "apriori_all_rules.sort_values('confidence', ascending=False).head(5)"
   ],
   "metadata": {
    "collapsed": false,
    "pycharm": {
     "name": "#%%\n"
    }
   }
  },
  {
   "cell_type": "code",
   "execution_count": 26,
   "outputs": [
    {
     "data": {
      "text/plain": "              antecedents       consequents  antecedent support  \\\n559         (iron maiden)    (metallica, m)            0.073291   \n680           (sigur rós)    (m, radiohead)            0.086681   \n553            (interpol)    (m, radiohead)            0.079634   \n428                 (air)    (m, radiohead)            0.092319   \n726  (the rolling stones)  (the beatles, m)            0.072586   \n\n     consequent support   support  confidence      lift  leverage  conviction  \n559            0.109232  0.036646    0.500000  4.577419  0.028640    1.781536  \n680            0.193094  0.042283    0.487805  2.526260  0.025546    1.575388  \n553            0.193094  0.035941    0.451327  2.337349  0.020564    1.470652  \n428            0.193094  0.041579    0.450382  2.332451  0.023752    1.468121  \n726            0.137421  0.032417    0.446602  3.249888  0.022442    1.558696  ",
      "text/html": "<div>\n<style scoped>\n    .dataframe tbody tr th:only-of-type {\n        vertical-align: middle;\n    }\n\n    .dataframe tbody tr th {\n        vertical-align: top;\n    }\n\n    .dataframe thead th {\n        text-align: right;\n    }\n</style>\n<table border=\"1\" class=\"dataframe\">\n  <thead>\n    <tr style=\"text-align: right;\">\n      <th></th>\n      <th>antecedents</th>\n      <th>consequents</th>\n      <th>antecedent support</th>\n      <th>consequent support</th>\n      <th>support</th>\n      <th>confidence</th>\n      <th>lift</th>\n      <th>leverage</th>\n      <th>conviction</th>\n    </tr>\n  </thead>\n  <tbody>\n    <tr>\n      <th>559</th>\n      <td>(iron maiden)</td>\n      <td>(metallica, m)</td>\n      <td>0.073291</td>\n      <td>0.109232</td>\n      <td>0.036646</td>\n      <td>0.500000</td>\n      <td>4.577419</td>\n      <td>0.028640</td>\n      <td>1.781536</td>\n    </tr>\n    <tr>\n      <th>680</th>\n      <td>(sigur rós)</td>\n      <td>(m, radiohead)</td>\n      <td>0.086681</td>\n      <td>0.193094</td>\n      <td>0.042283</td>\n      <td>0.487805</td>\n      <td>2.526260</td>\n      <td>0.025546</td>\n      <td>1.575388</td>\n    </tr>\n    <tr>\n      <th>553</th>\n      <td>(interpol)</td>\n      <td>(m, radiohead)</td>\n      <td>0.079634</td>\n      <td>0.193094</td>\n      <td>0.035941</td>\n      <td>0.451327</td>\n      <td>2.337349</td>\n      <td>0.020564</td>\n      <td>1.470652</td>\n    </tr>\n    <tr>\n      <th>428</th>\n      <td>(air)</td>\n      <td>(m, radiohead)</td>\n      <td>0.092319</td>\n      <td>0.193094</td>\n      <td>0.041579</td>\n      <td>0.450382</td>\n      <td>2.332451</td>\n      <td>0.023752</td>\n      <td>1.468121</td>\n    </tr>\n    <tr>\n      <th>726</th>\n      <td>(the rolling stones)</td>\n      <td>(the beatles, m)</td>\n      <td>0.072586</td>\n      <td>0.137421</td>\n      <td>0.032417</td>\n      <td>0.446602</td>\n      <td>3.249888</td>\n      <td>0.022442</td>\n      <td>1.558696</td>\n    </tr>\n  </tbody>\n</table>\n</div>"
     },
     "execution_count": 26,
     "metadata": {},
     "output_type": "execute_result"
    }
   ],
   "source": [
    "apriori_all_rules[apriori_all_rules['consequents'].map(lambda x: len(x) > 1)].sort_values('confidence', ascending=False).head()"
   ],
   "metadata": {
    "collapsed": false,
    "pycharm": {
     "name": "#%%\n"
    }
   }
  },
  {
   "cell_type": "markdown",
   "source": [
    "# FP-growth"
   ],
   "metadata": {
    "collapsed": false
   }
  },
  {
   "cell_type": "markdown",
   "source": [
    "**fp-growth** позволяет установить меньший порог и получить больше наборов, среди которых могут быть интересные правила"
   ],
   "metadata": {
    "collapsed": false,
    "pycharm": {
     "name": "#%% md\n"
    }
   }
  },
  {
   "cell_type": "code",
   "execution_count": 16,
   "outputs": [
    {
     "data": {
      "text/plain": "19860"
     },
     "execution_count": 16,
     "metadata": {},
     "output_type": "execute_result"
    }
   ],
   "source": [
    "fpgrowth_artist = fpgrowth(piv_artist, min_support=0.005, use_colnames=True)\n",
    "len(fpgrowth_artist)"
   ],
   "metadata": {
    "collapsed": false,
    "pycharm": {
     "name": "#%%\n"
    }
   }
  },
  {
   "cell_type": "markdown",
   "source": [
    "### FP-growth by confidence for artists\n"
   ],
   "metadata": {
    "collapsed": false
   }
  },
  {
   "cell_type": "code",
   "execution_count": 17,
   "outputs": [
    {
     "data": {
      "text/plain": "                                   antecedents    consequents  \\\n11611                                  (keane)     (coldplay)   \n1030           (bloc party, muse, the killers)     (coldplay)   \n1682                   (interpol, arcade fire)  (the strokes)   \n5928                (oasis, the killers, muse)     (coldplay)   \n10005  (arctic monkeys, coldplay, the killers)         (muse)   \n993              (bloc party, muse, radiohead)     (coldplay)   \n1898        (death cab for cutie, the killers)     (coldplay)   \n1232    (arctic monkeys, bloc party, coldplay)         (muse)   \n11498                (massive attack, nirvana)    (radiohead)   \n10144                        (interpol, oasis)         (muse)   \n\n       antecedent support  consequent support   support  confidence      lift  \\\n11611            0.038055            0.188161  0.033122    0.870370  4.625676   \n1030             0.023256            0.188161  0.019732    0.848485  4.509363   \n1682             0.022551            0.087385  0.018323    0.812500  9.297883   \n5928             0.020437            0.188161  0.016913    0.827586  4.398295   \n10005            0.021142            0.174066  0.016913    0.800000  4.595951   \n993              0.021142            0.188161  0.016913    0.800000  4.251685   \n1898             0.021142            0.188161  0.016913    0.800000  4.251685   \n1232             0.021142            0.174066  0.016913    0.800000  4.595951   \n11498            0.019732            0.237491  0.016209    0.821429  3.458775   \n10144            0.019732            0.174066  0.016209    0.821429  4.719057   \n\n       leverage  conviction  \n11611  0.025961    6.262760  \n1030   0.015356    5.358140  \n1682   0.016352    4.867277  \n5928   0.013068    4.708668  \n10005  0.013233    4.129669  \n993    0.012935    4.059197  \n1898   0.012935    4.059197  \n1232   0.013233    4.129669  \n11498  0.011522    4.270049  \n10144  0.012774    4.625229  ",
      "text/html": "<div>\n<style scoped>\n    .dataframe tbody tr th:only-of-type {\n        vertical-align: middle;\n    }\n\n    .dataframe tbody tr th {\n        vertical-align: top;\n    }\n\n    .dataframe thead th {\n        text-align: right;\n    }\n</style>\n<table border=\"1\" class=\"dataframe\">\n  <thead>\n    <tr style=\"text-align: right;\">\n      <th></th>\n      <th>antecedents</th>\n      <th>consequents</th>\n      <th>antecedent support</th>\n      <th>consequent support</th>\n      <th>support</th>\n      <th>confidence</th>\n      <th>lift</th>\n      <th>leverage</th>\n      <th>conviction</th>\n    </tr>\n  </thead>\n  <tbody>\n    <tr>\n      <th>11611</th>\n      <td>(keane)</td>\n      <td>(coldplay)</td>\n      <td>0.038055</td>\n      <td>0.188161</td>\n      <td>0.033122</td>\n      <td>0.870370</td>\n      <td>4.625676</td>\n      <td>0.025961</td>\n      <td>6.262760</td>\n    </tr>\n    <tr>\n      <th>1030</th>\n      <td>(bloc party, muse, the killers)</td>\n      <td>(coldplay)</td>\n      <td>0.023256</td>\n      <td>0.188161</td>\n      <td>0.019732</td>\n      <td>0.848485</td>\n      <td>4.509363</td>\n      <td>0.015356</td>\n      <td>5.358140</td>\n    </tr>\n    <tr>\n      <th>1682</th>\n      <td>(interpol, arcade fire)</td>\n      <td>(the strokes)</td>\n      <td>0.022551</td>\n      <td>0.087385</td>\n      <td>0.018323</td>\n      <td>0.812500</td>\n      <td>9.297883</td>\n      <td>0.016352</td>\n      <td>4.867277</td>\n    </tr>\n    <tr>\n      <th>5928</th>\n      <td>(oasis, the killers, muse)</td>\n      <td>(coldplay)</td>\n      <td>0.020437</td>\n      <td>0.188161</td>\n      <td>0.016913</td>\n      <td>0.827586</td>\n      <td>4.398295</td>\n      <td>0.013068</td>\n      <td>4.708668</td>\n    </tr>\n    <tr>\n      <th>10005</th>\n      <td>(arctic monkeys, coldplay, the killers)</td>\n      <td>(muse)</td>\n      <td>0.021142</td>\n      <td>0.174066</td>\n      <td>0.016913</td>\n      <td>0.800000</td>\n      <td>4.595951</td>\n      <td>0.013233</td>\n      <td>4.129669</td>\n    </tr>\n    <tr>\n      <th>993</th>\n      <td>(bloc party, muse, radiohead)</td>\n      <td>(coldplay)</td>\n      <td>0.021142</td>\n      <td>0.188161</td>\n      <td>0.016913</td>\n      <td>0.800000</td>\n      <td>4.251685</td>\n      <td>0.012935</td>\n      <td>4.059197</td>\n    </tr>\n    <tr>\n      <th>1898</th>\n      <td>(death cab for cutie, the killers)</td>\n      <td>(coldplay)</td>\n      <td>0.021142</td>\n      <td>0.188161</td>\n      <td>0.016913</td>\n      <td>0.800000</td>\n      <td>4.251685</td>\n      <td>0.012935</td>\n      <td>4.059197</td>\n    </tr>\n    <tr>\n      <th>1232</th>\n      <td>(arctic monkeys, bloc party, coldplay)</td>\n      <td>(muse)</td>\n      <td>0.021142</td>\n      <td>0.174066</td>\n      <td>0.016913</td>\n      <td>0.800000</td>\n      <td>4.595951</td>\n      <td>0.013233</td>\n      <td>4.129669</td>\n    </tr>\n    <tr>\n      <th>11498</th>\n      <td>(massive attack, nirvana)</td>\n      <td>(radiohead)</td>\n      <td>0.019732</td>\n      <td>0.237491</td>\n      <td>0.016209</td>\n      <td>0.821429</td>\n      <td>3.458775</td>\n      <td>0.011522</td>\n      <td>4.270049</td>\n    </tr>\n    <tr>\n      <th>10144</th>\n      <td>(interpol, oasis)</td>\n      <td>(muse)</td>\n      <td>0.019732</td>\n      <td>0.174066</td>\n      <td>0.016209</td>\n      <td>0.821429</td>\n      <td>4.719057</td>\n      <td>0.012774</td>\n      <td>4.625229</td>\n    </tr>\n  </tbody>\n</table>\n</div>"
     },
     "execution_count": 17,
     "metadata": {},
     "output_type": "execute_result"
    }
   ],
   "source": [
    "fpgrowth_artist_rules = association_rules(fpgrowth_artist, metric=\"confidence\", min_threshold=0.8)\n",
    "fpgrowth_artist_rules.sort_values('support', ascending=False).head(10)"
   ],
   "metadata": {
    "collapsed": false,
    "pycharm": {
     "name": "#%%\n"
    }
   }
  },
  {
   "cell_type": "markdown",
   "source": [
    "### FP-growth by lift for artists"
   ],
   "metadata": {
    "collapsed": false
   }
  },
  {
   "cell_type": "code",
   "execution_count": 27,
   "outputs": [
    {
     "data": {
      "text/plain": "count    13197.000000\nmean        12.055654\nstd          9.386494\nmin          3.368546\n25%          5.314607\n50%          9.122143\n75%         14.696203\nmax        105.111111\nName: lift, dtype: float64"
     },
     "execution_count": 27,
     "metadata": {},
     "output_type": "execute_result"
    }
   ],
   "source": [
    "fpgrowth_artist_rules['lift'].describe()"
   ],
   "metadata": {
    "collapsed": false,
    "pycharm": {
     "name": "#%%\n"
    }
   }
  },
  {
   "cell_type": "code",
   "execution_count": 29,
   "outputs": [
    {
     "name": "stdout",
     "output_type": "stream",
     "text": [
      "3290\n"
     ]
    },
    {
     "data": {
      "text/plain": "                                       antecedents  \\\n64             (snow patrol, the kooks, radiohead)   \n75   (snow patrol, the kooks, coldplay, radiohead)   \n118     (snow patrol, bloc party, muse, radiohead)   \n119  (snow patrol, the kooks, coldplay, radiohead)   \n134               (snow patrol, bloc party, oasis)   \n138               (snow patrol, bloc party, oasis)   \n144     (snow patrol, bloc party, oasis, coldplay)   \n145         (snow patrol, bloc party, oasis, muse)   \n147        (snow patrol, oasis, the killers, muse)   \n148               (snow patrol, bloc party, oasis)   \n\n                       consequents  antecedent support  consequent support  \\\n64             (muse, the killers)            0.007752            0.049331   \n75             (muse, the killers)            0.006342            0.049331   \n118          (the kooks, coldplay)            0.007047            0.028189   \n119             (bloc party, muse)            0.006342            0.037350   \n134        (coldplay, the killers)            0.007752            0.055673   \n138            (muse, the killers)            0.007752            0.049331   \n144            (muse, the killers)            0.007752            0.049331   \n145        (coldplay, the killers)            0.007047            0.055673   \n147         (bloc party, coldplay)            0.007752            0.038760   \n148  (muse, coldplay, the killers)            0.007752            0.029598   \n\n      support  confidence       lift  leverage  conviction  \n64   0.007047    0.909091  18.428571  0.006665   10.457364  \n75   0.005638    0.888889  18.019048  0.005325    8.556025  \n118  0.005638    0.800000  28.380000  0.005439    4.859056  \n119  0.005638    0.888889  23.798742  0.005401    8.663848  \n134  0.007047    0.909091  16.329114  0.006616   10.387597  \n138  0.006342    0.818182  16.585714  0.005960    5.228682  \n144  0.006342    0.818182  16.585714  0.005960    5.228682  \n145  0.006342    0.900000  16.165823  0.005950    9.443270  \n147  0.006342    0.818182  21.109091  0.006042    5.286822  \n148  0.006342    0.818182  27.642857  0.006113    5.337209  ",
      "text/html": "<div>\n<style scoped>\n    .dataframe tbody tr th:only-of-type {\n        vertical-align: middle;\n    }\n\n    .dataframe tbody tr th {\n        vertical-align: top;\n    }\n\n    .dataframe thead th {\n        text-align: right;\n    }\n</style>\n<table border=\"1\" class=\"dataframe\">\n  <thead>\n    <tr style=\"text-align: right;\">\n      <th></th>\n      <th>antecedents</th>\n      <th>consequents</th>\n      <th>antecedent support</th>\n      <th>consequent support</th>\n      <th>support</th>\n      <th>confidence</th>\n      <th>lift</th>\n      <th>leverage</th>\n      <th>conviction</th>\n    </tr>\n  </thead>\n  <tbody>\n    <tr>\n      <th>64</th>\n      <td>(snow patrol, the kooks, radiohead)</td>\n      <td>(muse, the killers)</td>\n      <td>0.007752</td>\n      <td>0.049331</td>\n      <td>0.007047</td>\n      <td>0.909091</td>\n      <td>18.428571</td>\n      <td>0.006665</td>\n      <td>10.457364</td>\n    </tr>\n    <tr>\n      <th>75</th>\n      <td>(snow patrol, the kooks, coldplay, radiohead)</td>\n      <td>(muse, the killers)</td>\n      <td>0.006342</td>\n      <td>0.049331</td>\n      <td>0.005638</td>\n      <td>0.888889</td>\n      <td>18.019048</td>\n      <td>0.005325</td>\n      <td>8.556025</td>\n    </tr>\n    <tr>\n      <th>118</th>\n      <td>(snow patrol, bloc party, muse, radiohead)</td>\n      <td>(the kooks, coldplay)</td>\n      <td>0.007047</td>\n      <td>0.028189</td>\n      <td>0.005638</td>\n      <td>0.800000</td>\n      <td>28.380000</td>\n      <td>0.005439</td>\n      <td>4.859056</td>\n    </tr>\n    <tr>\n      <th>119</th>\n      <td>(snow patrol, the kooks, coldplay, radiohead)</td>\n      <td>(bloc party, muse)</td>\n      <td>0.006342</td>\n      <td>0.037350</td>\n      <td>0.005638</td>\n      <td>0.888889</td>\n      <td>23.798742</td>\n      <td>0.005401</td>\n      <td>8.663848</td>\n    </tr>\n    <tr>\n      <th>134</th>\n      <td>(snow patrol, bloc party, oasis)</td>\n      <td>(coldplay, the killers)</td>\n      <td>0.007752</td>\n      <td>0.055673</td>\n      <td>0.007047</td>\n      <td>0.909091</td>\n      <td>16.329114</td>\n      <td>0.006616</td>\n      <td>10.387597</td>\n    </tr>\n    <tr>\n      <th>138</th>\n      <td>(snow patrol, bloc party, oasis)</td>\n      <td>(muse, the killers)</td>\n      <td>0.007752</td>\n      <td>0.049331</td>\n      <td>0.006342</td>\n      <td>0.818182</td>\n      <td>16.585714</td>\n      <td>0.005960</td>\n      <td>5.228682</td>\n    </tr>\n    <tr>\n      <th>144</th>\n      <td>(snow patrol, bloc party, oasis, coldplay)</td>\n      <td>(muse, the killers)</td>\n      <td>0.007752</td>\n      <td>0.049331</td>\n      <td>0.006342</td>\n      <td>0.818182</td>\n      <td>16.585714</td>\n      <td>0.005960</td>\n      <td>5.228682</td>\n    </tr>\n    <tr>\n      <th>145</th>\n      <td>(snow patrol, bloc party, oasis, muse)</td>\n      <td>(coldplay, the killers)</td>\n      <td>0.007047</td>\n      <td>0.055673</td>\n      <td>0.006342</td>\n      <td>0.900000</td>\n      <td>16.165823</td>\n      <td>0.005950</td>\n      <td>9.443270</td>\n    </tr>\n    <tr>\n      <th>147</th>\n      <td>(snow patrol, oasis, the killers, muse)</td>\n      <td>(bloc party, coldplay)</td>\n      <td>0.007752</td>\n      <td>0.038760</td>\n      <td>0.006342</td>\n      <td>0.818182</td>\n      <td>21.109091</td>\n      <td>0.006042</td>\n      <td>5.286822</td>\n    </tr>\n    <tr>\n      <th>148</th>\n      <td>(snow patrol, bloc party, oasis)</td>\n      <td>(muse, coldplay, the killers)</td>\n      <td>0.007752</td>\n      <td>0.029598</td>\n      <td>0.006342</td>\n      <td>0.818182</td>\n      <td>27.642857</td>\n      <td>0.006113</td>\n      <td>5.337209</td>\n    </tr>\n  </tbody>\n</table>\n</div>"
     },
     "execution_count": 29,
     "metadata": {},
     "output_type": "execute_result"
    }
   ],
   "source": [
    "fpgrowth_artist_rules_lift = fpgrowth_artist_rules[fpgrowth_artist_rules['lift'] > 14.696203]\n",
    "print(len(fpgrowth_artist_rules_lift))\n",
    "fpgrowth_artist_rules_lift.head(10)"
   ],
   "metadata": {
    "collapsed": false,
    "pycharm": {
     "name": "#%%\n"
    }
   }
  },
  {
   "cell_type": "markdown",
   "source": [
    "### Fpmax by confidence for artist"
   ],
   "metadata": {
    "collapsed": false
   }
  },
  {
   "cell_type": "code",
   "execution_count": 42,
   "outputs": [
    {
     "name": "stdout",
     "output_type": "stream",
     "text": [
      "<class 'pandas.core.frame.DataFrame'>\n",
      "RangeIndex: 72 entries, 0 to 71\n",
      "Data columns (total 2 columns):\n",
      " #   Column    Non-Null Count  Dtype  \n",
      "---  ------    --------------  -----  \n",
      " 0   support   72 non-null     float64\n",
      " 1   itemsets  72 non-null     object \n",
      "dtypes: float64(1), object(1)\n",
      "memory usage: 1.2+ KB\n"
     ]
    }
   ],
   "source": [
    "fpmax_artists = fpmax(piv_artist,min_support=0.05, use_colnames=True)\n",
    "len(fpmax_artists)"
   ],
   "metadata": {
    "collapsed": false,
    "pycharm": {
     "name": "#%%\n"
    }
   }
  },
  {
   "cell_type": "code",
   "execution_count": 52,
   "outputs": [
    {
     "name": "stdout",
     "output_type": "stream",
     "text": [
      "14\n"
     ]
    },
    {
     "data": {
      "text/plain": "      antecedents    consequents  antecedent support  consequent support  \\\n12     (coldplay)    (radiohead)                 NaN                 NaN   \n13    (radiohead)     (coldplay)                 NaN                 NaN   \n10         (muse)    (radiohead)                 NaN                 NaN   \n11    (radiohead)         (muse)                 NaN                 NaN   \n6   (the beatles)    (radiohead)                 NaN                 NaN   \n7     (radiohead)  (the beatles)                 NaN                 NaN   \n8          (muse)     (coldplay)                 NaN                 NaN   \n9      (coldplay)         (muse)                 NaN                 NaN   \n0      (coldplay)  (the killers)                 NaN                 NaN   \n1   (the killers)     (coldplay)                 NaN                 NaN   \n4    (pink floyd)    (radiohead)                 NaN                 NaN   \n5     (radiohead)   (pink floyd)                 NaN                 NaN   \n2       (nirvana)    (radiohead)                 NaN                 NaN   \n3     (radiohead)      (nirvana)                 NaN                 NaN   \n\n     support  confidence  lift  leverage  conviction  \n12  0.083157         NaN   NaN       NaN         NaN  \n13  0.083157         NaN   NaN       NaN         NaN  \n10  0.080338         NaN   NaN       NaN         NaN  \n11  0.080338         NaN   NaN       NaN         NaN  \n6   0.070472         NaN   NaN       NaN         NaN  \n7   0.070472         NaN   NaN       NaN         NaN  \n8   0.068358         NaN   NaN       NaN         NaN  \n9   0.068358         NaN   NaN       NaN         NaN  \n0   0.055673         NaN   NaN       NaN         NaN  \n1   0.055673         NaN   NaN       NaN         NaN  \n4   0.054968         NaN   NaN       NaN         NaN  \n5   0.054968         NaN   NaN       NaN         NaN  \n2   0.051445         NaN   NaN       NaN         NaN  \n3   0.051445         NaN   NaN       NaN         NaN  ",
      "text/html": "<div>\n<style scoped>\n    .dataframe tbody tr th:only-of-type {\n        vertical-align: middle;\n    }\n\n    .dataframe tbody tr th {\n        vertical-align: top;\n    }\n\n    .dataframe thead th {\n        text-align: right;\n    }\n</style>\n<table border=\"1\" class=\"dataframe\">\n  <thead>\n    <tr style=\"text-align: right;\">\n      <th></th>\n      <th>antecedents</th>\n      <th>consequents</th>\n      <th>antecedent support</th>\n      <th>consequent support</th>\n      <th>support</th>\n      <th>confidence</th>\n      <th>lift</th>\n      <th>leverage</th>\n      <th>conviction</th>\n    </tr>\n  </thead>\n  <tbody>\n    <tr>\n      <th>12</th>\n      <td>(coldplay)</td>\n      <td>(radiohead)</td>\n      <td>NaN</td>\n      <td>NaN</td>\n      <td>0.083157</td>\n      <td>NaN</td>\n      <td>NaN</td>\n      <td>NaN</td>\n      <td>NaN</td>\n    </tr>\n    <tr>\n      <th>13</th>\n      <td>(radiohead)</td>\n      <td>(coldplay)</td>\n      <td>NaN</td>\n      <td>NaN</td>\n      <td>0.083157</td>\n      <td>NaN</td>\n      <td>NaN</td>\n      <td>NaN</td>\n      <td>NaN</td>\n    </tr>\n    <tr>\n      <th>10</th>\n      <td>(muse)</td>\n      <td>(radiohead)</td>\n      <td>NaN</td>\n      <td>NaN</td>\n      <td>0.080338</td>\n      <td>NaN</td>\n      <td>NaN</td>\n      <td>NaN</td>\n      <td>NaN</td>\n    </tr>\n    <tr>\n      <th>11</th>\n      <td>(radiohead)</td>\n      <td>(muse)</td>\n      <td>NaN</td>\n      <td>NaN</td>\n      <td>0.080338</td>\n      <td>NaN</td>\n      <td>NaN</td>\n      <td>NaN</td>\n      <td>NaN</td>\n    </tr>\n    <tr>\n      <th>6</th>\n      <td>(the beatles)</td>\n      <td>(radiohead)</td>\n      <td>NaN</td>\n      <td>NaN</td>\n      <td>0.070472</td>\n      <td>NaN</td>\n      <td>NaN</td>\n      <td>NaN</td>\n      <td>NaN</td>\n    </tr>\n    <tr>\n      <th>7</th>\n      <td>(radiohead)</td>\n      <td>(the beatles)</td>\n      <td>NaN</td>\n      <td>NaN</td>\n      <td>0.070472</td>\n      <td>NaN</td>\n      <td>NaN</td>\n      <td>NaN</td>\n      <td>NaN</td>\n    </tr>\n    <tr>\n      <th>8</th>\n      <td>(muse)</td>\n      <td>(coldplay)</td>\n      <td>NaN</td>\n      <td>NaN</td>\n      <td>0.068358</td>\n      <td>NaN</td>\n      <td>NaN</td>\n      <td>NaN</td>\n      <td>NaN</td>\n    </tr>\n    <tr>\n      <th>9</th>\n      <td>(coldplay)</td>\n      <td>(muse)</td>\n      <td>NaN</td>\n      <td>NaN</td>\n      <td>0.068358</td>\n      <td>NaN</td>\n      <td>NaN</td>\n      <td>NaN</td>\n      <td>NaN</td>\n    </tr>\n    <tr>\n      <th>0</th>\n      <td>(coldplay)</td>\n      <td>(the killers)</td>\n      <td>NaN</td>\n      <td>NaN</td>\n      <td>0.055673</td>\n      <td>NaN</td>\n      <td>NaN</td>\n      <td>NaN</td>\n      <td>NaN</td>\n    </tr>\n    <tr>\n      <th>1</th>\n      <td>(the killers)</td>\n      <td>(coldplay)</td>\n      <td>NaN</td>\n      <td>NaN</td>\n      <td>0.055673</td>\n      <td>NaN</td>\n      <td>NaN</td>\n      <td>NaN</td>\n      <td>NaN</td>\n    </tr>\n    <tr>\n      <th>4</th>\n      <td>(pink floyd)</td>\n      <td>(radiohead)</td>\n      <td>NaN</td>\n      <td>NaN</td>\n      <td>0.054968</td>\n      <td>NaN</td>\n      <td>NaN</td>\n      <td>NaN</td>\n      <td>NaN</td>\n    </tr>\n    <tr>\n      <th>5</th>\n      <td>(radiohead)</td>\n      <td>(pink floyd)</td>\n      <td>NaN</td>\n      <td>NaN</td>\n      <td>0.054968</td>\n      <td>NaN</td>\n      <td>NaN</td>\n      <td>NaN</td>\n      <td>NaN</td>\n    </tr>\n    <tr>\n      <th>2</th>\n      <td>(nirvana)</td>\n      <td>(radiohead)</td>\n      <td>NaN</td>\n      <td>NaN</td>\n      <td>0.051445</td>\n      <td>NaN</td>\n      <td>NaN</td>\n      <td>NaN</td>\n      <td>NaN</td>\n    </tr>\n    <tr>\n      <th>3</th>\n      <td>(radiohead)</td>\n      <td>(nirvana)</td>\n      <td>NaN</td>\n      <td>NaN</td>\n      <td>0.051445</td>\n      <td>NaN</td>\n      <td>NaN</td>\n      <td>NaN</td>\n      <td>NaN</td>\n    </tr>\n  </tbody>\n</table>\n</div>"
     },
     "execution_count": 52,
     "metadata": {},
     "output_type": "execute_result"
    }
   ],
   "source": [
    "fpmax_artists_rules = association_rules(fpmax_artists, metric='support', min_threshold=0.05, support_only=True)\n",
    "print(len(fpmax_artists_rules))\n",
    "fpmax_artists_rules.sort_values('support', ascending=False)"
   ],
   "metadata": {
    "collapsed": false,
    "pycharm": {
     "name": "#%%\n"
    }
   }
  },
  {
   "cell_type": "code",
   "execution_count": null,
   "outputs": [],
   "source": [],
   "metadata": {
    "collapsed": false,
    "pycharm": {
     "name": "#%%\n"
    }
   }
  }
 ],
 "metadata": {
  "kernelspec": {
   "display_name": "Python 3 (ipykernel)",
   "language": "python",
   "name": "python3"
  },
  "language_info": {
   "codemirror_mode": {
    "name": "ipython",
    "version": 3
   },
   "file_extension": ".py",
   "mimetype": "text/x-python",
   "name": "python",
   "nbconvert_exporter": "python",
   "pygments_lexer": "ipython3",
   "version": "3.9.7"
  }
 },
 "nbformat": 4,
 "nbformat_minor": 4
}
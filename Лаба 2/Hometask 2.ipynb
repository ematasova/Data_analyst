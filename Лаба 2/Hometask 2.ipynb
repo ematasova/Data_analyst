{
 "cells": [
  {
   "cell_type": "markdown",
   "metadata": {},
   "source": [
    "# Last FM hometask <br>\n",
    "https://www.kaggle.com/ravichaubey1506/lastfm <br>\n",
    "1. Выберите данные по странам своей группы (совместно): <br>\n",
    "    3530203_80101: Spain, Portugal, France, Italy, Belgium<br>\n",
    "    3530203_80102: Germany, Netherlands <br>\n",
    "    3530903_80301: Belarus, Ukraine, Poland, Russian Federation<br>\n",
    "    3530903_80302: Sweden, Finland, Norway, Denmark, Iceland<br>\n",
    "    \n",
    "2. Попытайтесь найти полезные с точки зрения продвижения групп (или еще чего-нибудь) и нетривиальные правила, используя алгоритмы Apriori, FPGrowth, FPMax и всевозможные метрики. Найдите и объясните хотя бы 5 правил.\n",
    "3. Выведите эти правила в отдельных ячейках. \n",
    "4. Подумайте, как можно было бы использовать полученные правила на практике."
   ]
  },
  {
   "cell_type": "code",
   "execution_count": 1,
   "metadata": {},
   "outputs": [],
   "source": [
    "import pandas as pd\n",
    "from mlxtend.frequent_patterns import apriori, fpgrowth, association_rules, fpmax"
   ]
  },
  {
   "cell_type": "code",
   "execution_count": 2,
   "metadata": {},
   "outputs": [
    {
     "data": {
      "text/plain": "   user                   artist sex  country\n0     1    red hot chili peppers   f  Germany\n1     1  the black dahlia murder   f  Germany\n2     1                goldfrapp   f  Germany\n3     1         dropkick murphys   f  Germany\n4     1                 le tigre   f  Germany\n5     1               schandmaul   f  Germany\n6     1                    edguy   f  Germany",
      "text/html": "<div>\n<style scoped>\n    .dataframe tbody tr th:only-of-type {\n        vertical-align: middle;\n    }\n\n    .dataframe tbody tr th {\n        vertical-align: top;\n    }\n\n    .dataframe thead th {\n        text-align: right;\n    }\n</style>\n<table border=\"1\" class=\"dataframe\">\n  <thead>\n    <tr style=\"text-align: right;\">\n      <th></th>\n      <th>user</th>\n      <th>artist</th>\n      <th>sex</th>\n      <th>country</th>\n    </tr>\n  </thead>\n  <tbody>\n    <tr>\n      <th>0</th>\n      <td>1</td>\n      <td>red hot chili peppers</td>\n      <td>f</td>\n      <td>Germany</td>\n    </tr>\n    <tr>\n      <th>1</th>\n      <td>1</td>\n      <td>the black dahlia murder</td>\n      <td>f</td>\n      <td>Germany</td>\n    </tr>\n    <tr>\n      <th>2</th>\n      <td>1</td>\n      <td>goldfrapp</td>\n      <td>f</td>\n      <td>Germany</td>\n    </tr>\n    <tr>\n      <th>3</th>\n      <td>1</td>\n      <td>dropkick murphys</td>\n      <td>f</td>\n      <td>Germany</td>\n    </tr>\n    <tr>\n      <th>4</th>\n      <td>1</td>\n      <td>le tigre</td>\n      <td>f</td>\n      <td>Germany</td>\n    </tr>\n    <tr>\n      <th>5</th>\n      <td>1</td>\n      <td>schandmaul</td>\n      <td>f</td>\n      <td>Germany</td>\n    </tr>\n    <tr>\n      <th>6</th>\n      <td>1</td>\n      <td>edguy</td>\n      <td>f</td>\n      <td>Germany</td>\n    </tr>\n  </tbody>\n</table>\n</div>"
     },
     "execution_count": 2,
     "metadata": {},
     "output_type": "execute_result"
    }
   ],
   "source": [
    "data = pd.read_csv(\"lastfm.csv\")\n",
    "data.head(7)"
   ]
  },
  {
   "cell_type": "code",
   "execution_count": 3,
   "outputs": [
    {
     "data": {
      "text/plain": "         user               artist sex   country\n83          6           lily allen   m  Portugal\n84          6           kanye west   m  Portugal\n85          6            sigur rós   m  Portugal\n86          6           pink floyd   m  Portugal\n87          6        stevie wonder   m  Portugal\n...       ...                  ...  ..       ...\n289758  19707     the decemberists   m     Spain\n289759  19707  my bloody valentine   m     Spain\n289760  19707           bloc party   m     Spain\n289761  19707            new order   m     Spain\n289762  19707       arctic monkeys   m     Spain\n\n[27214 rows x 4 columns]",
      "text/html": "<div>\n<style scoped>\n    .dataframe tbody tr th:only-of-type {\n        vertical-align: middle;\n    }\n\n    .dataframe tbody tr th {\n        vertical-align: top;\n    }\n\n    .dataframe thead th {\n        text-align: right;\n    }\n</style>\n<table border=\"1\" class=\"dataframe\">\n  <thead>\n    <tr style=\"text-align: right;\">\n      <th></th>\n      <th>user</th>\n      <th>artist</th>\n      <th>sex</th>\n      <th>country</th>\n    </tr>\n  </thead>\n  <tbody>\n    <tr>\n      <th>83</th>\n      <td>6</td>\n      <td>lily allen</td>\n      <td>m</td>\n      <td>Portugal</td>\n    </tr>\n    <tr>\n      <th>84</th>\n      <td>6</td>\n      <td>kanye west</td>\n      <td>m</td>\n      <td>Portugal</td>\n    </tr>\n    <tr>\n      <th>85</th>\n      <td>6</td>\n      <td>sigur rós</td>\n      <td>m</td>\n      <td>Portugal</td>\n    </tr>\n    <tr>\n      <th>86</th>\n      <td>6</td>\n      <td>pink floyd</td>\n      <td>m</td>\n      <td>Portugal</td>\n    </tr>\n    <tr>\n      <th>87</th>\n      <td>6</td>\n      <td>stevie wonder</td>\n      <td>m</td>\n      <td>Portugal</td>\n    </tr>\n    <tr>\n      <th>...</th>\n      <td>...</td>\n      <td>...</td>\n      <td>...</td>\n      <td>...</td>\n    </tr>\n    <tr>\n      <th>289758</th>\n      <td>19707</td>\n      <td>the decemberists</td>\n      <td>m</td>\n      <td>Spain</td>\n    </tr>\n    <tr>\n      <th>289759</th>\n      <td>19707</td>\n      <td>my bloody valentine</td>\n      <td>m</td>\n      <td>Spain</td>\n    </tr>\n    <tr>\n      <th>289760</th>\n      <td>19707</td>\n      <td>bloc party</td>\n      <td>m</td>\n      <td>Spain</td>\n    </tr>\n    <tr>\n      <th>289761</th>\n      <td>19707</td>\n      <td>new order</td>\n      <td>m</td>\n      <td>Spain</td>\n    </tr>\n    <tr>\n      <th>289762</th>\n      <td>19707</td>\n      <td>arctic monkeys</td>\n      <td>m</td>\n      <td>Spain</td>\n    </tr>\n  </tbody>\n</table>\n<p>27214 rows × 4 columns</p>\n</div>"
     },
     "execution_count": 3,
     "metadata": {},
     "output_type": "execute_result"
    }
   ],
   "source": [
    "data_SPFIB=data[(data.country==\"Spain\")|(data.country==\"Portugal\")|(data.country==\"France\")|(data.country==\"Italy\")|(data.country==\"Belgium\")]\n",
    "data_SPFIB"
   ],
   "metadata": {
    "collapsed": false,
    "pycharm": {
     "name": "#%%\n"
    }
   }
  },
  {
   "cell_type": "code",
   "execution_count": 46,
   "outputs": [
    {
     "name": "stdout",
     "output_type": "stream",
     "text": [
      "<class 'pandas.core.frame.DataFrame'>\n",
      "Int64Index: 27214 entries, 83 to 289762\n",
      "Data columns (total 4 columns):\n",
      " #   Column   Non-Null Count  Dtype \n",
      "---  ------   --------------  ----- \n",
      " 0   user     27214 non-null  int64 \n",
      " 1   artist   27214 non-null  object\n",
      " 2   sex      27214 non-null  object\n",
      " 3   country  27214 non-null  object\n",
      "dtypes: int64(1), object(3)\n",
      "memory usage: 1.0+ MB\n"
     ]
    }
   ],
   "source": [
    "data_SPFIB.info()"
   ],
   "metadata": {
    "collapsed": false,
    "pycharm": {
     "name": "#%%\n"
    }
   }
  },
  {
   "cell_type": "markdown",
   "source": [
    "### Data preprocessing"
   ],
   "metadata": {
    "collapsed": false
   }
  },
  {
   "cell_type": "code",
   "execution_count": 4,
   "outputs": [
    {
     "data": {
      "text/plain": "artist\n...and you will know us by the trail of dead     8\n2pac                                            16\n3 doors down                                    29\n30 seconds to mars                              42\n311                                              3\n                                                ..\nyeah yeah yeahs                                 26\nyellowcard                                       8\nyo la tengo                                     11\nzero 7                                          13\nÉdith piaf                                      17\nLength: 994, dtype: int64"
     },
     "execution_count": 4,
     "metadata": {},
     "output_type": "execute_result"
    }
   ],
   "source": [
    "# dummy encoding for artist\n",
    "piv_artist = data_SPFIB[['user', 'artist']].pivot_table(index='user', columns='artist',aggfunc=any, fill_value=False).astype(int)\n",
    "piv_artist.sum()"
   ],
   "metadata": {
    "collapsed": false,
    "pycharm": {
     "name": "#%%\n"
    }
   }
  },
  {
   "cell_type": "code",
   "execution_count": 52,
   "outputs": [
    {
     "data": {
      "text/plain": "country\nBelgium     160\nFrance      327\nItaly       304\nPortugal    122\nSpain       506\ndtype: int64"
     },
     "execution_count": 52,
     "metadata": {},
     "output_type": "execute_result"
    }
   ],
   "source": [
    "# dummy encoding for country\n",
    "piv_country = data_SPFIB[['user', 'country']].pivot_table(index='user', columns='country',aggfunc=any, fill_value=False).astype(int)\n",
    "piv_country.sum()"
   ],
   "metadata": {
    "collapsed": false,
    "pycharm": {
     "name": "#%%\n"
    }
   }
  },
  {
   "cell_type": "code",
   "execution_count": 6,
   "outputs": [
    {
     "data": {
      "text/plain": "sex\nf     312\nm    1107\ndtype: int64"
     },
     "execution_count": 6,
     "metadata": {},
     "output_type": "execute_result"
    }
   ],
   "source": [
    "# dummy encoding for sex\n",
    "piv_sex = data_SPFIB[['user', 'sex']].pivot_table(index='user', columns='sex',aggfunc=any, fill_value=False).astype(int)\n",
    "piv_sex.sum()"
   ],
   "metadata": {
    "collapsed": false,
    "pycharm": {
     "name": "#%%\n"
    }
   }
  },
  {
   "cell_type": "code",
   "execution_count": 7,
   "outputs": [
    {
     "data": {
      "text/plain": "      ...and you will know us by the trail of dead  2pac  3 doors down  \\\nuser                                                                     \n6                                                0     0             0   \n12                                               0     0             0   \n36                                               0     0             0   \n47                                               0     0             0   \n74                                               0     0             0   \n\n      30 seconds to mars  311  36 crazyfists  44  50 cent  65daysofstatic  \\\nuser                                                                        \n6                      0    0              0   0        0               0   \n12                     0    0              0   0        0               0   \n36                     0    0              0   0        0               0   \n47                     0    0              0   0        0               0   \n74                     0    0              0   0        0               0   \n\n      [unknown]  ...  yo la tengo  zero 7  Édith piaf  Belgium  France  Italy  \\\nuser             ...                                                            \n6             0  ...            0       0           0        0       0      0   \n12            0  ...            0       0           0        0       0      1   \n36            0  ...            0       0           0        0       0      1   \n47            0  ...            0       1           0        0       0      1   \n74            0  ...            0       0           0        0       0      0   \n\n      Portugal  Spain  f  m  \nuser                         \n6            1      0  0  1  \n12           0      0  0  1  \n36           0      0  1  0  \n47           0      0  0  1  \n74           0      1  0  1  \n\n[5 rows x 1001 columns]",
      "text/html": "<div>\n<style scoped>\n    .dataframe tbody tr th:only-of-type {\n        vertical-align: middle;\n    }\n\n    .dataframe tbody tr th {\n        vertical-align: top;\n    }\n\n    .dataframe thead th {\n        text-align: right;\n    }\n</style>\n<table border=\"1\" class=\"dataframe\">\n  <thead>\n    <tr style=\"text-align: right;\">\n      <th></th>\n      <th>...and you will know us by the trail of dead</th>\n      <th>2pac</th>\n      <th>3 doors down</th>\n      <th>30 seconds to mars</th>\n      <th>311</th>\n      <th>36 crazyfists</th>\n      <th>44</th>\n      <th>50 cent</th>\n      <th>65daysofstatic</th>\n      <th>[unknown]</th>\n      <th>...</th>\n      <th>yo la tengo</th>\n      <th>zero 7</th>\n      <th>Édith piaf</th>\n      <th>Belgium</th>\n      <th>France</th>\n      <th>Italy</th>\n      <th>Portugal</th>\n      <th>Spain</th>\n      <th>f</th>\n      <th>m</th>\n    </tr>\n    <tr>\n      <th>user</th>\n      <th></th>\n      <th></th>\n      <th></th>\n      <th></th>\n      <th></th>\n      <th></th>\n      <th></th>\n      <th></th>\n      <th></th>\n      <th></th>\n      <th></th>\n      <th></th>\n      <th></th>\n      <th></th>\n      <th></th>\n      <th></th>\n      <th></th>\n      <th></th>\n      <th></th>\n      <th></th>\n      <th></th>\n    </tr>\n  </thead>\n  <tbody>\n    <tr>\n      <th>6</th>\n      <td>0</td>\n      <td>0</td>\n      <td>0</td>\n      <td>0</td>\n      <td>0</td>\n      <td>0</td>\n      <td>0</td>\n      <td>0</td>\n      <td>0</td>\n      <td>0</td>\n      <td>...</td>\n      <td>0</td>\n      <td>0</td>\n      <td>0</td>\n      <td>0</td>\n      <td>0</td>\n      <td>0</td>\n      <td>1</td>\n      <td>0</td>\n      <td>0</td>\n      <td>1</td>\n    </tr>\n    <tr>\n      <th>12</th>\n      <td>0</td>\n      <td>0</td>\n      <td>0</td>\n      <td>0</td>\n      <td>0</td>\n      <td>0</td>\n      <td>0</td>\n      <td>0</td>\n      <td>0</td>\n      <td>0</td>\n      <td>...</td>\n      <td>0</td>\n      <td>0</td>\n      <td>0</td>\n      <td>0</td>\n      <td>0</td>\n      <td>1</td>\n      <td>0</td>\n      <td>0</td>\n      <td>0</td>\n      <td>1</td>\n    </tr>\n    <tr>\n      <th>36</th>\n      <td>0</td>\n      <td>0</td>\n      <td>0</td>\n      <td>0</td>\n      <td>0</td>\n      <td>0</td>\n      <td>0</td>\n      <td>0</td>\n      <td>0</td>\n      <td>0</td>\n      <td>...</td>\n      <td>0</td>\n      <td>0</td>\n      <td>0</td>\n      <td>0</td>\n      <td>0</td>\n      <td>1</td>\n      <td>0</td>\n      <td>0</td>\n      <td>1</td>\n      <td>0</td>\n    </tr>\n    <tr>\n      <th>47</th>\n      <td>0</td>\n      <td>0</td>\n      <td>0</td>\n      <td>0</td>\n      <td>0</td>\n      <td>0</td>\n      <td>0</td>\n      <td>0</td>\n      <td>0</td>\n      <td>0</td>\n      <td>...</td>\n      <td>0</td>\n      <td>1</td>\n      <td>0</td>\n      <td>0</td>\n      <td>0</td>\n      <td>1</td>\n      <td>0</td>\n      <td>0</td>\n      <td>0</td>\n      <td>1</td>\n    </tr>\n    <tr>\n      <th>74</th>\n      <td>0</td>\n      <td>0</td>\n      <td>0</td>\n      <td>0</td>\n      <td>0</td>\n      <td>0</td>\n      <td>0</td>\n      <td>0</td>\n      <td>0</td>\n      <td>0</td>\n      <td>...</td>\n      <td>0</td>\n      <td>0</td>\n      <td>0</td>\n      <td>0</td>\n      <td>0</td>\n      <td>0</td>\n      <td>0</td>\n      <td>1</td>\n      <td>0</td>\n      <td>1</td>\n    </tr>\n  </tbody>\n</table>\n<p>5 rows × 1001 columns</p>\n</div>"
     },
     "execution_count": 7,
     "metadata": {},
     "output_type": "execute_result"
    }
   ],
   "source": [
    "piv_all = pd.concat([piv_artist, piv_country, piv_sex], axis=1)\n",
    "piv_all.head()"
   ],
   "metadata": {
    "collapsed": false,
    "pycharm": {
     "name": "#%%\n"
    }
   }
  },
  {
   "cell_type": "code",
   "execution_count": 72,
   "outputs": [
    {
     "data": {
      "text/plain": "      ...and you will know us by the trail of dead  2pac  3 doors down  \\\nuser                                                                     \n6                                                0     0             0   \n12                                               0     0             0   \n36                                               0     0             0   \n47                                               0     0             0   \n74                                               0     0             0   \n\n      30 seconds to mars  311  36 crazyfists  44  50 cent  65daysofstatic  \\\nuser                                                                        \n6                      0    0              0   0        0               0   \n12                     0    0              0   0        0               0   \n36                     0    0              0   0        0               0   \n47                     0    0              0   0        0               0   \n74                     0    0              0   0        0               0   \n\n      [unknown]  ...  yeah yeah yeahs  yellowcard  yo la tengo  zero 7  \\\nuser             ...                                                     \n6             0  ...                0           0            0       0   \n12            0  ...                0           0            0       0   \n36            0  ...                0           0            0       0   \n47            0  ...                0           0            0       1   \n74            0  ...                0           0            0       0   \n\n      Édith piaf  Belgium  France  Italy  Portugal  Spain  \nuser                                                       \n6              0        0       0      0         1      0  \n12             0        0       0      1         0      0  \n36             0        0       0      1         0      0  \n47             0        0       0      1         0      0  \n74             0        0       0      0         0      1  \n\n[5 rows x 999 columns]",
      "text/html": "<div>\n<style scoped>\n    .dataframe tbody tr th:only-of-type {\n        vertical-align: middle;\n    }\n\n    .dataframe tbody tr th {\n        vertical-align: top;\n    }\n\n    .dataframe thead th {\n        text-align: right;\n    }\n</style>\n<table border=\"1\" class=\"dataframe\">\n  <thead>\n    <tr style=\"text-align: right;\">\n      <th></th>\n      <th>...and you will know us by the trail of dead</th>\n      <th>2pac</th>\n      <th>3 doors down</th>\n      <th>30 seconds to mars</th>\n      <th>311</th>\n      <th>36 crazyfists</th>\n      <th>44</th>\n      <th>50 cent</th>\n      <th>65daysofstatic</th>\n      <th>[unknown]</th>\n      <th>...</th>\n      <th>yeah yeah yeahs</th>\n      <th>yellowcard</th>\n      <th>yo la tengo</th>\n      <th>zero 7</th>\n      <th>Édith piaf</th>\n      <th>Belgium</th>\n      <th>France</th>\n      <th>Italy</th>\n      <th>Portugal</th>\n      <th>Spain</th>\n    </tr>\n    <tr>\n      <th>user</th>\n      <th></th>\n      <th></th>\n      <th></th>\n      <th></th>\n      <th></th>\n      <th></th>\n      <th></th>\n      <th></th>\n      <th></th>\n      <th></th>\n      <th></th>\n      <th></th>\n      <th></th>\n      <th></th>\n      <th></th>\n      <th></th>\n      <th></th>\n      <th></th>\n      <th></th>\n      <th></th>\n      <th></th>\n    </tr>\n  </thead>\n  <tbody>\n    <tr>\n      <th>6</th>\n      <td>0</td>\n      <td>0</td>\n      <td>0</td>\n      <td>0</td>\n      <td>0</td>\n      <td>0</td>\n      <td>0</td>\n      <td>0</td>\n      <td>0</td>\n      <td>0</td>\n      <td>...</td>\n      <td>0</td>\n      <td>0</td>\n      <td>0</td>\n      <td>0</td>\n      <td>0</td>\n      <td>0</td>\n      <td>0</td>\n      <td>0</td>\n      <td>1</td>\n      <td>0</td>\n    </tr>\n    <tr>\n      <th>12</th>\n      <td>0</td>\n      <td>0</td>\n      <td>0</td>\n      <td>0</td>\n      <td>0</td>\n      <td>0</td>\n      <td>0</td>\n      <td>0</td>\n      <td>0</td>\n      <td>0</td>\n      <td>...</td>\n      <td>0</td>\n      <td>0</td>\n      <td>0</td>\n      <td>0</td>\n      <td>0</td>\n      <td>0</td>\n      <td>0</td>\n      <td>1</td>\n      <td>0</td>\n      <td>0</td>\n    </tr>\n    <tr>\n      <th>36</th>\n      <td>0</td>\n      <td>0</td>\n      <td>0</td>\n      <td>0</td>\n      <td>0</td>\n      <td>0</td>\n      <td>0</td>\n      <td>0</td>\n      <td>0</td>\n      <td>0</td>\n      <td>...</td>\n      <td>0</td>\n      <td>0</td>\n      <td>0</td>\n      <td>0</td>\n      <td>0</td>\n      <td>0</td>\n      <td>0</td>\n      <td>1</td>\n      <td>0</td>\n      <td>0</td>\n    </tr>\n    <tr>\n      <th>47</th>\n      <td>0</td>\n      <td>0</td>\n      <td>0</td>\n      <td>0</td>\n      <td>0</td>\n      <td>0</td>\n      <td>0</td>\n      <td>0</td>\n      <td>0</td>\n      <td>0</td>\n      <td>...</td>\n      <td>0</td>\n      <td>0</td>\n      <td>0</td>\n      <td>1</td>\n      <td>0</td>\n      <td>0</td>\n      <td>0</td>\n      <td>1</td>\n      <td>0</td>\n      <td>0</td>\n    </tr>\n    <tr>\n      <th>74</th>\n      <td>0</td>\n      <td>0</td>\n      <td>0</td>\n      <td>0</td>\n      <td>0</td>\n      <td>0</td>\n      <td>0</td>\n      <td>0</td>\n      <td>0</td>\n      <td>0</td>\n      <td>...</td>\n      <td>0</td>\n      <td>0</td>\n      <td>0</td>\n      <td>0</td>\n      <td>0</td>\n      <td>0</td>\n      <td>0</td>\n      <td>0</td>\n      <td>0</td>\n      <td>1</td>\n    </tr>\n  </tbody>\n</table>\n<p>5 rows × 999 columns</p>\n</div>"
     },
     "execution_count": 72,
     "metadata": {},
     "output_type": "execute_result"
    }
   ],
   "source": [
    "piv_artist_country = pd.concat([piv_artist, piv_country], axis=1)\n",
    "piv_artist_country.head()"
   ],
   "metadata": {
    "collapsed": false,
    "pycharm": {
     "name": "#%%\n"
    }
   }
  },
  {
   "cell_type": "markdown",
   "source": [
    "# Rule 1"
   ],
   "metadata": {
    "collapsed": false
   }
  },
  {
   "cell_type": "code",
   "execution_count": 8,
   "outputs": [
    {
     "data": {
      "text/plain": "      support                           itemsets\n0    0.041579                        ([unknown])\n1    0.043693                 (a perfect circle)\n2    0.073996                            (ac/dc)\n3    0.036646                        (aerosmith)\n4    0.092319                              (air)\n..        ...                                ...\n264  0.035941                    (radiohead, u2)\n265  0.035941  (the rolling stones, the beatles)\n266  0.031712         (the beatles, the strokes)\n267  0.039464         (the killers, the strokes)\n268  0.038760        (muse, coldplay, radiohead)\n\n[269 rows x 2 columns]",
      "text/html": "<div>\n<style scoped>\n    .dataframe tbody tr th:only-of-type {\n        vertical-align: middle;\n    }\n\n    .dataframe tbody tr th {\n        vertical-align: top;\n    }\n\n    .dataframe thead th {\n        text-align: right;\n    }\n</style>\n<table border=\"1\" class=\"dataframe\">\n  <thead>\n    <tr style=\"text-align: right;\">\n      <th></th>\n      <th>support</th>\n      <th>itemsets</th>\n    </tr>\n  </thead>\n  <tbody>\n    <tr>\n      <th>0</th>\n      <td>0.041579</td>\n      <td>([unknown])</td>\n    </tr>\n    <tr>\n      <th>1</th>\n      <td>0.043693</td>\n      <td>(a perfect circle)</td>\n    </tr>\n    <tr>\n      <th>2</th>\n      <td>0.073996</td>\n      <td>(ac/dc)</td>\n    </tr>\n    <tr>\n      <th>3</th>\n      <td>0.036646</td>\n      <td>(aerosmith)</td>\n    </tr>\n    <tr>\n      <th>4</th>\n      <td>0.092319</td>\n      <td>(air)</td>\n    </tr>\n    <tr>\n      <th>...</th>\n      <td>...</td>\n      <td>...</td>\n    </tr>\n    <tr>\n      <th>264</th>\n      <td>0.035941</td>\n      <td>(radiohead, u2)</td>\n    </tr>\n    <tr>\n      <th>265</th>\n      <td>0.035941</td>\n      <td>(the rolling stones, the beatles)</td>\n    </tr>\n    <tr>\n      <th>266</th>\n      <td>0.031712</td>\n      <td>(the beatles, the strokes)</td>\n    </tr>\n    <tr>\n      <th>267</th>\n      <td>0.039464</td>\n      <td>(the killers, the strokes)</td>\n    </tr>\n    <tr>\n      <th>268</th>\n      <td>0.038760</td>\n      <td>(muse, coldplay, radiohead)</td>\n    </tr>\n  </tbody>\n</table>\n<p>269 rows × 2 columns</p>\n</div>"
     },
     "execution_count": 8,
     "metadata": {},
     "output_type": "execute_result"
    }
   ],
   "source": [
    "apriori_artist = apriori(piv_artist, min_support=0.03, use_colnames=True)\n",
    "apriori_artist"
   ],
   "metadata": {
    "collapsed": false,
    "pycharm": {
     "name": "#%%\n"
    }
   }
  },
  {
   "cell_type": "code",
   "execution_count": 9,
   "outputs": [
    {
     "data": {
      "text/plain": "         antecedents    consequents  antecedent support  consequent support  \\\n40           (keane)     (coldplay)            0.038055            0.188161   \n19            (beck)    (radiohead)            0.047216            0.237491   \n32            (blur)    (radiohead)            0.047921            0.237491   \n56     (snow patrol)     (coldplay)            0.050740            0.188161   \n91   (kaiser chiefs)  (the killers)            0.050740            0.109937   \n..               ...            ...                 ...                 ...   \n3        (radiohead)          (air)            0.237491            0.092319   \n132    (the beatles)      (nirvana)            0.174066            0.124736   \n68     (the beatles)  (david bowie)            0.174066            0.088090   \n61        (coldplay)  (the strokes)            0.188161            0.087385   \n147      (radiohead)    (sigur rós)            0.237491            0.086681   \n\n      support  confidence      lift  leverage  conviction  \n40   0.033122    0.870370  4.625676  0.025961    6.262760  \n19   0.032417    0.686567  2.890916  0.021204    2.432766  \n32   0.030303    0.632353  2.662637  0.018922    2.074024  \n56   0.031712    0.625000  3.321629  0.022165    2.164905  \n91   0.031008    0.611111  5.558761  0.025430    2.288735  \n..        ...         ...       ...       ...         ...  \n3    0.048626    0.204748  2.217840  0.026701    1.141376  \n132  0.035236    0.202429  1.622864  0.013524    1.097413  \n68   0.035236    0.202429  2.297976  0.019903    1.143359  \n61   0.038055    0.202247  2.314426  0.021612    1.143982  \n147  0.047921    0.201780  2.327857  0.027335    1.144195  \n\n[168 rows x 9 columns]",
      "text/html": "<div>\n<style scoped>\n    .dataframe tbody tr th:only-of-type {\n        vertical-align: middle;\n    }\n\n    .dataframe tbody tr th {\n        vertical-align: top;\n    }\n\n    .dataframe thead th {\n        text-align: right;\n    }\n</style>\n<table border=\"1\" class=\"dataframe\">\n  <thead>\n    <tr style=\"text-align: right;\">\n      <th></th>\n      <th>antecedents</th>\n      <th>consequents</th>\n      <th>antecedent support</th>\n      <th>consequent support</th>\n      <th>support</th>\n      <th>confidence</th>\n      <th>lift</th>\n      <th>leverage</th>\n      <th>conviction</th>\n    </tr>\n  </thead>\n  <tbody>\n    <tr>\n      <th>40</th>\n      <td>(keane)</td>\n      <td>(coldplay)</td>\n      <td>0.038055</td>\n      <td>0.188161</td>\n      <td>0.033122</td>\n      <td>0.870370</td>\n      <td>4.625676</td>\n      <td>0.025961</td>\n      <td>6.262760</td>\n    </tr>\n    <tr>\n      <th>19</th>\n      <td>(beck)</td>\n      <td>(radiohead)</td>\n      <td>0.047216</td>\n      <td>0.237491</td>\n      <td>0.032417</td>\n      <td>0.686567</td>\n      <td>2.890916</td>\n      <td>0.021204</td>\n      <td>2.432766</td>\n    </tr>\n    <tr>\n      <th>32</th>\n      <td>(blur)</td>\n      <td>(radiohead)</td>\n      <td>0.047921</td>\n      <td>0.237491</td>\n      <td>0.030303</td>\n      <td>0.632353</td>\n      <td>2.662637</td>\n      <td>0.018922</td>\n      <td>2.074024</td>\n    </tr>\n    <tr>\n      <th>56</th>\n      <td>(snow patrol)</td>\n      <td>(coldplay)</td>\n      <td>0.050740</td>\n      <td>0.188161</td>\n      <td>0.031712</td>\n      <td>0.625000</td>\n      <td>3.321629</td>\n      <td>0.022165</td>\n      <td>2.164905</td>\n    </tr>\n    <tr>\n      <th>91</th>\n      <td>(kaiser chiefs)</td>\n      <td>(the killers)</td>\n      <td>0.050740</td>\n      <td>0.109937</td>\n      <td>0.031008</td>\n      <td>0.611111</td>\n      <td>5.558761</td>\n      <td>0.025430</td>\n      <td>2.288735</td>\n    </tr>\n    <tr>\n      <th>...</th>\n      <td>...</td>\n      <td>...</td>\n      <td>...</td>\n      <td>...</td>\n      <td>...</td>\n      <td>...</td>\n      <td>...</td>\n      <td>...</td>\n      <td>...</td>\n    </tr>\n    <tr>\n      <th>3</th>\n      <td>(radiohead)</td>\n      <td>(air)</td>\n      <td>0.237491</td>\n      <td>0.092319</td>\n      <td>0.048626</td>\n      <td>0.204748</td>\n      <td>2.217840</td>\n      <td>0.026701</td>\n      <td>1.141376</td>\n    </tr>\n    <tr>\n      <th>132</th>\n      <td>(the beatles)</td>\n      <td>(nirvana)</td>\n      <td>0.174066</td>\n      <td>0.124736</td>\n      <td>0.035236</td>\n      <td>0.202429</td>\n      <td>1.622864</td>\n      <td>0.013524</td>\n      <td>1.097413</td>\n    </tr>\n    <tr>\n      <th>68</th>\n      <td>(the beatles)</td>\n      <td>(david bowie)</td>\n      <td>0.174066</td>\n      <td>0.088090</td>\n      <td>0.035236</td>\n      <td>0.202429</td>\n      <td>2.297976</td>\n      <td>0.019903</td>\n      <td>1.143359</td>\n    </tr>\n    <tr>\n      <th>61</th>\n      <td>(coldplay)</td>\n      <td>(the strokes)</td>\n      <td>0.188161</td>\n      <td>0.087385</td>\n      <td>0.038055</td>\n      <td>0.202247</td>\n      <td>2.314426</td>\n      <td>0.021612</td>\n      <td>1.143982</td>\n    </tr>\n    <tr>\n      <th>147</th>\n      <td>(radiohead)</td>\n      <td>(sigur rós)</td>\n      <td>0.237491</td>\n      <td>0.086681</td>\n      <td>0.047921</td>\n      <td>0.201780</td>\n      <td>2.327857</td>\n      <td>0.027335</td>\n      <td>1.144195</td>\n    </tr>\n  </tbody>\n</table>\n<p>168 rows × 9 columns</p>\n</div>"
     },
     "execution_count": 9,
     "metadata": {},
     "output_type": "execute_result"
    }
   ],
   "source": [
    "apriori_artist_rules = association_rules(apriori_artist, metric=\"confidence\", min_threshold=0.2)\n",
    "apriori_artist_rules.sort_values('confidence', ascending=False)"
   ],
   "metadata": {
    "collapsed": false,
    "pycharm": {
     "name": "#%%\n"
    }
   }
  },
  {
   "cell_type": "markdown",
   "source": [
    "Метрика lift — это отношение «зависимости» items к их «независимости». Lift показывает, насколько items зависят друг от друга. В случае, если lift = 1, мы говорим, что items независимы и правил совместного прослушивания тут нет. Если же lift>1, то величина, на которую lift, собственно, больше этой самой единицы, и покажет нам «силу» правила. Чем больше единицы, тем чаще посылка и следствие встречаются в транзакциях вместе."
   ],
   "metadata": {
    "collapsed": false
   }
  },
  {
   "cell_type": "code",
   "execution_count": 10,
   "outputs": [
    {
     "data": {
      "text/plain": "       antecedents           consequents  antecedent support  \\\n159  (the beatles)  (the rolling stones)            0.174066   \n68   (the beatles)         (david bowie)            0.174066   \n95   (the beatles)        (led zeppelin)            0.174066   \n140  (the beatles)          (pink floyd)            0.174066   \n149  (the beatles)           (radiohead)            0.174066   \n132  (the beatles)             (nirvana)            0.174066   \n57   (the beatles)            (coldplay)            0.174066   \n119  (the beatles)                (muse)            0.174066   \n\n     consequent support   support  confidence      lift  leverage  conviction  \n159            0.072586  0.035941    0.206478  2.844582  0.023306    1.168730  \n68             0.088090  0.035236    0.202429  2.297976  0.019903    1.143359  \n95             0.098661  0.039464    0.226721  2.297976  0.022291    1.165606  \n140            0.130374  0.048626    0.279352  2.142707  0.025932    1.206729  \n149            0.237491  0.070472    0.404858  1.704730  0.029133    1.281222  \n132            0.124736  0.035236    0.202429  1.622864  0.013524    1.097413  \n57             0.188161  0.047216    0.271255  1.441614  0.014464    1.114024  \n119            0.174066  0.036646    0.210526  1.209461  0.006346    1.046183  ",
      "text/html": "<div>\n<style scoped>\n    .dataframe tbody tr th:only-of-type {\n        vertical-align: middle;\n    }\n\n    .dataframe tbody tr th {\n        vertical-align: top;\n    }\n\n    .dataframe thead th {\n        text-align: right;\n    }\n</style>\n<table border=\"1\" class=\"dataframe\">\n  <thead>\n    <tr style=\"text-align: right;\">\n      <th></th>\n      <th>antecedents</th>\n      <th>consequents</th>\n      <th>antecedent support</th>\n      <th>consequent support</th>\n      <th>support</th>\n      <th>confidence</th>\n      <th>lift</th>\n      <th>leverage</th>\n      <th>conviction</th>\n    </tr>\n  </thead>\n  <tbody>\n    <tr>\n      <th>159</th>\n      <td>(the beatles)</td>\n      <td>(the rolling stones)</td>\n      <td>0.174066</td>\n      <td>0.072586</td>\n      <td>0.035941</td>\n      <td>0.206478</td>\n      <td>2.844582</td>\n      <td>0.023306</td>\n      <td>1.168730</td>\n    </tr>\n    <tr>\n      <th>68</th>\n      <td>(the beatles)</td>\n      <td>(david bowie)</td>\n      <td>0.174066</td>\n      <td>0.088090</td>\n      <td>0.035236</td>\n      <td>0.202429</td>\n      <td>2.297976</td>\n      <td>0.019903</td>\n      <td>1.143359</td>\n    </tr>\n    <tr>\n      <th>95</th>\n      <td>(the beatles)</td>\n      <td>(led zeppelin)</td>\n      <td>0.174066</td>\n      <td>0.098661</td>\n      <td>0.039464</td>\n      <td>0.226721</td>\n      <td>2.297976</td>\n      <td>0.022291</td>\n      <td>1.165606</td>\n    </tr>\n    <tr>\n      <th>140</th>\n      <td>(the beatles)</td>\n      <td>(pink floyd)</td>\n      <td>0.174066</td>\n      <td>0.130374</td>\n      <td>0.048626</td>\n      <td>0.279352</td>\n      <td>2.142707</td>\n      <td>0.025932</td>\n      <td>1.206729</td>\n    </tr>\n    <tr>\n      <th>149</th>\n      <td>(the beatles)</td>\n      <td>(radiohead)</td>\n      <td>0.174066</td>\n      <td>0.237491</td>\n      <td>0.070472</td>\n      <td>0.404858</td>\n      <td>1.704730</td>\n      <td>0.029133</td>\n      <td>1.281222</td>\n    </tr>\n    <tr>\n      <th>132</th>\n      <td>(the beatles)</td>\n      <td>(nirvana)</td>\n      <td>0.174066</td>\n      <td>0.124736</td>\n      <td>0.035236</td>\n      <td>0.202429</td>\n      <td>1.622864</td>\n      <td>0.013524</td>\n      <td>1.097413</td>\n    </tr>\n    <tr>\n      <th>57</th>\n      <td>(the beatles)</td>\n      <td>(coldplay)</td>\n      <td>0.174066</td>\n      <td>0.188161</td>\n      <td>0.047216</td>\n      <td>0.271255</td>\n      <td>1.441614</td>\n      <td>0.014464</td>\n      <td>1.114024</td>\n    </tr>\n    <tr>\n      <th>119</th>\n      <td>(the beatles)</td>\n      <td>(muse)</td>\n      <td>0.174066</td>\n      <td>0.174066</td>\n      <td>0.036646</td>\n      <td>0.210526</td>\n      <td>1.209461</td>\n      <td>0.006346</td>\n      <td>1.046183</td>\n    </tr>\n  </tbody>\n</table>\n</div>"
     },
     "execution_count": 10,
     "metadata": {},
     "output_type": "execute_result"
    }
   ],
   "source": [
    "rule1 = apriori_artist_rules[(apriori_artist_rules['antecedents'] == {'the beatles'})].sort_values(by = ['lift'],ascending=False)\n",
    "rule1"
   ],
   "metadata": {
    "collapsed": false,
    "pycharm": {
     "name": "#%%\n"
    }
   }
  },
  {
   "cell_type": "markdown",
   "source": [
    "# Rule 2"
   ],
   "metadata": {
    "collapsed": false
   }
  },
  {
   "cell_type": "markdown",
   "source": [
    "**fp-growth** позволяет установить меньший порог и получить больше наборов, среди которых могут быть интересные правила"
   ],
   "metadata": {
    "collapsed": false,
    "pycharm": {
     "name": "#%% md\n"
    }
   }
  },
  {
   "cell_type": "code",
   "execution_count": 26,
   "outputs": [
    {
     "data": {
      "text/plain": "96631"
     },
     "execution_count": 26,
     "metadata": {},
     "output_type": "execute_result"
    }
   ],
   "source": [
    "fpgrowth_artist = fpgrowth(piv_artist, min_support=0.003, use_colnames=True)\n",
    "len(fpgrowth_artist)"
   ],
   "metadata": {
    "collapsed": false,
    "pycharm": {
     "name": "#%%\n"
    }
   }
  },
  {
   "cell_type": "code",
   "execution_count": 44,
   "outputs": [
    {
     "data": {
      "text/plain": "          antecedents    consequents  antecedent support  consequent support  \\\n885928     (coldplay)    (radiohead)            0.188161            0.237491   \n885929    (radiohead)     (coldplay)            0.237491            0.188161   \n0              (muse)    (radiohead)            0.174066            0.237491   \n1         (radiohead)         (muse)            0.237491            0.174066   \n130498  (the beatles)    (radiohead)            0.174066            0.237491   \n130499    (radiohead)  (the beatles)            0.237491            0.174066   \n2              (muse)     (coldplay)            0.174066            0.188161   \n3          (coldplay)         (muse)            0.188161            0.174066   \n340881     (coldplay)  (the killers)            0.188161            0.109937   \n340880  (the killers)     (coldplay)            0.109937            0.188161   \n\n         support  confidence      lift  leverage  conviction  \n885928  0.083157    0.441948  1.860901  0.038471    1.366375  \n885929  0.083157    0.350148  1.860901  0.038471    1.249269  \n0       0.080338    0.461538  1.943392  0.038999    1.416088  \n1       0.080338    0.338279  1.943392  0.038999    1.248160  \n130498  0.070472    0.404858  1.704730  0.029133    1.281222  \n130499  0.070472    0.296736  1.704730  0.029133    1.174429  \n2       0.068358    0.392713  2.087113  0.035606    1.336829  \n3       0.068358    0.363296  2.087113  0.035606    1.297202  \n340881  0.055673    0.295880  2.691371  0.034987    1.264079  \n340880  0.055673    0.506410  2.691371  0.034987    1.644765  ",
      "text/html": "<div>\n<style scoped>\n    .dataframe tbody tr th:only-of-type {\n        vertical-align: middle;\n    }\n\n    .dataframe tbody tr th {\n        vertical-align: top;\n    }\n\n    .dataframe thead th {\n        text-align: right;\n    }\n</style>\n<table border=\"1\" class=\"dataframe\">\n  <thead>\n    <tr style=\"text-align: right;\">\n      <th></th>\n      <th>antecedents</th>\n      <th>consequents</th>\n      <th>antecedent support</th>\n      <th>consequent support</th>\n      <th>support</th>\n      <th>confidence</th>\n      <th>lift</th>\n      <th>leverage</th>\n      <th>conviction</th>\n    </tr>\n  </thead>\n  <tbody>\n    <tr>\n      <th>885928</th>\n      <td>(coldplay)</td>\n      <td>(radiohead)</td>\n      <td>0.188161</td>\n      <td>0.237491</td>\n      <td>0.083157</td>\n      <td>0.441948</td>\n      <td>1.860901</td>\n      <td>0.038471</td>\n      <td>1.366375</td>\n    </tr>\n    <tr>\n      <th>885929</th>\n      <td>(radiohead)</td>\n      <td>(coldplay)</td>\n      <td>0.237491</td>\n      <td>0.188161</td>\n      <td>0.083157</td>\n      <td>0.350148</td>\n      <td>1.860901</td>\n      <td>0.038471</td>\n      <td>1.249269</td>\n    </tr>\n    <tr>\n      <th>0</th>\n      <td>(muse)</td>\n      <td>(radiohead)</td>\n      <td>0.174066</td>\n      <td>0.237491</td>\n      <td>0.080338</td>\n      <td>0.461538</td>\n      <td>1.943392</td>\n      <td>0.038999</td>\n      <td>1.416088</td>\n    </tr>\n    <tr>\n      <th>1</th>\n      <td>(radiohead)</td>\n      <td>(muse)</td>\n      <td>0.237491</td>\n      <td>0.174066</td>\n      <td>0.080338</td>\n      <td>0.338279</td>\n      <td>1.943392</td>\n      <td>0.038999</td>\n      <td>1.248160</td>\n    </tr>\n    <tr>\n      <th>130498</th>\n      <td>(the beatles)</td>\n      <td>(radiohead)</td>\n      <td>0.174066</td>\n      <td>0.237491</td>\n      <td>0.070472</td>\n      <td>0.404858</td>\n      <td>1.704730</td>\n      <td>0.029133</td>\n      <td>1.281222</td>\n    </tr>\n    <tr>\n      <th>130499</th>\n      <td>(radiohead)</td>\n      <td>(the beatles)</td>\n      <td>0.237491</td>\n      <td>0.174066</td>\n      <td>0.070472</td>\n      <td>0.296736</td>\n      <td>1.704730</td>\n      <td>0.029133</td>\n      <td>1.174429</td>\n    </tr>\n    <tr>\n      <th>2</th>\n      <td>(muse)</td>\n      <td>(coldplay)</td>\n      <td>0.174066</td>\n      <td>0.188161</td>\n      <td>0.068358</td>\n      <td>0.392713</td>\n      <td>2.087113</td>\n      <td>0.035606</td>\n      <td>1.336829</td>\n    </tr>\n    <tr>\n      <th>3</th>\n      <td>(coldplay)</td>\n      <td>(muse)</td>\n      <td>0.188161</td>\n      <td>0.174066</td>\n      <td>0.068358</td>\n      <td>0.363296</td>\n      <td>2.087113</td>\n      <td>0.035606</td>\n      <td>1.297202</td>\n    </tr>\n    <tr>\n      <th>340881</th>\n      <td>(coldplay)</td>\n      <td>(the killers)</td>\n      <td>0.188161</td>\n      <td>0.109937</td>\n      <td>0.055673</td>\n      <td>0.295880</td>\n      <td>2.691371</td>\n      <td>0.034987</td>\n      <td>1.264079</td>\n    </tr>\n    <tr>\n      <th>340880</th>\n      <td>(the killers)</td>\n      <td>(coldplay)</td>\n      <td>0.109937</td>\n      <td>0.188161</td>\n      <td>0.055673</td>\n      <td>0.506410</td>\n      <td>2.691371</td>\n      <td>0.034987</td>\n      <td>1.644765</td>\n    </tr>\n  </tbody>\n</table>\n</div>"
     },
     "execution_count": 44,
     "metadata": {},
     "output_type": "execute_result"
    }
   ],
   "source": [
    "fpgrowth_artist_rules = association_rules(fpgrowth_artist, metric=\"confidence\", min_threshold=0.1)\n",
    "fpgrowth_artist_rules.sort_values('support', ascending=False).head(10)"
   ],
   "metadata": {
    "collapsed": false,
    "pycharm": {
     "name": "#%%\n"
    }
   }
  },
  {
   "cell_type": "code",
   "execution_count": 43,
   "outputs": [
    {
     "data": {
      "text/plain": "                                   antecedents              consequents  \\\n112                                (radiohead)              (metallica)   \n138                   (the beatles, radiohead)              (metallica)   \n156103                        (radiohead, air)            (the killers)   \n156900                (radiohead, david bowie)              (metallica)   \n158004                      (radiohead, björk)  (red hot chili peppers)   \n199927            (nine inch nails, radiohead)               (coldplay)   \n328003          (the white stripes, radiohead)              (metallica)   \n332476                     (beirut, radiohead)             (pink floyd)   \n341848                   (radiohead, the cure)              (metallica)   \n593692                       (beck, radiohead)            (the killers)   \n594359                       (beck, radiohead)              (metallica)   \n879437                      (oasis, radiohead)              (metallica)   \n1260068                      (radiohead, blur)              (metallica)   \n1269659            (arctic monkeys, radiohead)              (metallica)   \n1436649  (rage against the machine, radiohead)               (coldplay)   \n\n         antecedent support  consequent support   support  confidence  \\\n112                0.237491            0.123326  0.024665    0.103858   \n138                0.070472            0.123326  0.007752    0.110000   \n156103             0.048626            0.109937  0.004933    0.101449   \n156900             0.035236            0.123326  0.003524    0.100000   \n158004             0.040874            0.103594  0.004228    0.103448   \n199927             0.030303            0.188161  0.005638    0.186047   \n328003             0.033122            0.123326  0.003524    0.106383   \n332476             0.028189            0.130374  0.003524    0.125000   \n341848             0.046512            0.123326  0.004933    0.106061   \n593692             0.032417            0.109937  0.003524    0.108696   \n594359             0.032417            0.123326  0.003524    0.108696   \n879437             0.040169            0.123326  0.004933    0.122807   \n1260068            0.030303            0.123326  0.003524    0.116279   \n1269659            0.044397            0.123326  0.004933    0.111111   \n1436649            0.023256            0.188161  0.004228    0.181818   \n\n             lift  leverage  conviction  \n112      0.842136 -0.004624    0.978275  \n138      0.891943 -0.000939    0.985027  \n156103   0.922798 -0.000413    0.990554  \n156900   0.810857 -0.000822    0.974082  \n158004   0.998593 -0.000006    0.999837  \n199927   0.988764 -0.000064    0.997403  \n328003   0.862614 -0.000561    0.981040  \n332476   0.958784 -0.000151    0.993859  \n341848   0.860000 -0.000803    0.980686  \n593692   0.988712 -0.000040    0.998608  \n594359   0.881366 -0.000474    0.983585  \n879437   0.995789 -0.000021    0.999408  \n1260068  0.942857 -0.000214    0.992026  \n1269659  0.900952 -0.000542    0.986258  \n1436649  0.966292 -0.000147    0.992248  ",
      "text/html": "<div>\n<style scoped>\n    .dataframe tbody tr th:only-of-type {\n        vertical-align: middle;\n    }\n\n    .dataframe tbody tr th {\n        vertical-align: top;\n    }\n\n    .dataframe thead th {\n        text-align: right;\n    }\n</style>\n<table border=\"1\" class=\"dataframe\">\n  <thead>\n    <tr style=\"text-align: right;\">\n      <th></th>\n      <th>antecedents</th>\n      <th>consequents</th>\n      <th>antecedent support</th>\n      <th>consequent support</th>\n      <th>support</th>\n      <th>confidence</th>\n      <th>lift</th>\n      <th>leverage</th>\n      <th>conviction</th>\n    </tr>\n  </thead>\n  <tbody>\n    <tr>\n      <th>112</th>\n      <td>(radiohead)</td>\n      <td>(metallica)</td>\n      <td>0.237491</td>\n      <td>0.123326</td>\n      <td>0.024665</td>\n      <td>0.103858</td>\n      <td>0.842136</td>\n      <td>-0.004624</td>\n      <td>0.978275</td>\n    </tr>\n    <tr>\n      <th>138</th>\n      <td>(the beatles, radiohead)</td>\n      <td>(metallica)</td>\n      <td>0.070472</td>\n      <td>0.123326</td>\n      <td>0.007752</td>\n      <td>0.110000</td>\n      <td>0.891943</td>\n      <td>-0.000939</td>\n      <td>0.985027</td>\n    </tr>\n    <tr>\n      <th>156103</th>\n      <td>(radiohead, air)</td>\n      <td>(the killers)</td>\n      <td>0.048626</td>\n      <td>0.109937</td>\n      <td>0.004933</td>\n      <td>0.101449</td>\n      <td>0.922798</td>\n      <td>-0.000413</td>\n      <td>0.990554</td>\n    </tr>\n    <tr>\n      <th>156900</th>\n      <td>(radiohead, david bowie)</td>\n      <td>(metallica)</td>\n      <td>0.035236</td>\n      <td>0.123326</td>\n      <td>0.003524</td>\n      <td>0.100000</td>\n      <td>0.810857</td>\n      <td>-0.000822</td>\n      <td>0.974082</td>\n    </tr>\n    <tr>\n      <th>158004</th>\n      <td>(radiohead, björk)</td>\n      <td>(red hot chili peppers)</td>\n      <td>0.040874</td>\n      <td>0.103594</td>\n      <td>0.004228</td>\n      <td>0.103448</td>\n      <td>0.998593</td>\n      <td>-0.000006</td>\n      <td>0.999837</td>\n    </tr>\n    <tr>\n      <th>199927</th>\n      <td>(nine inch nails, radiohead)</td>\n      <td>(coldplay)</td>\n      <td>0.030303</td>\n      <td>0.188161</td>\n      <td>0.005638</td>\n      <td>0.186047</td>\n      <td>0.988764</td>\n      <td>-0.000064</td>\n      <td>0.997403</td>\n    </tr>\n    <tr>\n      <th>328003</th>\n      <td>(the white stripes, radiohead)</td>\n      <td>(metallica)</td>\n      <td>0.033122</td>\n      <td>0.123326</td>\n      <td>0.003524</td>\n      <td>0.106383</td>\n      <td>0.862614</td>\n      <td>-0.000561</td>\n      <td>0.981040</td>\n    </tr>\n    <tr>\n      <th>332476</th>\n      <td>(beirut, radiohead)</td>\n      <td>(pink floyd)</td>\n      <td>0.028189</td>\n      <td>0.130374</td>\n      <td>0.003524</td>\n      <td>0.125000</td>\n      <td>0.958784</td>\n      <td>-0.000151</td>\n      <td>0.993859</td>\n    </tr>\n    <tr>\n      <th>341848</th>\n      <td>(radiohead, the cure)</td>\n      <td>(metallica)</td>\n      <td>0.046512</td>\n      <td>0.123326</td>\n      <td>0.004933</td>\n      <td>0.106061</td>\n      <td>0.860000</td>\n      <td>-0.000803</td>\n      <td>0.980686</td>\n    </tr>\n    <tr>\n      <th>593692</th>\n      <td>(beck, radiohead)</td>\n      <td>(the killers)</td>\n      <td>0.032417</td>\n      <td>0.109937</td>\n      <td>0.003524</td>\n      <td>0.108696</td>\n      <td>0.988712</td>\n      <td>-0.000040</td>\n      <td>0.998608</td>\n    </tr>\n    <tr>\n      <th>594359</th>\n      <td>(beck, radiohead)</td>\n      <td>(metallica)</td>\n      <td>0.032417</td>\n      <td>0.123326</td>\n      <td>0.003524</td>\n      <td>0.108696</td>\n      <td>0.881366</td>\n      <td>-0.000474</td>\n      <td>0.983585</td>\n    </tr>\n    <tr>\n      <th>879437</th>\n      <td>(oasis, radiohead)</td>\n      <td>(metallica)</td>\n      <td>0.040169</td>\n      <td>0.123326</td>\n      <td>0.004933</td>\n      <td>0.122807</td>\n      <td>0.995789</td>\n      <td>-0.000021</td>\n      <td>0.999408</td>\n    </tr>\n    <tr>\n      <th>1260068</th>\n      <td>(radiohead, blur)</td>\n      <td>(metallica)</td>\n      <td>0.030303</td>\n      <td>0.123326</td>\n      <td>0.003524</td>\n      <td>0.116279</td>\n      <td>0.942857</td>\n      <td>-0.000214</td>\n      <td>0.992026</td>\n    </tr>\n    <tr>\n      <th>1269659</th>\n      <td>(arctic monkeys, radiohead)</td>\n      <td>(metallica)</td>\n      <td>0.044397</td>\n      <td>0.123326</td>\n      <td>0.004933</td>\n      <td>0.111111</td>\n      <td>0.900952</td>\n      <td>-0.000542</td>\n      <td>0.986258</td>\n    </tr>\n    <tr>\n      <th>1436649</th>\n      <td>(rage against the machine, radiohead)</td>\n      <td>(coldplay)</td>\n      <td>0.023256</td>\n      <td>0.188161</td>\n      <td>0.004228</td>\n      <td>0.181818</td>\n      <td>0.966292</td>\n      <td>-0.000147</td>\n      <td>0.992248</td>\n    </tr>\n  </tbody>\n</table>\n</div>"
     },
     "execution_count": 43,
     "metadata": {},
     "output_type": "execute_result"
    }
   ],
   "source": [
    "rule2 = fpgrowth_artist_rules[fpgrowth_artist_rules['lift'] < 1]\n",
    "rule2 = rule2[(rule2['antecedents'].str.contains('radiohead', regex=False))]\n",
    "rule2"
   ],
   "metadata": {
    "collapsed": false,
    "pycharm": {
     "name": "#%%\n"
    }
   }
  },
  {
   "cell_type": "markdown",
   "source": [
    "Значение метрики lift < 1 говорит о том, что человек вряд ли будет слушать consequents, если слушает antecedents.\n",
    "Также можно обратить внимание на метрику сonviction. В общем виде Conviction — это «частотность ошибок» нашего правила. Т.е. например, как часто слушали radiohead без metallica и наоборот."
   ],
   "metadata": {
    "collapsed": false
   }
  },
  {
   "cell_type": "markdown",
   "source": [
    "# Rule 3"
   ],
   "metadata": {
    "collapsed": false
   }
  },
  {
   "cell_type": "code",
   "execution_count": 75,
   "outputs": [],
   "source": [
    "fpgrowth_country = fpgrowth(piv_artist_country, min_support=0.01, use_colnames=True)"
   ],
   "metadata": {
    "collapsed": false,
    "pycharm": {
     "name": "#%%\n"
    }
   }
  },
  {
   "cell_type": "markdown",
   "source": [],
   "metadata": {
    "collapsed": false
   }
  },
  {
   "cell_type": "code",
   "execution_count": 78,
   "outputs": [
    {
     "data": {
      "text/plain": "   antecedents  consequents  antecedent support  consequent support   support  \\\n0       (muse)      (Spain)            0.174066            0.356589  0.067653   \n1      (Spain)       (muse)            0.356589            0.174066  0.067653   \n2       (muse)     (France)            0.174066            0.230444  0.038760   \n3     (France)       (muse)            0.230444            0.174066  0.038760   \n4       (muse)  (radiohead)            0.174066            0.237491  0.080338   \n5  (radiohead)       (muse)            0.237491            0.174066  0.080338   \n6       (muse)   (coldplay)            0.174066            0.188161  0.068358   \n7   (coldplay)       (muse)            0.188161            0.174066  0.068358   \n8      (Italy)       (muse)            0.214235            0.174066  0.033827   \n9       (muse)      (Italy)            0.174066            0.214235  0.033827   \n\n   confidence      lift  leverage  conviction  \n0    0.388664  1.089949  0.005583    1.052467  \n1    0.189723  1.089949  0.005583    1.019323  \n2    0.222672  0.966274 -0.001353    0.990002  \n3    0.168196  0.966274 -0.001353    0.992942  \n4    0.461538  1.943392  0.038999    1.416088  \n5    0.338279  1.943392  0.038999    1.248160  \n6    0.392713  2.087113  0.035606    1.336829  \n7    0.363296  2.087113  0.035606    1.297202  \n8    0.157895  0.907096 -0.003465    0.980796  \n9    0.194332  0.907096 -0.003465    0.975296  ",
      "text/html": "<div>\n<style scoped>\n    .dataframe tbody tr th:only-of-type {\n        vertical-align: middle;\n    }\n\n    .dataframe tbody tr th {\n        vertical-align: top;\n    }\n\n    .dataframe thead th {\n        text-align: right;\n    }\n</style>\n<table border=\"1\" class=\"dataframe\">\n  <thead>\n    <tr style=\"text-align: right;\">\n      <th></th>\n      <th>antecedents</th>\n      <th>consequents</th>\n      <th>antecedent support</th>\n      <th>consequent support</th>\n      <th>support</th>\n      <th>confidence</th>\n      <th>lift</th>\n      <th>leverage</th>\n      <th>conviction</th>\n    </tr>\n  </thead>\n  <tbody>\n    <tr>\n      <th>0</th>\n      <td>(muse)</td>\n      <td>(Spain)</td>\n      <td>0.174066</td>\n      <td>0.356589</td>\n      <td>0.067653</td>\n      <td>0.388664</td>\n      <td>1.089949</td>\n      <td>0.005583</td>\n      <td>1.052467</td>\n    </tr>\n    <tr>\n      <th>1</th>\n      <td>(Spain)</td>\n      <td>(muse)</td>\n      <td>0.356589</td>\n      <td>0.174066</td>\n      <td>0.067653</td>\n      <td>0.189723</td>\n      <td>1.089949</td>\n      <td>0.005583</td>\n      <td>1.019323</td>\n    </tr>\n    <tr>\n      <th>2</th>\n      <td>(muse)</td>\n      <td>(France)</td>\n      <td>0.174066</td>\n      <td>0.230444</td>\n      <td>0.038760</td>\n      <td>0.222672</td>\n      <td>0.966274</td>\n      <td>-0.001353</td>\n      <td>0.990002</td>\n    </tr>\n    <tr>\n      <th>3</th>\n      <td>(France)</td>\n      <td>(muse)</td>\n      <td>0.230444</td>\n      <td>0.174066</td>\n      <td>0.038760</td>\n      <td>0.168196</td>\n      <td>0.966274</td>\n      <td>-0.001353</td>\n      <td>0.992942</td>\n    </tr>\n    <tr>\n      <th>4</th>\n      <td>(muse)</td>\n      <td>(radiohead)</td>\n      <td>0.174066</td>\n      <td>0.237491</td>\n      <td>0.080338</td>\n      <td>0.461538</td>\n      <td>1.943392</td>\n      <td>0.038999</td>\n      <td>1.416088</td>\n    </tr>\n    <tr>\n      <th>5</th>\n      <td>(radiohead)</td>\n      <td>(muse)</td>\n      <td>0.237491</td>\n      <td>0.174066</td>\n      <td>0.080338</td>\n      <td>0.338279</td>\n      <td>1.943392</td>\n      <td>0.038999</td>\n      <td>1.248160</td>\n    </tr>\n    <tr>\n      <th>6</th>\n      <td>(muse)</td>\n      <td>(coldplay)</td>\n      <td>0.174066</td>\n      <td>0.188161</td>\n      <td>0.068358</td>\n      <td>0.392713</td>\n      <td>2.087113</td>\n      <td>0.035606</td>\n      <td>1.336829</td>\n    </tr>\n    <tr>\n      <th>7</th>\n      <td>(coldplay)</td>\n      <td>(muse)</td>\n      <td>0.188161</td>\n      <td>0.174066</td>\n      <td>0.068358</td>\n      <td>0.363296</td>\n      <td>2.087113</td>\n      <td>0.035606</td>\n      <td>1.297202</td>\n    </tr>\n    <tr>\n      <th>8</th>\n      <td>(Italy)</td>\n      <td>(muse)</td>\n      <td>0.214235</td>\n      <td>0.174066</td>\n      <td>0.033827</td>\n      <td>0.157895</td>\n      <td>0.907096</td>\n      <td>-0.003465</td>\n      <td>0.980796</td>\n    </tr>\n    <tr>\n      <th>9</th>\n      <td>(muse)</td>\n      <td>(Italy)</td>\n      <td>0.174066</td>\n      <td>0.214235</td>\n      <td>0.033827</td>\n      <td>0.194332</td>\n      <td>0.907096</td>\n      <td>-0.003465</td>\n      <td>0.975296</td>\n    </tr>\n  </tbody>\n</table>\n</div>"
     },
     "execution_count": 78,
     "metadata": {},
     "output_type": "execute_result"
    }
   ],
   "source": [
    "rules_fpgrowth_country = association_rules(fpgrowth_country, metric=\"lift\", min_threshold=0.4)\n",
    "rules_fpgrowth_country.head(10)"
   ],
   "metadata": {
    "collapsed": false,
    "pycharm": {
     "name": "#%%\n"
    }
   }
  },
  {
   "cell_type": "code",
   "execution_count": null,
   "outputs": [],
   "source": [],
   "metadata": {
    "collapsed": false,
    "pycharm": {
     "name": "#%%\n"
    }
   }
  },
  {
   "cell_type": "code",
   "execution_count": 84,
   "outputs": [
    {
     "name": "stderr",
     "output_type": "stream",
     "text": [
      "C:\\Users\\E784~1\\AppData\\Local\\Temp/ipykernel_16248/3410073240.py:3: UserWarning: Boolean Series key will be reindexed to match DataFrame index.\n",
      "  rule4 = rule4[((rules_fpgrowth_country['antecedents'] == {'France'}))\n"
     ]
    },
    {
     "data": {
      "text/plain": "      antecedents              consequents  antecedent support  \\\n3        (France)                   (muse)            0.230444   \n289      (France)           (depeche mode)            0.230444   \n374      (France)                     (u2)            0.230444   \n586      (France)              (sigur rós)            0.230444   \n728      (France)            (iron maiden)            0.230444   \n1169     (France)            (the beatles)            0.230444   \n1418     (France)              (bob dylan)            0.230444   \n1482     (France)                  (ac/dc)            0.230444   \n1545     (France)     (the rolling stones)            0.230444   \n2580     (France)            (the strokes)            0.230444   \n3432     (France)             (bloc party)            0.230444   \n4921     (France)        (nine inch nails)            0.230444   \n5874     (France)               (the cure)            0.230444   \n5984     (France)          (amy winehouse)            0.230444   \n8239     (France)                  (oasis)            0.230444   \n9028     (France)               (coldplay)            0.230444   \n9168     (France)                (placebo)            0.230444   \n10131    (France)       (system of a down)            0.230444   \n10193    (France)         (marilyn manson)            0.230444   \n10398    (France)        (franz ferdinand)            0.230444   \n11792    (France)                   (blur)            0.230444   \n11962    (France)         (arctic monkeys)            0.230444   \n12368    (France)               (interpol)            0.230444   \n14440    (France)             (bob marley)            0.230444   \n14460    (France)  (red hot chili peppers)            0.230444   \n14632    (France)            (linkin park)            0.230444   \n15431    (France)        (michael jackson)            0.230444   \n15458    (France)             (jamiroquai)            0.230444   \n15523    (France)              (the doors)            0.230444   \n15630    (France)                (madonna)            0.230444   \n16092    (France)              (the clash)            0.230444   \n16232    (France)                 (mogwai)            0.230444   \n\n       consequent support   support  confidence      lift  leverage  \\\n3                0.174066  0.038760    0.168196  0.966274 -0.001353   \n289              0.096547  0.019732    0.085627  0.886895 -0.002516   \n374              0.088090  0.017618    0.076453  0.867890 -0.002682   \n586              0.086681  0.016913    0.073394  0.846722 -0.003062   \n728              0.073291  0.013390    0.058104  0.792784 -0.003500   \n1169             0.174066  0.037350    0.162080  0.931137 -0.002762   \n1418             0.074700  0.010571    0.045872  0.614073 -0.006643   \n1482             0.073996  0.014094    0.061162  0.826562 -0.002957   \n1545             0.072586  0.014094    0.061162  0.842612 -0.002633   \n2580             0.087385  0.015504    0.067278  0.769902 -0.004634   \n3432             0.083157  0.012685    0.055046  0.661950 -0.006478   \n4921             0.067653  0.014799    0.064220  0.949255 -0.000791   \n5874             0.103594  0.019732    0.085627  0.826562 -0.004140   \n5984             0.090204  0.020437    0.088685  0.983157 -0.000350   \n8239             0.083157  0.018323    0.079511  0.956150 -0.000840   \n9028             0.188161  0.037350    0.162080  0.861389 -0.006010   \n9168             0.098661  0.019732    0.085627  0.867890 -0.003004   \n10131            0.082452  0.018323    0.079511  0.964322 -0.000678   \n10193            0.047216  0.010571    0.045872  0.971519 -0.000310   \n10398            0.095842  0.012685    0.055046  0.574339 -0.009401   \n11792            0.047921  0.010571    0.045872  0.957232 -0.000472   \n11962            0.101480  0.019732    0.085627  0.843782 -0.003653   \n12368            0.079634  0.012685    0.055046  0.691240 -0.005666   \n14440            0.051445  0.011276    0.048930  0.951112 -0.000580   \n14460            0.103594  0.021846    0.094801  0.915122 -0.002026   \n14632            0.083862  0.016209    0.070336  0.838717 -0.003117   \n15431            0.058492  0.011980    0.051988  0.888803 -0.001499   \n15458            0.047921  0.010571    0.045872  0.957232 -0.000472   \n15523            0.071177  0.013390    0.058104  0.816332 -0.003013   \n15630            0.063425  0.012685    0.055046  0.867890 -0.001931   \n16092            0.051445  0.010571    0.045872  0.891668 -0.001284   \n16232            0.051445  0.010571    0.045872  0.891668 -0.001284   \n\n       conviction  consequents_len  \n3        0.992942                1  \n289      0.988057                1  \n374      0.987399                1  \n586      0.985661                1  \n728      0.983876                1  \n1169     0.985695                1  \n1418     0.969785                1  \n1482     0.986330                1  \n1545     0.987832                1  \n2580     0.978442                1  \n3432     0.970251                1  \n4921     0.996331                1  \n5874     0.980350                1  \n5984     0.998333                1  \n8239     0.996039                1  \n9028     0.968874                1  \n9168     0.985745                1  \n10131    0.996804                1  \n10193    0.998591                1  \n10398    0.956827                1  \n11792    0.997852                1  \n11962    0.982662                1  \n12368    0.973980                1  \n14440    0.997356                1  \n14460    0.990286                1  \n14632    0.985451                1  \n15431    0.993139                1  \n15458    0.997852                1  \n15523    0.986121                1  \n15630    0.991133                1  \n16092    0.994159                1  \n16232    0.994159                1  ",
      "text/html": "<div>\n<style scoped>\n    .dataframe tbody tr th:only-of-type {\n        vertical-align: middle;\n    }\n\n    .dataframe tbody tr th {\n        vertical-align: top;\n    }\n\n    .dataframe thead th {\n        text-align: right;\n    }\n</style>\n<table border=\"1\" class=\"dataframe\">\n  <thead>\n    <tr style=\"text-align: right;\">\n      <th></th>\n      <th>antecedents</th>\n      <th>consequents</th>\n      <th>antecedent support</th>\n      <th>consequent support</th>\n      <th>support</th>\n      <th>confidence</th>\n      <th>lift</th>\n      <th>leverage</th>\n      <th>conviction</th>\n      <th>consequents_len</th>\n    </tr>\n  </thead>\n  <tbody>\n    <tr>\n      <th>3</th>\n      <td>(France)</td>\n      <td>(muse)</td>\n      <td>0.230444</td>\n      <td>0.174066</td>\n      <td>0.038760</td>\n      <td>0.168196</td>\n      <td>0.966274</td>\n      <td>-0.001353</td>\n      <td>0.992942</td>\n      <td>1</td>\n    </tr>\n    <tr>\n      <th>289</th>\n      <td>(France)</td>\n      <td>(depeche mode)</td>\n      <td>0.230444</td>\n      <td>0.096547</td>\n      <td>0.019732</td>\n      <td>0.085627</td>\n      <td>0.886895</td>\n      <td>-0.002516</td>\n      <td>0.988057</td>\n      <td>1</td>\n    </tr>\n    <tr>\n      <th>374</th>\n      <td>(France)</td>\n      <td>(u2)</td>\n      <td>0.230444</td>\n      <td>0.088090</td>\n      <td>0.017618</td>\n      <td>0.076453</td>\n      <td>0.867890</td>\n      <td>-0.002682</td>\n      <td>0.987399</td>\n      <td>1</td>\n    </tr>\n    <tr>\n      <th>586</th>\n      <td>(France)</td>\n      <td>(sigur rós)</td>\n      <td>0.230444</td>\n      <td>0.086681</td>\n      <td>0.016913</td>\n      <td>0.073394</td>\n      <td>0.846722</td>\n      <td>-0.003062</td>\n      <td>0.985661</td>\n      <td>1</td>\n    </tr>\n    <tr>\n      <th>728</th>\n      <td>(France)</td>\n      <td>(iron maiden)</td>\n      <td>0.230444</td>\n      <td>0.073291</td>\n      <td>0.013390</td>\n      <td>0.058104</td>\n      <td>0.792784</td>\n      <td>-0.003500</td>\n      <td>0.983876</td>\n      <td>1</td>\n    </tr>\n    <tr>\n      <th>1169</th>\n      <td>(France)</td>\n      <td>(the beatles)</td>\n      <td>0.230444</td>\n      <td>0.174066</td>\n      <td>0.037350</td>\n      <td>0.162080</td>\n      <td>0.931137</td>\n      <td>-0.002762</td>\n      <td>0.985695</td>\n      <td>1</td>\n    </tr>\n    <tr>\n      <th>1418</th>\n      <td>(France)</td>\n      <td>(bob dylan)</td>\n      <td>0.230444</td>\n      <td>0.074700</td>\n      <td>0.010571</td>\n      <td>0.045872</td>\n      <td>0.614073</td>\n      <td>-0.006643</td>\n      <td>0.969785</td>\n      <td>1</td>\n    </tr>\n    <tr>\n      <th>1482</th>\n      <td>(France)</td>\n      <td>(ac/dc)</td>\n      <td>0.230444</td>\n      <td>0.073996</td>\n      <td>0.014094</td>\n      <td>0.061162</td>\n      <td>0.826562</td>\n      <td>-0.002957</td>\n      <td>0.986330</td>\n      <td>1</td>\n    </tr>\n    <tr>\n      <th>1545</th>\n      <td>(France)</td>\n      <td>(the rolling stones)</td>\n      <td>0.230444</td>\n      <td>0.072586</td>\n      <td>0.014094</td>\n      <td>0.061162</td>\n      <td>0.842612</td>\n      <td>-0.002633</td>\n      <td>0.987832</td>\n      <td>1</td>\n    </tr>\n    <tr>\n      <th>2580</th>\n      <td>(France)</td>\n      <td>(the strokes)</td>\n      <td>0.230444</td>\n      <td>0.087385</td>\n      <td>0.015504</td>\n      <td>0.067278</td>\n      <td>0.769902</td>\n      <td>-0.004634</td>\n      <td>0.978442</td>\n      <td>1</td>\n    </tr>\n    <tr>\n      <th>3432</th>\n      <td>(France)</td>\n      <td>(bloc party)</td>\n      <td>0.230444</td>\n      <td>0.083157</td>\n      <td>0.012685</td>\n      <td>0.055046</td>\n      <td>0.661950</td>\n      <td>-0.006478</td>\n      <td>0.970251</td>\n      <td>1</td>\n    </tr>\n    <tr>\n      <th>4921</th>\n      <td>(France)</td>\n      <td>(nine inch nails)</td>\n      <td>0.230444</td>\n      <td>0.067653</td>\n      <td>0.014799</td>\n      <td>0.064220</td>\n      <td>0.949255</td>\n      <td>-0.000791</td>\n      <td>0.996331</td>\n      <td>1</td>\n    </tr>\n    <tr>\n      <th>5874</th>\n      <td>(France)</td>\n      <td>(the cure)</td>\n      <td>0.230444</td>\n      <td>0.103594</td>\n      <td>0.019732</td>\n      <td>0.085627</td>\n      <td>0.826562</td>\n      <td>-0.004140</td>\n      <td>0.980350</td>\n      <td>1</td>\n    </tr>\n    <tr>\n      <th>5984</th>\n      <td>(France)</td>\n      <td>(amy winehouse)</td>\n      <td>0.230444</td>\n      <td>0.090204</td>\n      <td>0.020437</td>\n      <td>0.088685</td>\n      <td>0.983157</td>\n      <td>-0.000350</td>\n      <td>0.998333</td>\n      <td>1</td>\n    </tr>\n    <tr>\n      <th>8239</th>\n      <td>(France)</td>\n      <td>(oasis)</td>\n      <td>0.230444</td>\n      <td>0.083157</td>\n      <td>0.018323</td>\n      <td>0.079511</td>\n      <td>0.956150</td>\n      <td>-0.000840</td>\n      <td>0.996039</td>\n      <td>1</td>\n    </tr>\n    <tr>\n      <th>9028</th>\n      <td>(France)</td>\n      <td>(coldplay)</td>\n      <td>0.230444</td>\n      <td>0.188161</td>\n      <td>0.037350</td>\n      <td>0.162080</td>\n      <td>0.861389</td>\n      <td>-0.006010</td>\n      <td>0.968874</td>\n      <td>1</td>\n    </tr>\n    <tr>\n      <th>9168</th>\n      <td>(France)</td>\n      <td>(placebo)</td>\n      <td>0.230444</td>\n      <td>0.098661</td>\n      <td>0.019732</td>\n      <td>0.085627</td>\n      <td>0.867890</td>\n      <td>-0.003004</td>\n      <td>0.985745</td>\n      <td>1</td>\n    </tr>\n    <tr>\n      <th>10131</th>\n      <td>(France)</td>\n      <td>(system of a down)</td>\n      <td>0.230444</td>\n      <td>0.082452</td>\n      <td>0.018323</td>\n      <td>0.079511</td>\n      <td>0.964322</td>\n      <td>-0.000678</td>\n      <td>0.996804</td>\n      <td>1</td>\n    </tr>\n    <tr>\n      <th>10193</th>\n      <td>(France)</td>\n      <td>(marilyn manson)</td>\n      <td>0.230444</td>\n      <td>0.047216</td>\n      <td>0.010571</td>\n      <td>0.045872</td>\n      <td>0.971519</td>\n      <td>-0.000310</td>\n      <td>0.998591</td>\n      <td>1</td>\n    </tr>\n    <tr>\n      <th>10398</th>\n      <td>(France)</td>\n      <td>(franz ferdinand)</td>\n      <td>0.230444</td>\n      <td>0.095842</td>\n      <td>0.012685</td>\n      <td>0.055046</td>\n      <td>0.574339</td>\n      <td>-0.009401</td>\n      <td>0.956827</td>\n      <td>1</td>\n    </tr>\n    <tr>\n      <th>11792</th>\n      <td>(France)</td>\n      <td>(blur)</td>\n      <td>0.230444</td>\n      <td>0.047921</td>\n      <td>0.010571</td>\n      <td>0.045872</td>\n      <td>0.957232</td>\n      <td>-0.000472</td>\n      <td>0.997852</td>\n      <td>1</td>\n    </tr>\n    <tr>\n      <th>11962</th>\n      <td>(France)</td>\n      <td>(arctic monkeys)</td>\n      <td>0.230444</td>\n      <td>0.101480</td>\n      <td>0.019732</td>\n      <td>0.085627</td>\n      <td>0.843782</td>\n      <td>-0.003653</td>\n      <td>0.982662</td>\n      <td>1</td>\n    </tr>\n    <tr>\n      <th>12368</th>\n      <td>(France)</td>\n      <td>(interpol)</td>\n      <td>0.230444</td>\n      <td>0.079634</td>\n      <td>0.012685</td>\n      <td>0.055046</td>\n      <td>0.691240</td>\n      <td>-0.005666</td>\n      <td>0.973980</td>\n      <td>1</td>\n    </tr>\n    <tr>\n      <th>14440</th>\n      <td>(France)</td>\n      <td>(bob marley)</td>\n      <td>0.230444</td>\n      <td>0.051445</td>\n      <td>0.011276</td>\n      <td>0.048930</td>\n      <td>0.951112</td>\n      <td>-0.000580</td>\n      <td>0.997356</td>\n      <td>1</td>\n    </tr>\n    <tr>\n      <th>14460</th>\n      <td>(France)</td>\n      <td>(red hot chili peppers)</td>\n      <td>0.230444</td>\n      <td>0.103594</td>\n      <td>0.021846</td>\n      <td>0.094801</td>\n      <td>0.915122</td>\n      <td>-0.002026</td>\n      <td>0.990286</td>\n      <td>1</td>\n    </tr>\n    <tr>\n      <th>14632</th>\n      <td>(France)</td>\n      <td>(linkin park)</td>\n      <td>0.230444</td>\n      <td>0.083862</td>\n      <td>0.016209</td>\n      <td>0.070336</td>\n      <td>0.838717</td>\n      <td>-0.003117</td>\n      <td>0.985451</td>\n      <td>1</td>\n    </tr>\n    <tr>\n      <th>15431</th>\n      <td>(France)</td>\n      <td>(michael jackson)</td>\n      <td>0.230444</td>\n      <td>0.058492</td>\n      <td>0.011980</td>\n      <td>0.051988</td>\n      <td>0.888803</td>\n      <td>-0.001499</td>\n      <td>0.993139</td>\n      <td>1</td>\n    </tr>\n    <tr>\n      <th>15458</th>\n      <td>(France)</td>\n      <td>(jamiroquai)</td>\n      <td>0.230444</td>\n      <td>0.047921</td>\n      <td>0.010571</td>\n      <td>0.045872</td>\n      <td>0.957232</td>\n      <td>-0.000472</td>\n      <td>0.997852</td>\n      <td>1</td>\n    </tr>\n    <tr>\n      <th>15523</th>\n      <td>(France)</td>\n      <td>(the doors)</td>\n      <td>0.230444</td>\n      <td>0.071177</td>\n      <td>0.013390</td>\n      <td>0.058104</td>\n      <td>0.816332</td>\n      <td>-0.003013</td>\n      <td>0.986121</td>\n      <td>1</td>\n    </tr>\n    <tr>\n      <th>15630</th>\n      <td>(France)</td>\n      <td>(madonna)</td>\n      <td>0.230444</td>\n      <td>0.063425</td>\n      <td>0.012685</td>\n      <td>0.055046</td>\n      <td>0.867890</td>\n      <td>-0.001931</td>\n      <td>0.991133</td>\n      <td>1</td>\n    </tr>\n    <tr>\n      <th>16092</th>\n      <td>(France)</td>\n      <td>(the clash)</td>\n      <td>0.230444</td>\n      <td>0.051445</td>\n      <td>0.010571</td>\n      <td>0.045872</td>\n      <td>0.891668</td>\n      <td>-0.001284</td>\n      <td>0.994159</td>\n      <td>1</td>\n    </tr>\n    <tr>\n      <th>16232</th>\n      <td>(France)</td>\n      <td>(mogwai)</td>\n      <td>0.230444</td>\n      <td>0.051445</td>\n      <td>0.010571</td>\n      <td>0.045872</td>\n      <td>0.891668</td>\n      <td>-0.001284</td>\n      <td>0.994159</td>\n      <td>1</td>\n    </tr>\n  </tbody>\n</table>\n</div>"
     },
     "execution_count": 84,
     "metadata": {},
     "output_type": "execute_result"
    }
   ],
   "source": [
    "rules_fpgrowth_country[\"consequents_len\"] = rules_fpgrowth_country[\"consequents\"].apply(lambda x: len(x))\n",
    "rule4 = rules_fpgrowth_country[rules_fpgrowth_country['lift'] < 1]\n",
    "rule4 = rule4[((rules_fpgrowth_country['antecedents'] == {'France'}))\n",
    "& (rule4['consequents'].map(lambda x: (('France' not in x))))\n",
    "& (rule4['consequents_len'] == 1)]\n",
    "rule4"
   ],
   "metadata": {
    "collapsed": false,
    "pycharm": {
     "name": "#%%\n"
    }
   }
  },
  {
   "cell_type": "markdown",
   "source": [
    "Consequents содержит артистов, которые не очень популярны среди пользователей во Франции (lift < 1). Поэтому предлагать клиентам слушать композиции этих исполнителей не стоит."
   ],
   "metadata": {
    "collapsed": false
   }
  },
  {
   "cell_type": "markdown",
   "source": [
    "### FP-growth by lift for artists"
   ],
   "metadata": {
    "collapsed": false
   }
  },
  {
   "cell_type": "code",
   "execution_count": 61,
   "outputs": [
    {
     "data": {
      "text/plain": "count    13197.000000\nmean        12.055654\nstd          9.386494\nmin          3.368546\n25%          5.314607\n50%          9.122143\n75%         14.696203\nmax        105.111111\nName: lift, dtype: float64"
     },
     "execution_count": 61,
     "metadata": {},
     "output_type": "execute_result"
    }
   ],
   "source": [
    "fpgrowth_artist_rules['lift'].describe()"
   ],
   "metadata": {
    "collapsed": false,
    "pycharm": {
     "name": "#%%\n"
    }
   }
  },
  {
   "cell_type": "code",
   "execution_count": 62,
   "outputs": [
    {
     "name": "stdout",
     "output_type": "stream",
     "text": [
      "3290\n"
     ]
    },
    {
     "data": {
      "text/plain": "                                       antecedents  \\\n64             (snow patrol, radiohead, the kooks)   \n76   (snow patrol, coldplay, radiohead, the kooks)   \n115     (snow patrol, muse, radiohead, bloc party)   \n117  (snow patrol, coldplay, radiohead, the kooks)   \n134               (snow patrol, oasis, bloc party)   \n138               (snow patrol, oasis, bloc party)   \n144        (snow patrol, the killers, muse, oasis)   \n145         (snow patrol, muse, oasis, bloc party)   \n147     (snow patrol, coldplay, oasis, bloc party)   \n148               (snow patrol, oasis, bloc party)   \n\n                       consequents  antecedent support  consequent support  \\\n64             (the killers, muse)            0.007752            0.049331   \n76             (the killers, muse)            0.006342            0.049331   \n115          (coldplay, the kooks)            0.007047            0.028189   \n117             (muse, bloc party)            0.006342            0.037350   \n134        (coldplay, the killers)            0.007752            0.055673   \n138            (the killers, muse)            0.007752            0.049331   \n144         (coldplay, bloc party)            0.007752            0.038760   \n145        (coldplay, the killers)            0.007047            0.055673   \n147            (the killers, muse)            0.007752            0.049331   \n148  (coldplay, the killers, muse)            0.007752            0.029598   \n\n      support  confidence       lift  leverage  conviction  \n64   0.007047    0.909091  18.428571  0.006665   10.457364  \n76   0.005638    0.888889  18.019048  0.005325    8.556025  \n115  0.005638    0.800000  28.380000  0.005439    4.859056  \n117  0.005638    0.888889  23.798742  0.005401    8.663848  \n134  0.007047    0.909091  16.329114  0.006616   10.387597  \n138  0.006342    0.818182  16.585714  0.005960    5.228682  \n144  0.006342    0.818182  21.109091  0.006042    5.286822  \n145  0.006342    0.900000  16.165823  0.005950    9.443270  \n147  0.006342    0.818182  16.585714  0.005960    5.228682  \n148  0.006342    0.818182  27.642857  0.006113    5.337209  ",
      "text/html": "<div>\n<style scoped>\n    .dataframe tbody tr th:only-of-type {\n        vertical-align: middle;\n    }\n\n    .dataframe tbody tr th {\n        vertical-align: top;\n    }\n\n    .dataframe thead th {\n        text-align: right;\n    }\n</style>\n<table border=\"1\" class=\"dataframe\">\n  <thead>\n    <tr style=\"text-align: right;\">\n      <th></th>\n      <th>antecedents</th>\n      <th>consequents</th>\n      <th>antecedent support</th>\n      <th>consequent support</th>\n      <th>support</th>\n      <th>confidence</th>\n      <th>lift</th>\n      <th>leverage</th>\n      <th>conviction</th>\n    </tr>\n  </thead>\n  <tbody>\n    <tr>\n      <th>64</th>\n      <td>(snow patrol, radiohead, the kooks)</td>\n      <td>(the killers, muse)</td>\n      <td>0.007752</td>\n      <td>0.049331</td>\n      <td>0.007047</td>\n      <td>0.909091</td>\n      <td>18.428571</td>\n      <td>0.006665</td>\n      <td>10.457364</td>\n    </tr>\n    <tr>\n      <th>76</th>\n      <td>(snow patrol, coldplay, radiohead, the kooks)</td>\n      <td>(the killers, muse)</td>\n      <td>0.006342</td>\n      <td>0.049331</td>\n      <td>0.005638</td>\n      <td>0.888889</td>\n      <td>18.019048</td>\n      <td>0.005325</td>\n      <td>8.556025</td>\n    </tr>\n    <tr>\n      <th>115</th>\n      <td>(snow patrol, muse, radiohead, bloc party)</td>\n      <td>(coldplay, the kooks)</td>\n      <td>0.007047</td>\n      <td>0.028189</td>\n      <td>0.005638</td>\n      <td>0.800000</td>\n      <td>28.380000</td>\n      <td>0.005439</td>\n      <td>4.859056</td>\n    </tr>\n    <tr>\n      <th>117</th>\n      <td>(snow patrol, coldplay, radiohead, the kooks)</td>\n      <td>(muse, bloc party)</td>\n      <td>0.006342</td>\n      <td>0.037350</td>\n      <td>0.005638</td>\n      <td>0.888889</td>\n      <td>23.798742</td>\n      <td>0.005401</td>\n      <td>8.663848</td>\n    </tr>\n    <tr>\n      <th>134</th>\n      <td>(snow patrol, oasis, bloc party)</td>\n      <td>(coldplay, the killers)</td>\n      <td>0.007752</td>\n      <td>0.055673</td>\n      <td>0.007047</td>\n      <td>0.909091</td>\n      <td>16.329114</td>\n      <td>0.006616</td>\n      <td>10.387597</td>\n    </tr>\n    <tr>\n      <th>138</th>\n      <td>(snow patrol, oasis, bloc party)</td>\n      <td>(the killers, muse)</td>\n      <td>0.007752</td>\n      <td>0.049331</td>\n      <td>0.006342</td>\n      <td>0.818182</td>\n      <td>16.585714</td>\n      <td>0.005960</td>\n      <td>5.228682</td>\n    </tr>\n    <tr>\n      <th>144</th>\n      <td>(snow patrol, the killers, muse, oasis)</td>\n      <td>(coldplay, bloc party)</td>\n      <td>0.007752</td>\n      <td>0.038760</td>\n      <td>0.006342</td>\n      <td>0.818182</td>\n      <td>21.109091</td>\n      <td>0.006042</td>\n      <td>5.286822</td>\n    </tr>\n    <tr>\n      <th>145</th>\n      <td>(snow patrol, muse, oasis, bloc party)</td>\n      <td>(coldplay, the killers)</td>\n      <td>0.007047</td>\n      <td>0.055673</td>\n      <td>0.006342</td>\n      <td>0.900000</td>\n      <td>16.165823</td>\n      <td>0.005950</td>\n      <td>9.443270</td>\n    </tr>\n    <tr>\n      <th>147</th>\n      <td>(snow patrol, coldplay, oasis, bloc party)</td>\n      <td>(the killers, muse)</td>\n      <td>0.007752</td>\n      <td>0.049331</td>\n      <td>0.006342</td>\n      <td>0.818182</td>\n      <td>16.585714</td>\n      <td>0.005960</td>\n      <td>5.228682</td>\n    </tr>\n    <tr>\n      <th>148</th>\n      <td>(snow patrol, oasis, bloc party)</td>\n      <td>(coldplay, the killers, muse)</td>\n      <td>0.007752</td>\n      <td>0.029598</td>\n      <td>0.006342</td>\n      <td>0.818182</td>\n      <td>27.642857</td>\n      <td>0.006113</td>\n      <td>5.337209</td>\n    </tr>\n  </tbody>\n</table>\n</div>"
     },
     "execution_count": 62,
     "metadata": {},
     "output_type": "execute_result"
    }
   ],
   "source": [
    "fpgrowth_artist_rules_lift = fpgrowth_artist_rules[fpgrowth_artist_rules['lift'] > 14.696203]\n",
    "print(len(fpgrowth_artist_rules_lift))\n",
    "fpgrowth_artist_rules_lift.head(10)"
   ],
   "metadata": {
    "collapsed": false,
    "pycharm": {
     "name": "#%%\n"
    }
   }
  },
  {
   "cell_type": "markdown",
   "source": [
    "### Fpmax by confidence for artist"
   ],
   "metadata": {
    "collapsed": false
   }
  },
  {
   "cell_type": "code",
   "execution_count": 63,
   "outputs": [
    {
     "data": {
      "text/plain": "72"
     },
     "execution_count": 63,
     "metadata": {},
     "output_type": "execute_result"
    }
   ],
   "source": [
    "fpmax_artists = fpmax(piv_artist,min_support=0.05, use_colnames=True)\n",
    "len(fpmax_artists)"
   ],
   "metadata": {
    "collapsed": false,
    "pycharm": {
     "name": "#%%\n"
    }
   }
  },
  {
   "cell_type": "code",
   "execution_count": 64,
   "outputs": [
    {
     "name": "stdout",
     "output_type": "stream",
     "text": [
      "14\n"
     ]
    },
    {
     "data": {
      "text/plain": "      antecedents    consequents  antecedent support  consequent support  \\\n12     (coldplay)    (radiohead)                 NaN                 NaN   \n13    (radiohead)     (coldplay)                 NaN                 NaN   \n10         (muse)    (radiohead)                 NaN                 NaN   \n11    (radiohead)         (muse)                 NaN                 NaN   \n6   (the beatles)    (radiohead)                 NaN                 NaN   \n7     (radiohead)  (the beatles)                 NaN                 NaN   \n8      (coldplay)         (muse)                 NaN                 NaN   \n9          (muse)     (coldplay)                 NaN                 NaN   \n0      (coldplay)  (the killers)                 NaN                 NaN   \n1   (the killers)     (coldplay)                 NaN                 NaN   \n4    (pink floyd)    (radiohead)                 NaN                 NaN   \n5     (radiohead)   (pink floyd)                 NaN                 NaN   \n2       (nirvana)    (radiohead)                 NaN                 NaN   \n3     (radiohead)      (nirvana)                 NaN                 NaN   \n\n     support  confidence  lift  leverage  conviction  \n12  0.083157         NaN   NaN       NaN         NaN  \n13  0.083157         NaN   NaN       NaN         NaN  \n10  0.080338         NaN   NaN       NaN         NaN  \n11  0.080338         NaN   NaN       NaN         NaN  \n6   0.070472         NaN   NaN       NaN         NaN  \n7   0.070472         NaN   NaN       NaN         NaN  \n8   0.068358         NaN   NaN       NaN         NaN  \n9   0.068358         NaN   NaN       NaN         NaN  \n0   0.055673         NaN   NaN       NaN         NaN  \n1   0.055673         NaN   NaN       NaN         NaN  \n4   0.054968         NaN   NaN       NaN         NaN  \n5   0.054968         NaN   NaN       NaN         NaN  \n2   0.051445         NaN   NaN       NaN         NaN  \n3   0.051445         NaN   NaN       NaN         NaN  ",
      "text/html": "<div>\n<style scoped>\n    .dataframe tbody tr th:only-of-type {\n        vertical-align: middle;\n    }\n\n    .dataframe tbody tr th {\n        vertical-align: top;\n    }\n\n    .dataframe thead th {\n        text-align: right;\n    }\n</style>\n<table border=\"1\" class=\"dataframe\">\n  <thead>\n    <tr style=\"text-align: right;\">\n      <th></th>\n      <th>antecedents</th>\n      <th>consequents</th>\n      <th>antecedent support</th>\n      <th>consequent support</th>\n      <th>support</th>\n      <th>confidence</th>\n      <th>lift</th>\n      <th>leverage</th>\n      <th>conviction</th>\n    </tr>\n  </thead>\n  <tbody>\n    <tr>\n      <th>12</th>\n      <td>(coldplay)</td>\n      <td>(radiohead)</td>\n      <td>NaN</td>\n      <td>NaN</td>\n      <td>0.083157</td>\n      <td>NaN</td>\n      <td>NaN</td>\n      <td>NaN</td>\n      <td>NaN</td>\n    </tr>\n    <tr>\n      <th>13</th>\n      <td>(radiohead)</td>\n      <td>(coldplay)</td>\n      <td>NaN</td>\n      <td>NaN</td>\n      <td>0.083157</td>\n      <td>NaN</td>\n      <td>NaN</td>\n      <td>NaN</td>\n      <td>NaN</td>\n    </tr>\n    <tr>\n      <th>10</th>\n      <td>(muse)</td>\n      <td>(radiohead)</td>\n      <td>NaN</td>\n      <td>NaN</td>\n      <td>0.080338</td>\n      <td>NaN</td>\n      <td>NaN</td>\n      <td>NaN</td>\n      <td>NaN</td>\n    </tr>\n    <tr>\n      <th>11</th>\n      <td>(radiohead)</td>\n      <td>(muse)</td>\n      <td>NaN</td>\n      <td>NaN</td>\n      <td>0.080338</td>\n      <td>NaN</td>\n      <td>NaN</td>\n      <td>NaN</td>\n      <td>NaN</td>\n    </tr>\n    <tr>\n      <th>6</th>\n      <td>(the beatles)</td>\n      <td>(radiohead)</td>\n      <td>NaN</td>\n      <td>NaN</td>\n      <td>0.070472</td>\n      <td>NaN</td>\n      <td>NaN</td>\n      <td>NaN</td>\n      <td>NaN</td>\n    </tr>\n    <tr>\n      <th>7</th>\n      <td>(radiohead)</td>\n      <td>(the beatles)</td>\n      <td>NaN</td>\n      <td>NaN</td>\n      <td>0.070472</td>\n      <td>NaN</td>\n      <td>NaN</td>\n      <td>NaN</td>\n      <td>NaN</td>\n    </tr>\n    <tr>\n      <th>8</th>\n      <td>(coldplay)</td>\n      <td>(muse)</td>\n      <td>NaN</td>\n      <td>NaN</td>\n      <td>0.068358</td>\n      <td>NaN</td>\n      <td>NaN</td>\n      <td>NaN</td>\n      <td>NaN</td>\n    </tr>\n    <tr>\n      <th>9</th>\n      <td>(muse)</td>\n      <td>(coldplay)</td>\n      <td>NaN</td>\n      <td>NaN</td>\n      <td>0.068358</td>\n      <td>NaN</td>\n      <td>NaN</td>\n      <td>NaN</td>\n      <td>NaN</td>\n    </tr>\n    <tr>\n      <th>0</th>\n      <td>(coldplay)</td>\n      <td>(the killers)</td>\n      <td>NaN</td>\n      <td>NaN</td>\n      <td>0.055673</td>\n      <td>NaN</td>\n      <td>NaN</td>\n      <td>NaN</td>\n      <td>NaN</td>\n    </tr>\n    <tr>\n      <th>1</th>\n      <td>(the killers)</td>\n      <td>(coldplay)</td>\n      <td>NaN</td>\n      <td>NaN</td>\n      <td>0.055673</td>\n      <td>NaN</td>\n      <td>NaN</td>\n      <td>NaN</td>\n      <td>NaN</td>\n    </tr>\n    <tr>\n      <th>4</th>\n      <td>(pink floyd)</td>\n      <td>(radiohead)</td>\n      <td>NaN</td>\n      <td>NaN</td>\n      <td>0.054968</td>\n      <td>NaN</td>\n      <td>NaN</td>\n      <td>NaN</td>\n      <td>NaN</td>\n    </tr>\n    <tr>\n      <th>5</th>\n      <td>(radiohead)</td>\n      <td>(pink floyd)</td>\n      <td>NaN</td>\n      <td>NaN</td>\n      <td>0.054968</td>\n      <td>NaN</td>\n      <td>NaN</td>\n      <td>NaN</td>\n      <td>NaN</td>\n    </tr>\n    <tr>\n      <th>2</th>\n      <td>(nirvana)</td>\n      <td>(radiohead)</td>\n      <td>NaN</td>\n      <td>NaN</td>\n      <td>0.051445</td>\n      <td>NaN</td>\n      <td>NaN</td>\n      <td>NaN</td>\n      <td>NaN</td>\n    </tr>\n    <tr>\n      <th>3</th>\n      <td>(radiohead)</td>\n      <td>(nirvana)</td>\n      <td>NaN</td>\n      <td>NaN</td>\n      <td>0.051445</td>\n      <td>NaN</td>\n      <td>NaN</td>\n      <td>NaN</td>\n      <td>NaN</td>\n    </tr>\n  </tbody>\n</table>\n</div>"
     },
     "execution_count": 64,
     "metadata": {},
     "output_type": "execute_result"
    }
   ],
   "source": [
    "fpmax_artists_rules = association_rules(fpmax_artists, metric='support', min_threshold=0.05, support_only=True)\n",
    "print(len(fpmax_artists_rules))\n",
    "fpmax_artists_rules.sort_values('support', ascending=False)"
   ],
   "metadata": {
    "collapsed": false,
    "pycharm": {
     "name": "#%%\n"
    }
   }
  },
  {
   "cell_type": "code",
   "execution_count": 64,
   "outputs": [],
   "source": [],
   "metadata": {
    "collapsed": false,
    "pycharm": {
     "name": "#%%\n"
    }
   }
  }
 ],
 "metadata": {
  "kernelspec": {
   "display_name": "Python 3 (ipykernel)",
   "language": "python",
   "name": "python3"
  },
  "language_info": {
   "codemirror_mode": {
    "name": "ipython",
    "version": 3
   },
   "file_extension": ".py",
   "mimetype": "text/x-python",
   "name": "python",
   "nbconvert_exporter": "python",
   "pygments_lexer": "ipython3",
   "version": "3.9.7"
  }
 },
 "nbformat": 4,
 "nbformat_minor": 4
}